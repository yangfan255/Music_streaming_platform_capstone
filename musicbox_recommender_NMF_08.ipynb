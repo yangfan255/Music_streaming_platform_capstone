{
 "cells": [
  {
   "cell_type": "code",
   "execution_count": 13,
   "metadata": {},
   "outputs": [],
   "source": [
    "import os\n",
    "import warnings\n",
    "warnings.filterwarnings('ignore')\n",
    "\n",
    "from pyspark import SparkContext\n",
    "import pyspark.sql.functions as F\n",
    "from pyspark.sql.session import SparkSession\n",
    "\n",
    "import numpy as np\n",
    "import pandas as pd\n",
    "import matplotlib.pyplot as plt\n",
    "%matplotlib inline\n",
    "plt.style.use('ggplot')"
   ]
  },
  {
   "cell_type": "code",
   "execution_count": 14,
   "metadata": {},
   "outputs": [],
   "source": [
    "df = pd.read_csv('/Users/fanyang/Documents/musicbox/data/recommender_model01_0116.csv')"
   ]
  },
  {
   "cell_type": "code",
   "execution_count": 15,
   "metadata": {},
   "outputs": [
    {
     "data": {
      "text/html": [
       "<div>\n",
       "<style scoped>\n",
       "    .dataframe tbody tr th:only-of-type {\n",
       "        vertical-align: middle;\n",
       "    }\n",
       "\n",
       "    .dataframe tbody tr th {\n",
       "        vertical-align: top;\n",
       "    }\n",
       "\n",
       "    .dataframe thead th {\n",
       "        text-align: right;\n",
       "    }\n",
       "</style>\n",
       "<table border=\"1\" class=\"dataframe\">\n",
       "  <thead>\n",
       "    <tr style=\"text-align: right;\">\n",
       "      <th></th>\n",
       "      <th>Unnamed: 0</th>\n",
       "      <th>uid</th>\n",
       "      <th>song_id</th>\n",
       "      <th>comp_play_last_7</th>\n",
       "      <th>comp_play_last_14</th>\n",
       "      <th>comp_play_last_21</th>\n",
       "      <th>comp_play_last_30</th>\n",
       "      <th>comp_play_last_44</th>\n",
       "      <th>freq_P_last_7</th>\n",
       "      <th>freq_P_last_14</th>\n",
       "      <th>freq_P_last_21</th>\n",
       "      <th>freq_P_last_30</th>\n",
       "      <th>freq_P_last_44</th>\n",
       "      <th>freq_D_last_7</th>\n",
       "      <th>freq_D_last_14</th>\n",
       "      <th>freq_D_last_21</th>\n",
       "      <th>freq_D_last_30</th>\n",
       "      <th>freq_D_last_44</th>\n",
       "    </tr>\n",
       "  </thead>\n",
       "  <tbody>\n",
       "    <tr>\n",
       "      <th>0</th>\n",
       "      <td>0</td>\n",
       "      <td>103103073</td>\n",
       "      <td>572912</td>\n",
       "      <td>0</td>\n",
       "      <td>0</td>\n",
       "      <td>0</td>\n",
       "      <td>0</td>\n",
       "      <td>0</td>\n",
       "      <td>0</td>\n",
       "      <td>0</td>\n",
       "      <td>0</td>\n",
       "      <td>0</td>\n",
       "      <td>1</td>\n",
       "      <td>0</td>\n",
       "      <td>0</td>\n",
       "      <td>0</td>\n",
       "      <td>0</td>\n",
       "      <td>0</td>\n",
       "    </tr>\n",
       "    <tr>\n",
       "      <th>1</th>\n",
       "      <td>1</td>\n",
       "      <td>104737814</td>\n",
       "      <td>0</td>\n",
       "      <td>0</td>\n",
       "      <td>0</td>\n",
       "      <td>0</td>\n",
       "      <td>0</td>\n",
       "      <td>0</td>\n",
       "      <td>0</td>\n",
       "      <td>0</td>\n",
       "      <td>0</td>\n",
       "      <td>0</td>\n",
       "      <td>127</td>\n",
       "      <td>0</td>\n",
       "      <td>0</td>\n",
       "      <td>0</td>\n",
       "      <td>0</td>\n",
       "      <td>0</td>\n",
       "    </tr>\n",
       "    <tr>\n",
       "      <th>2</th>\n",
       "      <td>2</td>\n",
       "      <td>10919480</td>\n",
       "      <td>277650</td>\n",
       "      <td>2</td>\n",
       "      <td>2</td>\n",
       "      <td>2</td>\n",
       "      <td>2</td>\n",
       "      <td>3</td>\n",
       "      <td>2</td>\n",
       "      <td>2</td>\n",
       "      <td>2</td>\n",
       "      <td>2</td>\n",
       "      <td>3</td>\n",
       "      <td>0</td>\n",
       "      <td>0</td>\n",
       "      <td>0</td>\n",
       "      <td>0</td>\n",
       "      <td>1</td>\n",
       "    </tr>\n",
       "    <tr>\n",
       "      <th>3</th>\n",
       "      <td>3</td>\n",
       "      <td>10919480</td>\n",
       "      <td>389413</td>\n",
       "      <td>0</td>\n",
       "      <td>0</td>\n",
       "      <td>0</td>\n",
       "      <td>1</td>\n",
       "      <td>1</td>\n",
       "      <td>0</td>\n",
       "      <td>0</td>\n",
       "      <td>0</td>\n",
       "      <td>1</td>\n",
       "      <td>1</td>\n",
       "      <td>0</td>\n",
       "      <td>0</td>\n",
       "      <td>0</td>\n",
       "      <td>0</td>\n",
       "      <td>0</td>\n",
       "    </tr>\n",
       "    <tr>\n",
       "      <th>4</th>\n",
       "      <td>4</td>\n",
       "      <td>10919480</td>\n",
       "      <td>461313</td>\n",
       "      <td>1</td>\n",
       "      <td>2</td>\n",
       "      <td>2</td>\n",
       "      <td>2</td>\n",
       "      <td>2</td>\n",
       "      <td>1</td>\n",
       "      <td>2</td>\n",
       "      <td>2</td>\n",
       "      <td>3</td>\n",
       "      <td>6</td>\n",
       "      <td>0</td>\n",
       "      <td>0</td>\n",
       "      <td>0</td>\n",
       "      <td>0</td>\n",
       "      <td>1</td>\n",
       "    </tr>\n",
       "  </tbody>\n",
       "</table>\n",
       "</div>"
      ],
      "text/plain": [
       "   Unnamed: 0        uid song_id  comp_play_last_7  comp_play_last_14  \\\n",
       "0           0  103103073  572912                 0                  0   \n",
       "1           1  104737814       0                 0                  0   \n",
       "2           2   10919480  277650                 2                  2   \n",
       "3           3   10919480  389413                 0                  0   \n",
       "4           4   10919480  461313                 1                  2   \n",
       "\n",
       "   comp_play_last_21  comp_play_last_30  comp_play_last_44  freq_P_last_7  \\\n",
       "0                  0                  0                  0              0   \n",
       "1                  0                  0                  0              0   \n",
       "2                  2                  2                  3              2   \n",
       "3                  0                  1                  1              0   \n",
       "4                  2                  2                  2              1   \n",
       "\n",
       "   freq_P_last_14  freq_P_last_21  freq_P_last_30  freq_P_last_44  \\\n",
       "0               0               0               0               1   \n",
       "1               0               0               0             127   \n",
       "2               2               2               2               3   \n",
       "3               0               0               1               1   \n",
       "4               2               2               3               6   \n",
       "\n",
       "   freq_D_last_7  freq_D_last_14  freq_D_last_21  freq_D_last_30  \\\n",
       "0              0               0               0               0   \n",
       "1              0               0               0               0   \n",
       "2              0               0               0               0   \n",
       "3              0               0               0               0   \n",
       "4              0               0               0               0   \n",
       "\n",
       "   freq_D_last_44  \n",
       "0               0  \n",
       "1               0  \n",
       "2               1  \n",
       "3               0  \n",
       "4               1  "
      ]
     },
     "execution_count": 15,
     "metadata": {},
     "output_type": "execute_result"
    }
   ],
   "source": [
    "df.head(5)"
   ]
  },
  {
   "cell_type": "code",
   "execution_count": 16,
   "metadata": {},
   "outputs": [],
   "source": [
    "df = df.drop(columns=['Unnamed: 0'])"
   ]
  },
  {
   "cell_type": "code",
   "execution_count": 17,
   "metadata": {},
   "outputs": [
    {
     "data": {
      "text/plain": [
       "(2005120, 17)"
      ]
     },
     "execution_count": 17,
     "metadata": {},
     "output_type": "execute_result"
    }
   ],
   "source": [
    "df.shape"
   ]
  },
  {
   "cell_type": "markdown",
   "metadata": {},
   "source": [
    "### 1. validate features\n",
    "#### 1a. remove invalid 'song_id'"
   ]
  },
  {
   "cell_type": "code",
   "execution_count": 18,
   "metadata": {},
   "outputs": [],
   "source": [
    "df_song = df['song_id'].value_counts()"
   ]
  },
  {
   "cell_type": "code",
   "execution_count": 19,
   "metadata": {},
   "outputs": [
    {
     "data": {
      "text/plain": [
       "(357406,)"
      ]
     },
     "execution_count": 19,
     "metadata": {},
     "output_type": "execute_result"
    }
   ],
   "source": [
    "df_song.shape"
   ]
  },
  {
   "cell_type": "code",
   "execution_count": 20,
   "metadata": {},
   "outputs": [
    {
     "data": {
      "text/plain": [
       "0.0           11431\n",
       "15249349.0     8480\n",
       "9950164.0      7987\n",
       "6468891.0      5102\n",
       "5237384.0      4903\n",
       "Name: song_id, dtype: int64"
      ]
     },
     "execution_count": 20,
     "metadata": {},
     "output_type": "execute_result"
    }
   ],
   "source": [
    "df_song.head()"
   ]
  },
  {
   "cell_type": "code",
   "execution_count": 21,
   "metadata": {},
   "outputs": [
    {
     "data": {
      "text/plain": [
       "3297444      1\n",
       "829065.0     1\n",
       "2972729      1\n",
       "3450501      1\n",
       "4518649.0    1\n",
       "Name: song_id, dtype: int64"
      ]
     },
     "execution_count": 21,
     "metadata": {},
     "output_type": "execute_result"
    }
   ],
   "source": [
    "df_song.tail()"
   ]
  },
  {
   "cell_type": "code",
   "execution_count": 22,
   "metadata": {},
   "outputs": [
    {
     "data": {
      "text/plain": [
       "Text(0.5, 1.0, 'song_id distribution / counts')"
      ]
     },
     "execution_count": 22,
     "metadata": {},
     "output_type": "execute_result"
    },
    {
     "data": {
      "image/png": "[encoded data removed]",
      "text/plain": [
       "<Figure size 432x288 with 1 Axes>"
      ]
     },
     "metadata": {},
     "output_type": "display_data"
    }
   ],
   "source": [
    "np.log10(df_song).hist().set_title('song_id distribution / counts')"
   ]
  },
  {
   "cell_type": "code",
   "execution_count": 23,
   "metadata": {},
   "outputs": [],
   "source": [
    "df_song_select = df_song[df_song>10]"
   ]
  },
  {
   "cell_type": "code",
   "execution_count": 24,
   "metadata": {},
   "outputs": [
    {
     "data": {
      "text/plain": [
       "(25411,)"
      ]
     },
     "execution_count": 24,
     "metadata": {},
     "output_type": "execute_result"
    }
   ],
   "source": [
    "df_song_select.shape"
   ]
  },
  {
   "cell_type": "code",
   "execution_count": 25,
   "metadata": {},
   "outputs": [],
   "source": [
    "#df_select_01 = df.set_index('uid').loc[df_user_select.index].reset_index()"
   ]
  },
  {
   "cell_type": "code",
   "execution_count": 26,
   "metadata": {},
   "outputs": [],
   "source": [
    "df_select_01 = df.set_index('song_id').loc[df_song_select.index].reset_index()"
   ]
  },
  {
   "cell_type": "code",
   "execution_count": 27,
   "metadata": {},
   "outputs": [],
   "source": [
    "#df_select_01.shape"
   ]
  },
  {
   "cell_type": "code",
   "execution_count": 28,
   "metadata": {},
   "outputs": [],
   "source": [
    "# df = df.drop(df[df.score < 50].index)\n",
    "\n",
    "#df_select_02 = df = df_select_02.drop(df_select_02[df_select_02.song_id==0])\n",
    "\n",
    "#df[df.Name != 'Alisa']\n",
    "\n",
    "df_select_01 = df_select_01[df_select_01.song_id != 0]"
   ]
  },
  {
   "cell_type": "code",
   "execution_count": 29,
   "metadata": {},
   "outputs": [
    {
     "data": {
      "text/plain": [
       "(1371663, 17)"
      ]
     },
     "execution_count": 29,
     "metadata": {},
     "output_type": "execute_result"
    }
   ],
   "source": [
    "df_select_01.shape"
   ]
  },
  {
   "cell_type": "markdown",
   "metadata": {},
   "source": [
    "#### 1b. remove invalid 'uid'"
   ]
  },
  {
   "cell_type": "code",
   "execution_count": 30,
   "metadata": {},
   "outputs": [],
   "source": [
    "df_user = df['uid'].value_counts()"
   ]
  },
  {
   "cell_type": "code",
   "execution_count": 31,
   "metadata": {},
   "outputs": [
    {
     "data": {
      "text/plain": [
       "(56065,)"
      ]
     },
     "execution_count": 31,
     "metadata": {},
     "output_type": "execute_result"
    }
   ],
   "source": [
    "df_user.shape"
   ]
  },
  {
   "cell_type": "code",
   "execution_count": 32,
   "metadata": {},
   "outputs": [
    {
     "data": {
      "text/plain": [
       "169031835    2223\n",
       "168451768    1503\n",
       "168139162    1448\n",
       "168954949    1425\n",
       "168479098    1405\n",
       "Name: uid, dtype: int64"
      ]
     },
     "execution_count": 32,
     "metadata": {},
     "output_type": "execute_result"
    }
   ],
   "source": [
    "df_user.head()"
   ]
  },
  {
   "cell_type": "code",
   "execution_count": 33,
   "metadata": {},
   "outputs": [
    {
     "data": {
      "text/plain": [
       "168857186    1\n",
       "168573081    1\n",
       "168599690    1\n",
       "168028169    1\n",
       "17809415     1\n",
       "Name: uid, dtype: int64"
      ]
     },
     "execution_count": 33,
     "metadata": {},
     "output_type": "execute_result"
    }
   ],
   "source": [
    "df_user.tail()"
   ]
  },
  {
   "cell_type": "code",
   "execution_count": 34,
   "metadata": {},
   "outputs": [
    {
     "data": {
      "text/plain": [
       "Text(0.5, 1.0, 'uid distribution / counts')"
      ]
     },
     "execution_count": 34,
     "metadata": {},
     "output_type": "execute_result"
    },
    {
     "data": {
      "image/png": "[encoded data removed]",
      "text/plain": [
       "<Figure size 432x288 with 1 Axes>"
      ]
     },
     "metadata": {},
     "output_type": "display_data"
    }
   ],
   "source": [
    "np.log10(df_user).hist().set_title('uid distribution / counts')"
   ]
  },
  {
   "cell_type": "code",
   "execution_count": 35,
   "metadata": {},
   "outputs": [],
   "source": [
    "df_user_select = df_user[df_user>10]"
   ]
  },
  {
   "cell_type": "code",
   "execution_count": 36,
   "metadata": {},
   "outputs": [
    {
     "data": {
      "text/plain": [
       "(30457,)"
      ]
     },
     "execution_count": 36,
     "metadata": {},
     "output_type": "execute_result"
    }
   ],
   "source": [
    "df_user_select.shape"
   ]
  },
  {
   "cell_type": "code",
   "execution_count": 37,
   "metadata": {},
   "outputs": [],
   "source": [
    "df_select_02 = df_select_01.set_index('uid').loc[df_user_select.index].reset_index()"
   ]
  },
  {
   "cell_type": "code",
   "execution_count": 38,
   "metadata": {},
   "outputs": [
    {
     "data": {
      "text/plain": [
       "(1301133, 17)"
      ]
     },
     "execution_count": 38,
     "metadata": {},
     "output_type": "execute_result"
    }
   ],
   "source": [
    "df_select_02.shape"
   ]
  },
  {
   "cell_type": "markdown",
   "metadata": {},
   "source": [
    "### 2. select feature for model"
   ]
  },
  {
   "cell_type": "code",
   "execution_count": 39,
   "metadata": {},
   "outputs": [
    {
     "data": {
      "text/plain": [
       "Index(['uid', 'song_id', 'comp_play_last_7', 'comp_play_last_14',\n",
       "       'comp_play_last_21', 'comp_play_last_30', 'comp_play_last_44',\n",
       "       'freq_P_last_7', 'freq_P_last_14', 'freq_P_last_21', 'freq_P_last_30',\n",
       "       'freq_P_last_44', 'freq_D_last_7', 'freq_D_last_14', 'freq_D_last_21',\n",
       "       'freq_D_last_30', 'freq_D_last_44'],\n",
       "      dtype='object')"
      ]
     },
     "execution_count": 39,
     "metadata": {},
     "output_type": "execute_result"
    }
   ],
   "source": [
    "df_select_02.columns"
   ]
  },
  {
   "cell_type": "code",
   "execution_count": 40,
   "metadata": {},
   "outputs": [],
   "source": [
    "df_feature_select = df_select_02[['comp_play_last_44', 'freq_P_last_44', 'freq_D_last_44']]"
   ]
  },
  {
   "cell_type": "code",
   "execution_count": 41,
   "metadata": {},
   "outputs": [],
   "source": [
    "df_feature_select = df_feature_select.loc[((df_feature_select.comp_play_last_44) !=0 &(df_feature_select.freq_P_last_44 != 0)) | (df_feature_select.freq_D_last_44 !=0)]"
   ]
  },
  {
   "cell_type": "code",
   "execution_count": 42,
   "metadata": {},
   "outputs": [],
   "source": [
    "df_feature_select = df_feature_select.loc[((df_feature_select.comp_play_last_44) !=0 &(df_feature_select.freq_P_last_44 != 0)) | (df_feature_select.freq_D_last_44 !=0)]"
   ]
  },
  {
   "cell_type": "code",
   "execution_count": 43,
   "metadata": {},
   "outputs": [
    {
     "data": {
      "text/plain": [
       "(939781, 3)"
      ]
     },
     "execution_count": 43,
     "metadata": {},
     "output_type": "execute_result"
    }
   ],
   "source": [
    "df_feature_select.shape"
   ]
  },
  {
   "cell_type": "code",
   "execution_count": 44,
   "metadata": {},
   "outputs": [
    {
     "data": {
      "text/html": [
       "<div>\n",
       "<style scoped>\n",
       "    .dataframe tbody tr th:only-of-type {\n",
       "        vertical-align: middle;\n",
       "    }\n",
       "\n",
       "    .dataframe tbody tr th {\n",
       "        vertical-align: top;\n",
       "    }\n",
       "\n",
       "    .dataframe thead th {\n",
       "        text-align: right;\n",
       "    }\n",
       "</style>\n",
       "<table border=\"1\" class=\"dataframe\">\n",
       "  <thead>\n",
       "    <tr style=\"text-align: right;\">\n",
       "      <th></th>\n",
       "      <th>comp_play_last_44</th>\n",
       "      <th>freq_P_last_44</th>\n",
       "      <th>freq_D_last_44</th>\n",
       "    </tr>\n",
       "  </thead>\n",
       "  <tbody>\n",
       "    <tr>\n",
       "      <th>count</th>\n",
       "      <td>939635.000000</td>\n",
       "      <td>939635.000000</td>\n",
       "      <td>939635.000000</td>\n",
       "    </tr>\n",
       "    <tr>\n",
       "      <th>mean</th>\n",
       "      <td>3.203860</td>\n",
       "      <td>5.141486</td>\n",
       "      <td>0.205550</td>\n",
       "    </tr>\n",
       "    <tr>\n",
       "      <th>std</th>\n",
       "      <td>8.950775</td>\n",
       "      <td>12.313544</td>\n",
       "      <td>0.458729</td>\n",
       "    </tr>\n",
       "    <tr>\n",
       "      <th>min</th>\n",
       "      <td>0.000000</td>\n",
       "      <td>1.000000</td>\n",
       "      <td>0.000000</td>\n",
       "    </tr>\n",
       "    <tr>\n",
       "      <th>25%</th>\n",
       "      <td>1.000000</td>\n",
       "      <td>1.000000</td>\n",
       "      <td>0.000000</td>\n",
       "    </tr>\n",
       "    <tr>\n",
       "      <th>50%</th>\n",
       "      <td>1.000000</td>\n",
       "      <td>2.000000</td>\n",
       "      <td>0.000000</td>\n",
       "    </tr>\n",
       "    <tr>\n",
       "      <th>75%</th>\n",
       "      <td>3.000000</td>\n",
       "      <td>5.000000</td>\n",
       "      <td>0.000000</td>\n",
       "    </tr>\n",
       "    <tr>\n",
       "      <th>max</th>\n",
       "      <td>1629.000000</td>\n",
       "      <td>2049.000000</td>\n",
       "      <td>12.000000</td>\n",
       "    </tr>\n",
       "  </tbody>\n",
       "</table>\n",
       "</div>"
      ],
      "text/plain": [
       "       comp_play_last_44  freq_P_last_44  freq_D_last_44\n",
       "count      939635.000000   939635.000000   939635.000000\n",
       "mean            3.203860        5.141486        0.205550\n",
       "std             8.950775       12.313544        0.458729\n",
       "min             0.000000        1.000000        0.000000\n",
       "25%             1.000000        1.000000        0.000000\n",
       "50%             1.000000        2.000000        0.000000\n",
       "75%             3.000000        5.000000        0.000000\n",
       "max          1629.000000     2049.000000       12.000000"
      ]
     },
     "execution_count": 44,
     "metadata": {},
     "output_type": "execute_result"
    }
   ],
   "source": [
    "df_feature_select.describe()"
   ]
  },
  {
   "cell_type": "code",
   "execution_count": 45,
   "metadata": {},
   "outputs": [],
   "source": [
    "# take log10 of feature distribution\n",
    "df_feature_select = df_feature_select.apply(lambda x: np.log10(x+1))"
   ]
  },
  {
   "cell_type": "code",
   "execution_count": 46,
   "metadata": {},
   "outputs": [
    {
     "data": {
      "text/html": [
       "<div>\n",
       "<style scoped>\n",
       "    .dataframe tbody tr th:only-of-type {\n",
       "        vertical-align: middle;\n",
       "    }\n",
       "\n",
       "    .dataframe tbody tr th {\n",
       "        vertical-align: top;\n",
       "    }\n",
       "\n",
       "    .dataframe thead th {\n",
       "        text-align: right;\n",
       "    }\n",
       "</style>\n",
       "<table border=\"1\" class=\"dataframe\">\n",
       "  <thead>\n",
       "    <tr style=\"text-align: right;\">\n",
       "      <th></th>\n",
       "      <th>comp_play_last_44</th>\n",
       "      <th>freq_P_last_44</th>\n",
       "      <th>freq_D_last_44</th>\n",
       "    </tr>\n",
       "  </thead>\n",
       "  <tbody>\n",
       "    <tr>\n",
       "      <th>count</th>\n",
       "      <td>939635.000000</td>\n",
       "      <td>939635.000000</td>\n",
       "      <td>939635.000000</td>\n",
       "    </tr>\n",
       "    <tr>\n",
       "      <th>mean</th>\n",
       "      <td>0.463152</td>\n",
       "      <td>0.589850</td>\n",
       "      <td>0.059584</td>\n",
       "    </tr>\n",
       "    <tr>\n",
       "      <th>std</th>\n",
       "      <td>0.292325</td>\n",
       "      <td>0.344403</td>\n",
       "      <td>0.125663</td>\n",
       "    </tr>\n",
       "    <tr>\n",
       "      <th>min</th>\n",
       "      <td>0.000000</td>\n",
       "      <td>0.301030</td>\n",
       "      <td>0.000000</td>\n",
       "    </tr>\n",
       "    <tr>\n",
       "      <th>25%</th>\n",
       "      <td>0.301030</td>\n",
       "      <td>0.301030</td>\n",
       "      <td>0.000000</td>\n",
       "    </tr>\n",
       "    <tr>\n",
       "      <th>50%</th>\n",
       "      <td>0.301030</td>\n",
       "      <td>0.477121</td>\n",
       "      <td>0.000000</td>\n",
       "    </tr>\n",
       "    <tr>\n",
       "      <th>75%</th>\n",
       "      <td>0.602060</td>\n",
       "      <td>0.778151</td>\n",
       "      <td>0.000000</td>\n",
       "    </tr>\n",
       "    <tr>\n",
       "      <th>max</th>\n",
       "      <td>3.212188</td>\n",
       "      <td>3.311754</td>\n",
       "      <td>1.113943</td>\n",
       "    </tr>\n",
       "  </tbody>\n",
       "</table>\n",
       "</div>"
      ],
      "text/plain": [
       "       comp_play_last_44  freq_P_last_44  freq_D_last_44\n",
       "count      939635.000000   939635.000000   939635.000000\n",
       "mean            0.463152        0.589850        0.059584\n",
       "std             0.292325        0.344403        0.125663\n",
       "min             0.000000        0.301030        0.000000\n",
       "25%             0.301030        0.301030        0.000000\n",
       "50%             0.301030        0.477121        0.000000\n",
       "75%             0.602060        0.778151        0.000000\n",
       "max             3.212188        3.311754        1.113943"
      ]
     },
     "execution_count": 46,
     "metadata": {},
     "output_type": "execute_result"
    }
   ],
   "source": [
    "df_feature_select.describe()"
   ]
  },
  {
   "cell_type": "code",
   "execution_count": 47,
   "metadata": {},
   "outputs": [
    {
     "data": {
      "text/plain": [
       "array([[<matplotlib.axes._subplots.AxesSubplot object at 0x126f3fcc0>,\n",
       "        <matplotlib.axes._subplots.AxesSubplot object at 0x12d31a080>],\n",
       "       [<matplotlib.axes._subplots.AxesSubplot object at 0x125c062e8>,\n",
       "        <matplotlib.axes._subplots.AxesSubplot object at 0x128ff8550>]],\n",
       "      dtype=object)"
      ]
     },
     "execution_count": 47,
     "metadata": {},
     "output_type": "execute_result"
    },
    {
     "data": {
      "image/png": "[encoded data removed]",
      "text/plain": [
       "<Figure size 432x288 with 4 Axes>"
      ]
     },
     "metadata": {},
     "output_type": "display_data"
    }
   ],
   "source": [
    "df_feature_select.hist()"
   ]
  },
  {
   "cell_type": "code",
   "execution_count": 48,
   "metadata": {},
   "outputs": [
    {
     "data": {
      "text/plain": [
       "comp_play_last_44    146\n",
       "freq_P_last_44       146\n",
       "freq_D_last_44       146\n",
       "dtype: int64"
      ]
     },
     "execution_count": 48,
     "metadata": {},
     "output_type": "execute_result"
    }
   ],
   "source": [
    "#df.isna().sum()\n",
    "df_feature_select.isna().sum()"
   ]
  },
  {
   "cell_type": "code",
   "execution_count": 49,
   "metadata": {},
   "outputs": [
    {
     "data": {
      "text/plain": [
       "(939781, 3)"
      ]
     },
     "execution_count": 49,
     "metadata": {},
     "output_type": "execute_result"
    }
   ],
   "source": [
    "# before drop na\n",
    "df_feature_select.shape"
   ]
  },
  {
   "cell_type": "code",
   "execution_count": 50,
   "metadata": {},
   "outputs": [],
   "source": [
    "#data2 = data.dropna(axis =0, how = 'any')\n",
    "\n",
    "df_feature_select2 = df_feature_select.dropna(axis=0, how='any')"
   ]
  },
  {
   "cell_type": "code",
   "execution_count": 51,
   "metadata": {},
   "outputs": [
    {
     "data": {
      "text/plain": [
       "(939635, 3)"
      ]
     },
     "execution_count": 51,
     "metadata": {},
     "output_type": "execute_result"
    }
   ],
   "source": [
    "df_feature_select2.shape"
   ]
  },
  {
   "cell_type": "code",
   "execution_count": null,
   "metadata": {},
   "outputs": [],
   "source": []
  },
  {
   "cell_type": "code",
   "execution_count": 52,
   "metadata": {},
   "outputs": [],
   "source": [
    "from sklearn import preprocessing\n",
    "\n",
    "df_feature_select2 = pd.DataFrame(preprocessing.scale(df_feature_select2))"
   ]
  },
  {
   "cell_type": "code",
   "execution_count": 53,
   "metadata": {},
   "outputs": [],
   "source": [
    "df_feature_select2.columns=['comp_play_last_44_transformed', 'freq_P_last_44_transformed', 'freq_D_last_44_transformed']"
   ]
  },
  {
   "cell_type": "code",
   "execution_count": 54,
   "metadata": {},
   "outputs": [
    {
     "data": {
      "text/html": [
       "<div>\n",
       "<style scoped>\n",
       "    .dataframe tbody tr th:only-of-type {\n",
       "        vertical-align: middle;\n",
       "    }\n",
       "\n",
       "    .dataframe tbody tr th {\n",
       "        vertical-align: top;\n",
       "    }\n",
       "\n",
       "    .dataframe thead th {\n",
       "        text-align: right;\n",
       "    }\n",
       "</style>\n",
       "<table border=\"1\" class=\"dataframe\">\n",
       "  <thead>\n",
       "    <tr style=\"text-align: right;\">\n",
       "      <th></th>\n",
       "      <th>comp_play_last_44_transformed</th>\n",
       "      <th>freq_P_last_44_transformed</th>\n",
       "      <th>freq_D_last_44_transformed</th>\n",
       "    </tr>\n",
       "  </thead>\n",
       "  <tbody>\n",
       "    <tr>\n",
       "      <th>count</th>\n",
       "      <td>9.396350e+05</td>\n",
       "      <td>9.396350e+05</td>\n",
       "      <td>9.396350e+05</td>\n",
       "    </tr>\n",
       "    <tr>\n",
       "      <th>mean</th>\n",
       "      <td>4.524109e-13</td>\n",
       "      <td>-1.322555e-13</td>\n",
       "      <td>2.411534e-13</td>\n",
       "    </tr>\n",
       "    <tr>\n",
       "      <th>std</th>\n",
       "      <td>1.000001e+00</td>\n",
       "      <td>1.000001e+00</td>\n",
       "      <td>1.000001e+00</td>\n",
       "    </tr>\n",
       "    <tr>\n",
       "      <th>min</th>\n",
       "      <td>-1.584373e+00</td>\n",
       "      <td>-8.386109e-01</td>\n",
       "      <td>-4.741609e-01</td>\n",
       "    </tr>\n",
       "    <tr>\n",
       "      <th>25%</th>\n",
       "      <td>-5.545946e-01</td>\n",
       "      <td>-8.386109e-01</td>\n",
       "      <td>-4.741609e-01</td>\n",
       "    </tr>\n",
       "    <tr>\n",
       "      <th>50%</th>\n",
       "      <td>-5.545946e-01</td>\n",
       "      <td>-3.273163e-01</td>\n",
       "      <td>-4.741609e-01</td>\n",
       "    </tr>\n",
       "    <tr>\n",
       "      <th>75%</th>\n",
       "      <td>4.751836e-01</td>\n",
       "      <td>5.467475e-01</td>\n",
       "      <td>-4.741609e-01</td>\n",
       "    </tr>\n",
       "    <tr>\n",
       "      <th>max</th>\n",
       "      <td>9.404037e+00</td>\n",
       "      <td>7.903259e+00</td>\n",
       "      <td>8.390399e+00</td>\n",
       "    </tr>\n",
       "  </tbody>\n",
       "</table>\n",
       "</div>"
      ],
      "text/plain": [
       "       comp_play_last_44_transformed  freq_P_last_44_transformed  \\\n",
       "count                   9.396350e+05                9.396350e+05   \n",
       "mean                    4.524109e-13               -1.322555e-13   \n",
       "std                     1.000001e+00                1.000001e+00   \n",
       "min                    -1.584373e+00               -8.386109e-01   \n",
       "25%                    -5.545946e-01               -8.386109e-01   \n",
       "50%                    -5.545946e-01               -3.273163e-01   \n",
       "75%                     4.751836e-01                5.467475e-01   \n",
       "max                     9.404037e+00                7.903259e+00   \n",
       "\n",
       "       freq_D_last_44_transformed  \n",
       "count                9.396350e+05  \n",
       "mean                 2.411534e-13  \n",
       "std                  1.000001e+00  \n",
       "min                 -4.741609e-01  \n",
       "25%                 -4.741609e-01  \n",
       "50%                 -4.741609e-01  \n",
       "75%                 -4.741609e-01  \n",
       "max                  8.390399e+00  "
      ]
     },
     "execution_count": 54,
     "metadata": {},
     "output_type": "execute_result"
    }
   ],
   "source": [
    "df_feature_select2.describe()"
   ]
  },
  {
   "cell_type": "markdown",
   "metadata": {},
   "source": [
    "### 3. generate utility matrix"
   ]
  },
  {
   "cell_type": "code",
   "execution_count": 55,
   "metadata": {},
   "outputs": [],
   "source": [
    "df_uitility = df_select_02[['uid','song_id']].copy()"
   ]
  },
  {
   "cell_type": "code",
   "execution_count": 56,
   "metadata": {},
   "outputs": [
    {
     "data": {
      "text/plain": [
       "(1301133, 2)"
      ]
     },
     "execution_count": 56,
     "metadata": {},
     "output_type": "execute_result"
    }
   ],
   "source": [
    "df_uitility.shape"
   ]
  },
  {
   "cell_type": "code",
   "execution_count": 57,
   "metadata": {},
   "outputs": [],
   "source": [
    "df_uitility[['comp_play_last_44_transformed', \n",
    "            'freq_P_last_44_transformed', \n",
    "            'freq_D_last_44_transformed']] = df_feature_select2"
   ]
  },
  {
   "cell_type": "code",
   "execution_count": 58,
   "metadata": {},
   "outputs": [
    {
     "data": {
      "text/plain": [
       "(1301133, 5)"
      ]
     },
     "execution_count": 58,
     "metadata": {},
     "output_type": "execute_result"
    }
   ],
   "source": [
    "df_uitility.shape"
   ]
  },
  {
   "cell_type": "code",
   "execution_count": null,
   "metadata": {},
   "outputs": [],
   "source": []
  },
  {
   "cell_type": "code",
   "execution_count": 59,
   "metadata": {},
   "outputs": [],
   "source": [
    "# compare effects of weight on features\n",
    "\n",
    "# 'composition_1' : 0.333/0.333/0.333\n",
    "df_uitility['composition_1'] = 0.333*df_uitility['comp_play_last_44_transformed'] + 0.333*df_uitility['freq_P_last_44_transformed'] + 0.333*df_uitility['freq_D_last_44_transformed']\n",
    "\n",
    "# 'composition_2' : 0.25/0.25/0.5\n",
    "df_uitility['composition_2'] = 0.25*df_uitility['comp_play_last_44_transformed'] + 0.25*df_uitility['freq_P_last_44_transformed'] + 0.5*df_uitility['freq_D_last_44_transformed']\n",
    "\n",
    "# 'composition_3' : 0.1/0.1/0.8\n",
    "df_uitility['composition_3'] = 0.1*df_uitility['comp_play_last_44_transformed'] + 0.1*df_uitility['freq_P_last_44_transformed'] + 0.8*df_uitility['freq_D_last_44_transformed']\n",
    "\n",
    "# 'composition_4' : 0.4/0.4/0.2\n",
    "df_uitility['composition_4'] = 0.4*df_uitility['comp_play_last_44_transformed'] + 0.4*df_uitility['freq_P_last_44_transformed'] + 0.2*df_uitility['freq_D_last_44_transformed']\n"
   ]
  },
  {
   "cell_type": "code",
   "execution_count": 60,
   "metadata": {},
   "outputs": [],
   "source": [
    "df_compositions = df_uitility[['composition_1', 'composition_2', 'composition_3', 'composition_4']]"
   ]
  },
  {
   "cell_type": "code",
   "execution_count": 61,
   "metadata": {},
   "outputs": [
    {
     "data": {
      "image/png": "[encoded data removed]",
      "text/plain": [
       "<Figure size 216x576 with 4 Axes>"
      ]
     },
     "metadata": {},
     "output_type": "display_data"
    }
   ],
   "source": [
    "ax = df_compositions.plot(kind='hist',subplots=True,sharex=True,sharey=True,title='utility distribution from different weight composition', figsize = (3,8))"
   ]
  },
  {
   "cell_type": "code",
   "execution_count": null,
   "metadata": {},
   "outputs": [],
   "source": []
  },
  {
   "cell_type": "code",
   "execution_count": 62,
   "metadata": {},
   "outputs": [
    {
     "data": {
      "text/plain": [
       "array([[<matplotlib.axes._subplots.AxesSubplot object at 0x123eb4780>,\n",
       "        <matplotlib.axes._subplots.AxesSubplot object at 0x1283e2160>],\n",
       "       [<matplotlib.axes._subplots.AxesSubplot object at 0x1284076d8>,\n",
       "        <matplotlib.axes._subplots.AxesSubplot object at 0x12842fc50>]],\n",
       "      dtype=object)"
      ]
     },
     "execution_count": 62,
     "metadata": {},
     "output_type": "execute_result"
    },
    {
     "data": {
      "image/png": "[encoded data removed]",
      "text/plain": [
       "<Figure size 576x576 with 4 Axes>"
      ]
     },
     "metadata": {},
     "output_type": "display_data"
    }
   ],
   "source": [
    "fig = plt.figure(figsize = (8,8))\n",
    "ax = fig.gca()\n",
    "df_compositions.hist(ax=ax)"
   ]
  },
  {
   "cell_type": "markdown",
   "metadata": {},
   "source": [
    "#### based on plots above, I will use composition_1 for segement 'utility' into bins"
   ]
  },
  {
   "cell_type": "code",
   "execution_count": 63,
   "metadata": {},
   "outputs": [
    {
     "data": {
      "text/plain": [
       "0.10   -0.621833\n",
       "0.20   -0.621833\n",
       "0.25   -0.621833\n",
       "0.40   -0.451572\n",
       "0.50   -0.250979\n",
       "0.60   -0.130177\n",
       "0.75    0.346144\n",
       "0.80    0.553262\n",
       "0.99    2.568896\n",
       "Name: composition_1, dtype: float64"
      ]
     },
     "execution_count": 63,
     "metadata": {},
     "output_type": "execute_result"
    }
   ],
   "source": [
    "# use weight_1 composition\n",
    "(df_uitility['composition_1']).quantile([0.1, 0.2, 0.25, 0.4, 0.5, 0.6, 0.75, 0.8, 0.99])"
   ]
  },
  {
   "cell_type": "code",
   "execution_count": 64,
   "metadata": {},
   "outputs": [
    {
     "name": "stdout",
     "output_type": "stream",
     "text": [
      "the minimal of utility is:  -0.6218330137651087 \n",
      "the maximal of utility is:  6.233439445102739\n"
     ]
    }
   ],
   "source": [
    "uitility_min = np.min(df_uitility['composition_1'])\n",
    "uitility_max = np.max(df_uitility['composition_1'])\n",
    "print('the minimal of utility is: ', uitility_min, '\\n'\n",
    "     'the maximal of utility is: ', uitility_max)"
   ]
  },
  {
   "cell_type": "markdown",
   "metadata": {},
   "source": [
    "### 4a. generate implicity ratings that are skewed"
   ]
  },
  {
   "cell_type": "code",
   "execution_count": 101,
   "metadata": {},
   "outputs": [
    {
     "data": {
      "text/plain": [
       "1         0\n",
       "2         0\n",
       "3    193369\n",
       "4    209390\n",
       "5    186260\n",
       "Name: ratings_1, dtype: int64"
      ]
     },
     "execution_count": 101,
     "metadata": {},
     "output_type": "execute_result"
    }
   ],
   "source": [
    "# utility_bin_1: segament by using different quantile\n",
    "# generate ratings that follow left skewed, which is similar to original feature distribution. \n",
    "\n",
    "#### 'ratings_1' is follow quantile([0.2, 0.4, 0.6, 0.8])\n",
    "\n",
    "\n",
    "utility_bin_1 = np.array([uitility_min, -0.621833,\n",
    "                          -0.451572, -0.130177,\n",
    "                          0.553262, uitility_max])\n",
    "\n",
    "df_uitility['ratings_1'] = pd.cut(df_uitility['composition_1'], utility_bin_1, labels=np.arange(1,6))\n",
    "df_uitility['ratings_1'].value_counts().sort_index()"
   ]
  },
  {
   "cell_type": "code",
   "execution_count": null,
   "metadata": {},
   "outputs": [],
   "source": [
    "(df_uitility['weight_1']).quantile([0.3, 0.5, 0.7, 0.9])"
   ]
  },
  {
   "cell_type": "code",
   "execution_count": 102,
   "metadata": {},
   "outputs": [
    {
     "data": {
      "text/plain": [
       "1         0\n",
       "2     98401\n",
       "3    209669\n",
       "4    186678\n",
       "5     94271\n",
       "Name: ratings_2, dtype: int64"
      ]
     },
     "execution_count": 102,
     "metadata": {},
     "output_type": "execute_result"
    }
   ],
   "source": [
    "#### 'ratings_2' is follow quantile([0.3, 0.5, 0.7, 0.9])\n",
    "\n",
    "utility_bin_2 = np.array([uitility_min, -0.621833,\n",
    "                          -0.250979, 0.175883,\n",
    "                          1.150384, uitility_max])\n",
    "df_uitility['ratings_2'] = pd.cut(df_uitility['composition_1'], utility_bin_2, labels=np.arange(1,6))\n",
    "df_uitility['ratings_2'].value_counts().sort_index()"
   ]
  },
  {
   "cell_type": "code",
   "execution_count": null,
   "metadata": {},
   "outputs": [],
   "source": []
  },
  {
   "cell_type": "code",
   "execution_count": 68,
   "metadata": {},
   "outputs": [
    {
     "data": {
      "text/plain": [
       "0.40   -0.451572\n",
       "0.60   -0.130177\n",
       "0.80    0.553262\n",
       "0.95    1.647046\n",
       "Name: composition_1, dtype: float64"
      ]
     },
     "execution_count": 68,
     "metadata": {},
     "output_type": "execute_result"
    }
   ],
   "source": [
    "(df_uitility['composition_1']).quantile([0.4, 0.6, 0.8, 0.95])"
   ]
  },
  {
   "cell_type": "code",
   "execution_count": 103,
   "metadata": {},
   "outputs": [
    {
     "data": {
      "text/plain": [
       "1         0\n",
       "2    193369\n",
       "3    209390\n",
       "4    139307\n",
       "5     46953\n",
       "Name: ratings_3, dtype: int64"
      ]
     },
     "execution_count": 103,
     "metadata": {},
     "output_type": "execute_result"
    }
   ],
   "source": [
    "#### 'ratings_3' is follow quantile([0.4, 0.6, 0.8, 0.95])\n",
    "\n",
    "utility_bin_3 = np.array([uitility_min, -0.451572,\n",
    "                          -0.130177, 0.553262,\n",
    "                          1.647046, uitility_max])\n",
    "df_uitility['ratings_3'] = pd.cut(df_uitility['composition_1'], utility_bin_3, labels=np.arange(1,6))\n",
    "df_uitility['ratings_3'].value_counts().sort_index()"
   ]
  },
  {
   "cell_type": "code",
   "execution_count": null,
   "metadata": {},
   "outputs": [],
   "source": []
  },
  {
   "cell_type": "code",
   "execution_count": 156,
   "metadata": {},
   "outputs": [
    {
     "data": {
      "text/plain": [
       "0.55   -0.237068\n",
       "0.72    0.217731\n",
       "0.85    0.809862\n",
       "0.95    1.647046\n",
       "Name: composition_1, dtype: float64"
      ]
     },
     "execution_count": 156,
     "metadata": {},
     "output_type": "execute_result"
    }
   ],
   "source": [
    "(df_uitility['composition_1']).quantile([0.55, 0.72, 0.85, 0.95])"
   ]
  },
  {
   "cell_type": "code",
   "execution_count": 157,
   "metadata": {},
   "outputs": [
    {
     "data": {
      "text/plain": [
       "1    174164\n",
       "2    150870\n",
       "3    120565\n",
       "4     96467\n",
       "5     46953\n",
       "Name: ratings_4, dtype: int64"
      ]
     },
     "execution_count": 157,
     "metadata": {},
     "output_type": "execute_result"
    }
   ],
   "source": [
    "#### 'ratings_4' is follow quantile([0.55, 0.72, 0.85, 0.95])\n",
    "\n",
    "utility_bin_4 = np.array([uitility_min, -0.237068,\n",
    "                         0.217731, 0.809862,\n",
    "                          1.647046, uitility_max])\n",
    "df_uitility['ratings_4'] = pd.cut(df_uitility['composition_1'], utility_bin_4, labels=np.arange(1,6))\n",
    "df_uitility['ratings_4'].value_counts().sort_index()"
   ]
  },
  {
   "cell_type": "code",
   "execution_count": 158,
   "metadata": {},
   "outputs": [
    {
     "data": {
      "text/plain": [
       "Text(0.5, 1.0, 'ratings_4')"
      ]
     },
     "execution_count": 158,
     "metadata": {},
     "output_type": "execute_result"
    },
    {
     "data": {
      "image/png": "[encoded data removed]",
      "text/plain": [
       "<Figure size 432x288 with 1 Axes>"
      ]
     },
     "metadata": {},
     "output_type": "display_data"
    }
   ],
   "source": [
    "df_uitility['ratings_4'].value_counts().sort_index().plot(kind='bar').set_title('ratings_4')"
   ]
  },
  {
   "cell_type": "markdown",
   "metadata": {},
   "source": [
    "### 4b. generate implicity ratings that not skewed"
   ]
  },
  {
   "cell_type": "code",
   "execution_count": 77,
   "metadata": {},
   "outputs": [
    {
     "data": {
      "text/plain": [
       "3    219841\n",
       "2    142310\n",
       "4    132598\n",
       "1     72746\n",
       "5     21524\n",
       "Name: ratings_5, dtype: int64"
      ]
     },
     "execution_count": 77,
     "metadata": {},
     "output_type": "execute_result"
    }
   ],
   "source": [
    "step_size = (uitility_max - uitility_min) / 20\n",
    "\n",
    "utility_bin_5 = np.array([uitility_min,uitility_min+step_size*0.5,\n",
    "                         uitility_min+step_size*1.5, uitility_min+step_size*4,\n",
    "                         uitility_min+step_size*8, uitility_max])\n",
    "\n",
    "df_uitility['ratings_5'] = pd.cut(df_uitility['composition_1'], utility_bin_5, labels=np.arange(1,6))\n",
    "df_uitility['ratings_5'].value_counts()"
   ]
  },
  {
   "cell_type": "code",
   "execution_count": null,
   "metadata": {},
   "outputs": [],
   "source": []
  },
  {
   "cell_type": "code",
   "execution_count": 78,
   "metadata": {},
   "outputs": [
    {
     "data": {
      "text/plain": [
       "Text(0.5, 1.0, 'ratings_5')"
      ]
     },
     "execution_count": 78,
     "metadata": {},
     "output_type": "execute_result"
    },
    {
     "data": {
      "image/png": "[encoded data removed]",
      "text/plain": [
       "<Figure size 432x288 with 1 Axes>"
      ]
     },
     "metadata": {},
     "output_type": "display_data"
    }
   ],
   "source": [
    "df_uitility['ratings_5'].value_counts().sort_index().plot(kind='bar').set_title('ratings_5')"
   ]
  },
  {
   "cell_type": "code",
   "execution_count": 159,
   "metadata": {},
   "outputs": [],
   "source": [
    "df_rating_4 = df_uitility[['uid','song_id','ratings_4']]\n",
    "df_rating_5 = df_uitility[['uid','song_id','ratings_5']]"
   ]
  },
  {
   "cell_type": "code",
   "execution_count": 160,
   "metadata": {},
   "outputs": [
    {
     "data": {
      "text/plain": [
       "uid               0\n",
       "song_id         146\n",
       "ratings_4    712114\n",
       "dtype: int64"
      ]
     },
     "execution_count": 160,
     "metadata": {},
     "output_type": "execute_result"
    }
   ],
   "source": [
    "df_rating_4.isna().sum()"
   ]
  },
  {
   "cell_type": "code",
   "execution_count": 81,
   "metadata": {},
   "outputs": [
    {
     "data": {
      "text/plain": [
       "uid               0\n",
       "song_id         146\n",
       "ratings_5    712114\n",
       "dtype: int64"
      ]
     },
     "execution_count": 81,
     "metadata": {},
     "output_type": "execute_result"
    }
   ],
   "source": [
    "df_rating_5.isna().sum()"
   ]
  },
  {
   "cell_type": "code",
   "execution_count": 161,
   "metadata": {},
   "outputs": [],
   "source": [
    "df_rating_4 =  df_rating_4.dropna(axis=0, how='any')\n",
    "df_rating_5 =  df_rating_5.dropna(axis=0, how='any')"
   ]
  },
  {
   "cell_type": "code",
   "execution_count": null,
   "metadata": {},
   "outputs": [],
   "source": [
    "df_rating_4.to_csv(\"/Users/fanyang/Documents/musicbox/data/musicbox_rating_4_0119.csv\")\n",
    "df_rating_5.to_csv(\"/Users/fanyang/Documents/musicbox/data/musicbox_rating_5_0119.csv\")"
   ]
  },
  {
   "cell_type": "code",
   "execution_count": null,
   "metadata": {},
   "outputs": [],
   "source": [
    "\n",
    "### others ####\n",
    "6.465753692312682\n",
    "2.2273256750570636\n",
    "# seems that bin is not problem\n",
    "\n",
    "#step_size = (uitility_max - uitility_min) / 15\n",
    "\n",
    "#utility_bins = np.array([uitility_min,uitility_min+step_size*0.5,\n",
    "#                         uitility_min+step_size*1, uitility_min+step_size*7,\n",
    "#                         uitility_min+step_size*7, uitility_max])"
   ]
  },
  {
   "cell_type": "code",
   "execution_count": null,
   "metadata": {},
   "outputs": [],
   "source": []
  },
  {
   "cell_type": "code",
   "execution_count": 162,
   "metadata": {},
   "outputs": [
    {
     "name": "stdout",
     "output_type": "stream",
     "text": [
      "<class 'pandas.core.frame.DataFrame'>\n",
      "Int64Index: 589004 entries, 0 to 939631\n",
      "Data columns (total 3 columns):\n",
      "uid          589004 non-null int64\n",
      "song_id      589004 non-null object\n",
      "ratings_4    589004 non-null category\n",
      "dtypes: category(1), int64(1), object(1)\n",
      "memory usage: 14.0+ MB\n"
     ]
    }
   ],
   "source": [
    "df_rating_4.info()"
   ]
  },
  {
   "cell_type": "code",
   "execution_count": 163,
   "metadata": {},
   "outputs": [],
   "source": [
    "df_rating_4['ratings_4'] = df_rating_4['ratings_4'].astype(int)\n",
    "df_rating_4['song_id'] = df_rating_4['song_id'].astype(int)"
   ]
  },
  {
   "cell_type": "code",
   "execution_count": 164,
   "metadata": {},
   "outputs": [
    {
     "name": "stdout",
     "output_type": "stream",
     "text": [
      "<class 'pandas.core.frame.DataFrame'>\n",
      "Int64Index: 589004 entries, 0 to 939631\n",
      "Data columns (total 3 columns):\n",
      "uid          589004 non-null int64\n",
      "song_id      589004 non-null int64\n",
      "ratings_4    589004 non-null int64\n",
      "dtypes: int64(3)\n",
      "memory usage: 18.0 MB\n"
     ]
    }
   ],
   "source": [
    "df_rating_4.info()"
   ]
  },
  {
   "cell_type": "code",
   "execution_count": null,
   "metadata": {},
   "outputs": [],
   "source": []
  },
  {
   "cell_type": "markdown",
   "metadata": {},
   "source": [
    "### generate utility matrix"
   ]
  },
  {
   "cell_type": "code",
   "execution_count": 165,
   "metadata": {},
   "outputs": [],
   "source": [
    "df_utility_4 = pd.pivot_table(data=df_rating_4,\n",
    "                           index='uid',\n",
    "                           values='ratings_4',\n",
    "                           columns='song_id',\n",
    "                           fill_value=0)"
   ]
  },
  {
   "cell_type": "code",
   "execution_count": 166,
   "metadata": {},
   "outputs": [
    {
     "data": {
      "text/plain": [
       "(10810, 23249)"
      ]
     },
     "execution_count": 166,
     "metadata": {},
     "output_type": "execute_result"
    }
   ],
   "source": [
    "df_utility_4.shape"
   ]
  },
  {
   "cell_type": "code",
   "execution_count": 167,
   "metadata": {},
   "outputs": [
    {
     "data": {
      "text/html": [
       "<div>\n",
       "<style scoped>\n",
       "    .dataframe tbody tr th:only-of-type {\n",
       "        vertical-align: middle;\n",
       "    }\n",
       "\n",
       "    .dataframe tbody tr th {\n",
       "        vertical-align: top;\n",
       "    }\n",
       "\n",
       "    .dataframe thead th {\n",
       "        text-align: right;\n",
       "    }\n",
       "</style>\n",
       "<table border=\"1\" class=\"dataframe\">\n",
       "  <thead>\n",
       "    <tr style=\"text-align: right;\">\n",
       "      <th>song_id</th>\n",
       "      <th>0</th>\n",
       "      <th>1614</th>\n",
       "      <th>1672</th>\n",
       "      <th>2919</th>\n",
       "      <th>7251</th>\n",
       "      <th>54258</th>\n",
       "      <th>54279</th>\n",
       "      <th>54387</th>\n",
       "      <th>54390</th>\n",
       "      <th>54394</th>\n",
       "      <th>...</th>\n",
       "      <th>24016350</th>\n",
       "      <th>24016907</th>\n",
       "      <th>24016908</th>\n",
       "      <th>24016934</th>\n",
       "      <th>24017105</th>\n",
       "      <th>24017106</th>\n",
       "      <th>24018603</th>\n",
       "      <th>24019502</th>\n",
       "      <th>24021312</th>\n",
       "      <th>24021436</th>\n",
       "    </tr>\n",
       "    <tr>\n",
       "      <th>uid</th>\n",
       "      <th></th>\n",
       "      <th></th>\n",
       "      <th></th>\n",
       "      <th></th>\n",
       "      <th></th>\n",
       "      <th></th>\n",
       "      <th></th>\n",
       "      <th></th>\n",
       "      <th></th>\n",
       "      <th></th>\n",
       "      <th></th>\n",
       "      <th></th>\n",
       "      <th></th>\n",
       "      <th></th>\n",
       "      <th></th>\n",
       "      <th></th>\n",
       "      <th></th>\n",
       "      <th></th>\n",
       "      <th></th>\n",
       "      <th></th>\n",
       "      <th></th>\n",
       "    </tr>\n",
       "  </thead>\n",
       "  <tbody>\n",
       "    <tr>\n",
       "      <th>932869</th>\n",
       "      <td>0</td>\n",
       "      <td>0</td>\n",
       "      <td>0</td>\n",
       "      <td>0</td>\n",
       "      <td>0</td>\n",
       "      <td>0</td>\n",
       "      <td>0</td>\n",
       "      <td>0</td>\n",
       "      <td>0</td>\n",
       "      <td>0</td>\n",
       "      <td>...</td>\n",
       "      <td>0</td>\n",
       "      <td>0</td>\n",
       "      <td>0</td>\n",
       "      <td>0</td>\n",
       "      <td>0</td>\n",
       "      <td>0</td>\n",
       "      <td>0</td>\n",
       "      <td>0</td>\n",
       "      <td>0</td>\n",
       "      <td>0</td>\n",
       "    </tr>\n",
       "    <tr>\n",
       "      <th>1349791</th>\n",
       "      <td>0</td>\n",
       "      <td>0</td>\n",
       "      <td>0</td>\n",
       "      <td>0</td>\n",
       "      <td>0</td>\n",
       "      <td>0</td>\n",
       "      <td>0</td>\n",
       "      <td>0</td>\n",
       "      <td>0</td>\n",
       "      <td>0</td>\n",
       "      <td>...</td>\n",
       "      <td>0</td>\n",
       "      <td>0</td>\n",
       "      <td>0</td>\n",
       "      <td>0</td>\n",
       "      <td>0</td>\n",
       "      <td>0</td>\n",
       "      <td>0</td>\n",
       "      <td>0</td>\n",
       "      <td>0</td>\n",
       "      <td>0</td>\n",
       "    </tr>\n",
       "    <tr>\n",
       "      <th>1809207</th>\n",
       "      <td>0</td>\n",
       "      <td>0</td>\n",
       "      <td>0</td>\n",
       "      <td>0</td>\n",
       "      <td>0</td>\n",
       "      <td>0</td>\n",
       "      <td>0</td>\n",
       "      <td>0</td>\n",
       "      <td>0</td>\n",
       "      <td>0</td>\n",
       "      <td>...</td>\n",
       "      <td>0</td>\n",
       "      <td>0</td>\n",
       "      <td>0</td>\n",
       "      <td>0</td>\n",
       "      <td>0</td>\n",
       "      <td>0</td>\n",
       "      <td>0</td>\n",
       "      <td>0</td>\n",
       "      <td>0</td>\n",
       "      <td>0</td>\n",
       "    </tr>\n",
       "    <tr>\n",
       "      <th>2163514</th>\n",
       "      <td>0</td>\n",
       "      <td>0</td>\n",
       "      <td>0</td>\n",
       "      <td>0</td>\n",
       "      <td>0</td>\n",
       "      <td>0</td>\n",
       "      <td>0</td>\n",
       "      <td>0</td>\n",
       "      <td>0</td>\n",
       "      <td>0</td>\n",
       "      <td>...</td>\n",
       "      <td>0</td>\n",
       "      <td>0</td>\n",
       "      <td>0</td>\n",
       "      <td>0</td>\n",
       "      <td>0</td>\n",
       "      <td>0</td>\n",
       "      <td>0</td>\n",
       "      <td>0</td>\n",
       "      <td>0</td>\n",
       "      <td>0</td>\n",
       "    </tr>\n",
       "    <tr>\n",
       "      <th>4030958</th>\n",
       "      <td>1</td>\n",
       "      <td>0</td>\n",
       "      <td>0</td>\n",
       "      <td>0</td>\n",
       "      <td>0</td>\n",
       "      <td>0</td>\n",
       "      <td>0</td>\n",
       "      <td>0</td>\n",
       "      <td>0</td>\n",
       "      <td>0</td>\n",
       "      <td>...</td>\n",
       "      <td>0</td>\n",
       "      <td>0</td>\n",
       "      <td>0</td>\n",
       "      <td>0</td>\n",
       "      <td>0</td>\n",
       "      <td>0</td>\n",
       "      <td>0</td>\n",
       "      <td>0</td>\n",
       "      <td>0</td>\n",
       "      <td>0</td>\n",
       "    </tr>\n",
       "  </tbody>\n",
       "</table>\n",
       "<p>5 rows × 23249 columns</p>\n",
       "</div>"
      ],
      "text/plain": [
       "song_id  0         1614      1672      2919      7251      54258     54279     \\\n",
       "uid                                                                             \n",
       "932869          0         0         0         0         0         0         0   \n",
       "1349791         0         0         0         0         0         0         0   \n",
       "1809207         0         0         0         0         0         0         0   \n",
       "2163514         0         0         0         0         0         0         0   \n",
       "4030958         1         0         0         0         0         0         0   \n",
       "\n",
       "song_id  54387     54390     54394       ...     24016350  24016907  24016908  \\\n",
       "uid                                      ...                                    \n",
       "932869          0         0         0    ...            0         0         0   \n",
       "1349791         0         0         0    ...            0         0         0   \n",
       "1809207         0         0         0    ...            0         0         0   \n",
       "2163514         0         0         0    ...            0         0         0   \n",
       "4030958         0         0         0    ...            0         0         0   \n",
       "\n",
       "song_id  24016934  24017105  24017106  24018603  24019502  24021312  24021436  \n",
       "uid                                                                            \n",
       "932869          0         0         0         0         0         0         0  \n",
       "1349791         0         0         0         0         0         0         0  \n",
       "1809207         0         0         0         0         0         0         0  \n",
       "2163514         0         0         0         0         0         0         0  \n",
       "4030958         0         0         0         0         0         0         0  \n",
       "\n",
       "[5 rows x 23249 columns]"
      ]
     },
     "execution_count": 167,
     "metadata": {},
     "output_type": "execute_result"
    }
   ],
   "source": [
    "df_utility_4.head(5)"
   ]
  },
  {
   "cell_type": "code",
   "execution_count": 168,
   "metadata": {},
   "outputs": [],
   "source": [
    "df_mat_4 = df_utility_4.as_matrix()"
   ]
  },
  {
   "cell_type": "code",
   "execution_count": 169,
   "metadata": {},
   "outputs": [
    {
     "data": {
      "text/plain": [
       "(10810, 23249)"
      ]
     },
     "execution_count": 169,
     "metadata": {},
     "output_type": "execute_result"
    }
   ],
   "source": [
    "df_mat_4.shape"
   ]
  },
  {
   "cell_type": "code",
   "execution_count": 170,
   "metadata": {},
   "outputs": [],
   "source": [
    "# compress sparse row matrix\n",
    "\n",
    "from scipy import sparse\n",
    "rating_mat_4 = sparse.csr_matrix(df_mat_4)"
   ]
  },
  {
   "cell_type": "code",
   "execution_count": 171,
   "metadata": {},
   "outputs": [
    {
     "data": {
      "text/plain": [
       "<10810x23249 sparse matrix of type '<class 'numpy.int64'>'\n",
       "\twith 589004 stored elements in Compressed Sparse Row format>"
      ]
     },
     "execution_count": 171,
     "metadata": {},
     "output_type": "execute_result"
    }
   ],
   "source": [
    "rating_mat_4"
   ]
  },
  {
   "cell_type": "code",
   "execution_count": null,
   "metadata": {},
   "outputs": [],
   "source": []
  },
  {
   "cell_type": "code",
   "execution_count": 172,
   "metadata": {},
   "outputs": [
    {
     "name": "stdout",
     "output_type": "stream",
     "text": [
      "1858.3166965461949\n",
      "(10810, 200) (200, 23249)\n"
     ]
    }
   ],
   "source": [
    "from sklearn.decomposition import NMF\n",
    "\n",
    "def fit_nmf(M,k):\n",
    "    nmf = NMF(n_components=k)\n",
    "    nmf.fit(M)\n",
    "    W = nmf.transform(M);\n",
    "    H = nmf.components_;\n",
    "    err = nmf.reconstruction_err_\n",
    "    return W,H,err\n",
    "\n",
    "# decompose\n",
    "W,H,err = fit_nmf(rating_mat_4,200)\n",
    "print(err)\n",
    "print(W.shape,H.shape)"
   ]
  },
  {
   "cell_type": "code",
   "execution_count": 173,
   "metadata": {},
   "outputs": [
    {
     "name": "stdout",
     "output_type": "stream",
     "text": [
      "result based on rating_4\n",
      "5.35750278830284\n",
      "1.8890525962288744\n"
     ]
    }
   ],
   "source": [
    "# reconstruct\n",
    "rating_mat_fitted_4 = W.dot(H)\n",
    "errs = np.array((rating_mat_4-rating_mat_fitted_4).flatten()).squeeze()\n",
    "mask = np.array((rating_mat_4.todense()).flatten()).squeeze()>0\n",
    "\n",
    "mse = np.mean(errs[mask]**2)\n",
    "average_abs_err = abs(errs[mask]).mean()\n",
    "print(\"result based on rating_4\")\n",
    "print(mse)\n",
    "print(average_abs_err)"
   ]
  },
  {
   "cell_type": "markdown",
   "metadata": {},
   "source": [
    "### Do the same way for rating_5"
   ]
  },
  {
   "cell_type": "code",
   "execution_count": 96,
   "metadata": {},
   "outputs": [
    {
     "name": "stdout",
     "output_type": "stream",
     "text": [
      "1991.7345761934034\n",
      "(10810, 200) (200, 23249)\n"
     ]
    }
   ],
   "source": [
    "df_rating_5['ratings_5'] = df_rating_5['ratings_5'].astype(int)\n",
    "df_rating_5['song_id'] = df_rating_5['song_id'].astype(int)\n",
    "\n",
    "df_utility_5 = pd.pivot_table(data=df_rating_5,\n",
    "                           index='uid',\n",
    "                           values='ratings_5',\n",
    "                           columns='song_id',\n",
    "                           fill_value=0)\n",
    "\n",
    "df_mat_5 = df_utility_5.as_matrix()\n",
    "\n",
    "rating_mat_5 = sparse.csr_matrix(df_mat_5)\n",
    "\n",
    "W,H,err = fit_nmf(rating_mat_5,200)\n",
    "print(err)\n",
    "print(W.shape,H.shape)"
   ]
  },
  {
   "cell_type": "code",
   "execution_count": 98,
   "metadata": {},
   "outputs": [
    {
     "name": "stdout",
     "output_type": "stream",
     "text": [
      "result based on rating_5\n",
      "6.128204526164795\n",
      "2.131665743833565\n"
     ]
    }
   ],
   "source": [
    "rating_mat_fitted_5 = W.dot(H)\n",
    "errs = np.array((rating_mat_5-rating_mat_fitted_5).flatten()).squeeze()\n",
    "mask = np.array((rating_mat_5.todense()).flatten()).squeeze()>0\n",
    "\n",
    "mse = np.mean(errs[mask]**2)\n",
    "average_abs_err = abs(errs[mask]).mean()\n",
    "print(\"result based on rating_5\")\n",
    "print(mse)\n",
    "print(average_abs_err)"
   ]
  }
 ],
 "metadata": {
  "kernelspec": {
   "display_name": "Python 3",
   "language": "python",
   "name": "python3"
  },
  "language_info": {
   "codemirror_mode": {
    "name": "ipython",
    "version": 3
   },
   "file_extension": ".py",
   "mimetype": "text/x-python",
   "name": "python",
   "nbconvert_exporter": "python",
   "pygments_lexer": "ipython3",
   "version": "3.7.1"
  }
 },
 "nbformat": 4,
 "nbformat_minor": 2
}
