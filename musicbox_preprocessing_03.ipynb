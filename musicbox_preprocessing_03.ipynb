{
 "cells": [
  {
   "cell_type": "markdown",
   "metadata": {},
   "source": [
    "### use shell script to count unique id (large file, slow)"
   ]
  },
  {
   "cell_type": "code",
   "execution_count": 1,
   "metadata": {},
   "outputs": [
    {
     "data": {
      "text/plain": [
       "0"
      ]
     },
     "execution_count": 1,
     "metadata": {},
     "output_type": "execute_result"
    }
   ],
   "source": [
    "import os\n",
    "cmd=\"\"\"\n",
    "export LC_CTYPE=C \n",
    "export LANG=C\n",
    "# get uid field| sort | count unique ids | strip blank spaces | output to file\n",
    "cat ../data/play/all_play_log| cut -f1 -d$'\\t'| sort | uniq -c | sed -e 's/^ *//g;s/ *$//g'> ../data/uid_count.csv\n",
    "\"\"\"\n",
    "os.system(cmd)"
   ]
  },
  {
   "cell_type": "code",
   "execution_count": 7,
   "metadata": {},
   "outputs": [],
   "source": [
    "import numpy as np\n",
    "import pandas as pd\n",
    "import matplotlib.pyplot as plt\n",
    "%matplotlib inline"
   ]
  },
  {
   "cell_type": "code",
   "execution_count": 3,
   "metadata": {},
   "outputs": [],
   "source": [
    "df = pd.read_csv('/Users/fanyang/Documents/musicbox/data/uid_count.csv', \n",
    "                 sep='\\s+', names=['count', 'uid'])"
   ]
  },
  {
   "cell_type": "code",
   "execution_count": 14,
   "metadata": {},
   "outputs": [
    {
     "data": {
      "text/html": [
       "<div>\n",
       "<style scoped>\n",
       "    .dataframe tbody tr th:only-of-type {\n",
       "        vertical-align: middle;\n",
       "    }\n",
       "\n",
       "    .dataframe tbody tr th {\n",
       "        vertical-align: top;\n",
       "    }\n",
       "\n",
       "    .dataframe thead th {\n",
       "        text-align: right;\n",
       "    }\n",
       "</style>\n",
       "<table border=\"1\" class=\"dataframe\">\n",
       "  <thead>\n",
       "    <tr style=\"text-align: right;\">\n",
       "      <th></th>\n",
       "      <th>count</th>\n",
       "      <th>uid</th>\n",
       "    </tr>\n",
       "  </thead>\n",
       "  <tbody>\n",
       "    <tr>\n",
       "      <th>0</th>\n",
       "      <td>2</td>\n",
       "      <td>NaN</td>\n",
       "    </tr>\n",
       "    <tr>\n",
       "      <th>1</th>\n",
       "      <td>1167848</td>\n",
       "      <td>0.0</td>\n",
       "    </tr>\n",
       "    <tr>\n",
       "      <th>2</th>\n",
       "      <td>2</td>\n",
       "      <td>100002491.0</td>\n",
       "    </tr>\n",
       "    <tr>\n",
       "      <th>3</th>\n",
       "      <td>56</td>\n",
       "      <td>100052111.0</td>\n",
       "    </tr>\n",
       "    <tr>\n",
       "      <th>4</th>\n",
       "      <td>9</td>\n",
       "      <td>100071797.0</td>\n",
       "    </tr>\n",
       "  </tbody>\n",
       "</table>\n",
       "</div>"
      ],
      "text/plain": [
       "     count          uid\n",
       "0        2          NaN\n",
       "1  1167848          0.0\n",
       "2        2  100002491.0\n",
       "3       56  100052111.0\n",
       "4        9  100071797.0"
      ]
     },
     "execution_count": 14,
     "metadata": {},
     "output_type": "execute_result"
    }
   ],
   "source": [
    "df.head()"
   ]
  },
  {
   "cell_type": "code",
   "execution_count": 4,
   "metadata": {},
   "outputs": [
    {
     "data": {
      "text/plain": [
       "(594735, 2)"
      ]
     },
     "execution_count": 4,
     "metadata": {},
     "output_type": "execute_result"
    }
   ],
   "source": [
    "df.shape"
   ]
  },
  {
   "cell_type": "code",
   "execution_count": 5,
   "metadata": {},
   "outputs": [
    {
     "name": "stdout",
     "output_type": "stream",
     "text": [
      "<class 'pandas.core.frame.DataFrame'>\n",
      "RangeIndex: 594735 entries, 0 to 594734\n",
      "Data columns (total 2 columns):\n",
      "count    594735 non-null int64\n",
      "uid      594734 non-null float64\n",
      "dtypes: float64(1), int64(1)\n",
      "memory usage: 9.1 MB\n"
     ]
    }
   ],
   "source": [
    "df.info()"
   ]
  },
  {
   "cell_type": "code",
   "execution_count": 6,
   "metadata": {},
   "outputs": [
    {
     "data": {
      "text/html": [
       "<div>\n",
       "<style scoped>\n",
       "    .dataframe tbody tr th:only-of-type {\n",
       "        vertical-align: middle;\n",
       "    }\n",
       "\n",
       "    .dataframe tbody tr th {\n",
       "        vertical-align: top;\n",
       "    }\n",
       "\n",
       "    .dataframe thead th {\n",
       "        text-align: right;\n",
       "    }\n",
       "</style>\n",
       "<table border=\"1\" class=\"dataframe\">\n",
       "  <thead>\n",
       "    <tr style=\"text-align: right;\">\n",
       "      <th></th>\n",
       "      <th>count</th>\n",
       "      <th>uid</th>\n",
       "    </tr>\n",
       "  </thead>\n",
       "  <tbody>\n",
       "    <tr>\n",
       "      <th>count</th>\n",
       "      <td>5.947350e+05</td>\n",
       "      <td>5.947340e+05</td>\n",
       "    </tr>\n",
       "    <tr>\n",
       "      <th>mean</th>\n",
       "      <td>2.460525e+02</td>\n",
       "      <td>1.673628e+08</td>\n",
       "    </tr>\n",
       "    <tr>\n",
       "      <th>std</th>\n",
       "      <td>1.526662e+04</td>\n",
       "      <td>1.047142e+07</td>\n",
       "    </tr>\n",
       "    <tr>\n",
       "      <th>min</th>\n",
       "      <td>1.000000e+00</td>\n",
       "      <td>0.000000e+00</td>\n",
       "    </tr>\n",
       "    <tr>\n",
       "      <th>25%</th>\n",
       "      <td>9.000000e+00</td>\n",
       "      <td>1.680262e+08</td>\n",
       "    </tr>\n",
       "    <tr>\n",
       "      <th>50%</th>\n",
       "      <td>4.000000e+01</td>\n",
       "      <td>1.684782e+08</td>\n",
       "    </tr>\n",
       "    <tr>\n",
       "      <th>75%</th>\n",
       "      <td>1.740000e+02</td>\n",
       "      <td>1.687685e+08</td>\n",
       "    </tr>\n",
       "    <tr>\n",
       "      <th>max</th>\n",
       "      <td>7.501794e+06</td>\n",
       "      <td>1.692623e+08</td>\n",
       "    </tr>\n",
       "  </tbody>\n",
       "</table>\n",
       "</div>"
      ],
      "text/plain": [
       "              count           uid\n",
       "count  5.947350e+05  5.947340e+05\n",
       "mean   2.460525e+02  1.673628e+08\n",
       "std    1.526662e+04  1.047142e+07\n",
       "min    1.000000e+00  0.000000e+00\n",
       "25%    9.000000e+00  1.680262e+08\n",
       "50%    4.000000e+01  1.684782e+08\n",
       "75%    1.740000e+02  1.687685e+08\n",
       "max    7.501794e+06  1.692623e+08"
      ]
     },
     "execution_count": 6,
     "metadata": {},
     "output_type": "execute_result"
    }
   ],
   "source": [
    "df.describe()"
   ]
  },
  {
   "cell_type": "code",
   "execution_count": 8,
   "metadata": {},
   "outputs": [
    {
     "data": {
      "text/plain": [
       "<matplotlib.axes._subplots.AxesSubplot at 0x11bcb0da0>"
      ]
     },
     "execution_count": 8,
     "metadata": {},
     "output_type": "execute_result"
    },
    {
     "data": {
      "image/png": "[encoded data removed]",
      "text/plain": [
       "<Figure size 432x288 with 1 Axes>"
      ]
     },
     "metadata": {
      "needs_background": "light"
     },
     "output_type": "display_data"
    }
   ],
   "source": [
    "df['count'].plot.hist()"
   ]
  },
  {
   "cell_type": "code",
   "execution_count": 9,
   "metadata": {},
   "outputs": [
    {
     "data": {
      "text/plain": [
       "<matplotlib.axes._subplots.AxesSubplot at 0x118109390>"
      ]
     },
     "execution_count": 9,
     "metadata": {},
     "output_type": "execute_result"
    },
    {
     "data": {
      "image/png": "[encoded data removed]",
      "text/plain": [
       "<Figure size 432x288 with 1 Axes>"
      ]
     },
     "metadata": {
      "needs_background": "light"
     },
     "output_type": "display_data"
    }
   ],
   "source": [
    "df['count'].plot.hist(bins=np.arange(0,5,0.2))"
   ]
  },
  {
   "cell_type": "code",
   "execution_count": 12,
   "metadata": {},
   "outputs": [
    {
     "data": {
      "text/plain": [
       "Text(0.5,0,'user # play (10^n)')"
      ]
     },
     "execution_count": 12,
     "metadata": {},
     "output_type": "execute_result"
    },
    {
     "data": {
      "image/png": "[encoded data removed]",
      "text/plain": [
       "<Figure size 432x288 with 1 Axes>"
      ]
     },
     "metadata": {
      "needs_background": "light"
     },
     "output_type": "display_data"
    }
   ],
   "source": [
    "np.log10(df['count']).plot.hist(bins=np.arange(0,5,0.2))\n",
    "plt.xlabel('user # play (10^n)')"
   ]
  },
  {
   "cell_type": "code",
   "execution_count": 13,
   "metadata": {},
   "outputs": [
    {
     "name": "stdout",
     "output_type": "stream",
     "text": [
      "5195.394000000553\n"
     ]
    }
   ],
   "source": [
    "top_count_outlier = np.percentile(df['count'], 99.9)\n",
    "print(top_count_outlier)"
   ]
  },
  {
   "cell_type": "code",
   "execution_count": 15,
   "metadata": {},
   "outputs": [
    {
     "name": "stdout",
     "output_type": "stream",
     "text": [
      "total number of users:  594735\n"
     ]
    }
   ],
   "source": [
    "print('total number of users: ', len(df['uid']))"
   ]
  },
  {
   "cell_type": "code",
   "execution_count": 18,
   "metadata": {},
   "outputs": [],
   "source": [
    "id_list_remain = np.array(df['uid'][df['count']<top_count_outlier].dropna())"
   ]
  },
  {
   "cell_type": "code",
   "execution_count": 19,
   "metadata": {},
   "outputs": [
    {
     "name": "stdout",
     "output_type": "stream",
     "text": [
      "total number of user after romoving top outlier:  594139\n"
     ]
    }
   ],
   "source": [
    "print('total number of user after romoving top outlier: ', len(id_list_remain))"
   ]
  },
  {
   "cell_type": "code",
   "execution_count": 20,
   "metadata": {},
   "outputs": [
    {
     "data": {
      "text/plain": [
       "(594139,)"
      ]
     },
     "execution_count": 20,
     "metadata": {},
     "output_type": "execute_result"
    }
   ],
   "source": [
    "id_list_remain.shape"
   ]
  },
  {
   "cell_type": "markdown",
   "metadata": {},
   "source": [
    "### downsampling all users on 'uid'"
   ]
  },
  {
   "cell_type": "code",
   "execution_count": 21,
   "metadata": {},
   "outputs": [],
   "source": [
    "np.random.seed = 1\n",
    "down_sample_ratio = 0.1\n",
    "id_subset = set(id_list_remain[\n",
    "    np.random.random(id_list_remain.shape)<down_sample_ratio\n",
    "])"
   ]
  },
  {
   "cell_type": "code",
   "execution_count": 22,
   "metadata": {},
   "outputs": [
    {
     "name": "stdout",
     "output_type": "stream",
     "text": [
      "total number of user after downsample:  59438\n"
     ]
    }
   ],
   "source": [
    "print('total number of user after downsample: ', len(id_subset))"
   ]
  },
  {
   "cell_type": "code",
   "execution_count": 23,
   "metadata": {},
   "outputs": [],
   "source": [
    "# define date conversion function\n",
    "import datetime\n",
    "def convert_date(s):\n",
    "    s = str(s).strip()\n",
    "    try:\n",
    "        year = int(s[:4])\n",
    "        month = int(s[4:6])\n",
    "        day = int(s[6:8])\n",
    "        return datetime.date(year,month,day)\n",
    "    except:\n",
    "        return None"
   ]
  },
  {
   "cell_type": "markdown",
   "metadata": {},
   "source": [
    "### down sampling play record by 'uid'"
   ]
  },
  {
   "cell_type": "code",
   "execution_count": 25,
   "metadata": {},
   "outputs": [
    {
     "name": "stdout",
     "output_type": "stream",
     "text": [
      "#row processed: 1000000\n",
      "#row processed: 2000000\n",
      "#row processed: 3000000\n",
      "#row processed: 4000000\n",
      "#row processed: 5000000\n",
      "#row processed: 6000000\n",
      "#row processed: 7000000\n",
      "#row processed: 8000000\n",
      "#row processed: 9000000\n",
      "#row processed: 10000000\n",
      "#row processed: 11000000\n",
      "#row processed: 12000000\n",
      "#row processed: 13000000\n",
      "#row processed: 14000000\n",
      "#row processed: 15000000\n",
      "#row processed: 16000000\n",
      "#row processed: 17000000\n",
      "#row processed: 18000000\n",
      "#row processed: 19000000\n",
      "#row processed: 20000000\n",
      "#row processed: 21000000\n",
      "#row processed: 22000000\n",
      "#row processed: 23000000\n",
      "#row processed: 24000000\n",
      "#row processed: 25000000\n",
      "#row processed: 26000000\n",
      "#row processed: 27000000\n",
      "#row processed: 28000000\n",
      "#row processed: 29000000\n",
      "#row processed: 30000000\n",
      "#row processed: 31000000\n",
      "#row processed: 32000000\n",
      "#row processed: 33000000\n",
      "#row processed: 34000000\n",
      "#row processed: 35000000\n",
      "#row processed: 36000000\n",
      "#row processed: 37000000\n",
      "#row processed: 38000000\n",
      "#row processed: 39000000\n",
      "#row processed: 40000000\n",
      "#row processed: 41000000\n",
      "#row processed: 42000000\n",
      "#row processed: 43000000\n",
      "#row processed: 44000000\n",
      "#row processed: 45000000\n",
      "#row processed: 46000000\n",
      "#row processed: 47000000\n",
      "#row processed: 48000000\n",
      "#row processed: 49000000\n",
      "#row processed: 50000000\n",
      "#row processed: 51000000\n",
      "#row processed: 52000000\n",
      "#row processed: 53000000\n",
      "#row processed: 54000000\n",
      "#row processed: 55000000\n",
      "#row processed: 56000000\n",
      "#row processed: 57000000\n",
      "#row processed: 58000000\n",
      "#row processed: 59000000\n",
      "#row processed: 60000000\n",
      "#row processed: 61000000\n",
      "#row processed: 62000000\n",
      "#row processed: 63000000\n",
      "#row processed: 64000000\n",
      "#row processed: 65000000\n",
      "#row processed: 66000000\n",
      "#row processed: 67000000\n",
      "#row processed: 68000000\n",
      "#row processed: 69000000\n",
      "#row processed: 70000000\n",
      "#row processed: 71000000\n",
      "#row processed: 72000000\n",
      "#row processed: 73000000\n",
      "#row processed: 74000000\n",
      "#row processed: 75000000\n",
      "#row processed: 76000000\n",
      "#row processed: 77000000\n",
      "#row processed: 78000000\n",
      "#row processed: 79000000\n",
      "#row processed: 80000000\n",
      "#row processed: 81000000\n",
      "#row processed: 82000000\n",
      "#row processed: 83000000\n",
      "#row processed: 84000000\n",
      "#row processed: 85000000\n",
      "#row processed: 86000000\n",
      "#row processed: 87000000\n",
      "#row processed: 88000000\n",
      "#row processed: 89000000\n",
      "#row processed: 90000000\n",
      "#row processed: 91000000\n",
      "#row processed: 92000000\n",
      "#row processed: 93000000\n",
      "#row processed: 94000000\n",
      "#row processed: 95000000\n",
      "#row processed: 96000000\n",
      "#row processed: 97000000\n",
      "#row processed: 98000000\n",
      "#row processed: 99000000\n",
      "#row processed: 100000000\n",
      "#row processed: 101000000\n",
      "#row processed: 102000000\n",
      "#row processed: 103000000\n",
      "#row processed: 104000000\n",
      "#row processed: 105000000\n",
      "#row processed: 106000000\n",
      "#row processed: 107000000\n",
      "#row processed: 108000000\n",
      "#row processed: 109000000\n",
      "#row processed: 110000000\n",
      "#row processed: 111000000\n",
      "#row processed: 112000000\n",
      "#row processed: 113000000\n",
      "#row processed: 114000000\n",
      "#row processed: 115000000\n",
      "#row processed: 116000000\n",
      "#row processed: 117000000\n",
      "#row processed: 118000000\n",
      "#row processed: 119000000\n",
      "#row processed: 120000000\n",
      "#row processed: 121000000\n",
      "#row processed: 122000000\n",
      "#row processed: 123000000\n",
      "#row processed: 124000000\n",
      "#row processed: 125000000\n",
      "#row processed: 126000000\n",
      "#row processed: 127000000\n",
      "#row processed: 128000000\n",
      "#row processed: 129000000\n",
      "#row processed: 130000000\n",
      "#row processed: 131000000\n",
      "#row processed: 132000000\n",
      "#row processed: 133000000\n",
      "#row processed: 134000000\n",
      "#row processed: 135000000\n",
      "#row processed: 136000000\n",
      "#row processed: 137000000\n",
      "#row processed: 138000000\n",
      "#row processed: 139000000\n",
      "#row processed: 140000000\n",
      "#row processed: 141000000\n",
      "#row processed: 142000000\n",
      "#row processed: 143000000\n",
      "#row processed: 144000000\n",
      "#row processed: 145000000\n",
      "#row processed: 146000000\n"
     ]
    }
   ],
   "source": [
    "import csv\n",
    "input_file = '/Users/fanyang/Documents/musicbox/data/play/all_play_log'\n",
    "output_file = '/Users/fanyang/Documents/musicbox/data/play_downsample.csv'\n",
    "input_field_list = ['uid','device','song_id','song_type','song_name','singer','play_time','song_length','paid_flag','date']\n",
    "output_field_list = ['uid','device','song_id','song_type','song_name','singer','play_time','song_length','paid_flag','date']\n",
    "i=0\n",
    "with open(input_file,'r',encoding='latin-1') as fin, open(output_file,'w') as fout:\n",
    "    csvin = csv.DictReader(fin,delimiter='\\t',fieldnames=input_field_list,quoting=csv.QUOTE_NONE)\n",
    "    csvout = csv.writer(fout,delimiter=',')\n",
    "    csvout.writerow(output_field_list) # write header\n",
    "    for row in csvin:\n",
    "        i+=1\n",
    "        if i%1000000==0:\n",
    "            print(\"#row processed:\",i)\n",
    "        try:\n",
    "            int(row['uid'])\n",
    "        except:\n",
    "            continue\n",
    "        if int(row['uid']) in id_subset:\n",
    "            row['date'] = convert_date(row['date'])\n",
    "            if row['date'] != None: \n",
    "                csvout.writerow([str(row[key]).strip() for key in output_field_list])"
   ]
  },
  {
   "cell_type": "markdown",
   "metadata": {},
   "source": [
    "### down sample download record by 'uid'"
   ]
  },
  {
   "cell_type": "code",
   "execution_count": 31,
   "metadata": {},
   "outputs": [
    {
     "name": "stdout",
     "output_type": "stream",
     "text": [
      "#row processed: 1000000\n",
      "#row processed: 2000000\n",
      "#row processed: 3000000\n",
      "#row processed: 4000000\n",
      "#row processed: 5000000\n",
      "#row processed: 6000000\n",
      "#row processed: 7000000\n",
      "#row processed: 8000000\n"
     ]
    }
   ],
   "source": [
    "import csv\n",
    "input_file = '/Users/fanyang/Documents/musicbox/data/down/all_down_log'\n",
    "output_file = '/Users/fanyang/Documents/musicbox/data/download_downsample.csv'\n",
    "input_field_list = ['uid','device','song_id','song_name','singer','paid_flag','date']\n",
    "output_field_list = ['uid','device','song_id','song_name','singer','paid_flag','date']\n",
    "i=0\n",
    "with open(input_file,'r',encoding='latin-1') as fin, open(output_file,'w') as fout:\n",
    "    csvin = csv.DictReader(fin,delimiter='\\t',fieldnames=input_field_list,quoting=csv.QUOTE_NONE)\n",
    "    csvout = csv.writer(fout,delimiter=',')\n",
    "    csvout.writerow(output_field_list) # write header\n",
    "    for row in csvin:\n",
    "        i+=1\n",
    "        if i%1000000==0:\n",
    "            print(\"#row processed:\",i)\n",
    "        try:\n",
    "            int(row['uid'])\n",
    "        except:\n",
    "            continue\n",
    "        if int(row['uid']) in id_subset:\n",
    "            row['date'] = convert_date(row['date'])\n",
    "            if row['date'] != None: \n",
    "                csvout.writerow([str(row[key]).strip() for key in output_field_list])"
   ]
  },
  {
   "cell_type": "markdown",
   "metadata": {},
   "source": [
    "### down sample search record by 'uid'"
   ]
  },
  {
   "cell_type": "code",
   "execution_count": 30,
   "metadata": {},
   "outputs": [
    {
     "name": "stdout",
     "output_type": "stream",
     "text": [
      "#row processed: 1000000\n",
      "#row processed: 2000000\n",
      "#row processed: 3000000\n",
      "#row processed: 4000000\n",
      "#row processed: 5000000\n",
      "#row processed: 6000000\n",
      "#row processed: 7000000\n",
      "#row processed: 8000000\n"
     ]
    }
   ],
   "source": [
    " import csv\n",
    "input_file = '/Users/fanyang/Documents/musicbox/data/search/all_search_log'\n",
    "output_file = '/Users/fanyang/Documents/musicbox/data/search_downsample.csv'\n",
    "input_field_list = ['uid','device','time_stamp','search_query','date']\n",
    "output_field_list = ['uid','device','time_stamp','search_query','date']\n",
    "i=0\n",
    "with open(input_file,'r',encoding='latin-1') as fin, open(output_file,'w') as fout:\n",
    "    csvin = csv.DictReader(fin,delimiter='\\t',fieldnames=input_field_list,quoting=csv.QUOTE_NONE)\n",
    "    csvout = csv.writer(fout,delimiter=',')\n",
    "    csvout.writerow(output_field_list) # write header\n",
    "    for row in csvin:\n",
    "        i+=1\n",
    "        if i%1000000==0:\n",
    "            print(\"#row processed:\",i)\n",
    "        try:\n",
    "            int(row['uid'])\n",
    "        except:\n",
    "            continue\n",
    "        if int(row['uid']) in id_subset:\n",
    "            row['date'] = convert_date(row['date'])\n",
    "            if row['date'] != None: \n",
    "                csvout.writerow([str(row[key]).strip() for key in output_field_list])\n"
   ]
  },
  {
   "cell_type": "markdown",
   "metadata": {},
   "source": [
    "### create file displaying events as searching play/download/search"
   ]
  },
  {
   "cell_type": "code",
   "execution_count": 32,
   "metadata": {},
   "outputs": [
    {
     "name": "stdout",
     "output_type": "stream",
     "text": [
      "Processing play ...\n",
      "Processing down ...\n",
      "Processing search ...\n"
     ]
    }
   ],
   "source": [
    "play_file = '/Users/fanyang/Documents/musicbox/data/play_downsample.csv'\n",
    "down_file = '/Users/fanyang/Documents/musicbox/data/download_downsample.csv'\n",
    "search_file = '/Users/fanyang/Documents/musicbox/data/search_downsample.csv'\n",
    "\n",
    "play_field_list = ['uid','device','song_id','song_type','song_name','singer','play_time','song_length','paid_flag','date']\n",
    "down_field_list = ['uid','device','song_id','song_name','singer','paid_flag','date']\n",
    "search_field_list = ['uid','device','time_stamp','search_query','date']\n",
    "\n",
    "# save event1 for ['uid','event','song_id','date']\n",
    "output_file = '/Users/fanyang/Documents/musicbox/data/event1_downsample.csv'\n",
    "output_field_list = ['uid','event','song_id','date']\n",
    "\n",
    "\n",
    "with open(play_file,'r') as f_play, open(down_file,'r') as f_down, \\\n",
    "open(search_file,'r') as f_search,open(output_file,'w') as f_out:\n",
    "    csvplay = csv.DictReader(f_play,delimiter=',')\n",
    "    csvdown = csv.DictReader(f_down,delimiter=',')\n",
    "    csvsearch = csv.DictReader(f_search,delimiter=',')\n",
    "    csvout = csv.writer(f_out,delimiter=',')\n",
    "    csvout.writerow(output_field_list) # write header\n",
    "    print('Processing play ...')\n",
    "    for row in csvplay:\n",
    "        row['event'] = 'P'\n",
    "        row['date']\n",
    "        csvout.writerow([row[key] for key in output_field_list])\n",
    "    print('Processing down ...')\n",
    "    for row in csvdown:\n",
    "        row['event'] = 'D'\n",
    "        csvout.writerow([row[key] for key in output_field_list])\n",
    "    print('Processing search ...')\n",
    "    for row in csvsearch:\n",
    "        row['event'] = 'S'\n",
    "        csvout.writerow([row.get(key,'') for key in output_field_list])"
   ]
  },
  {
   "cell_type": "code",
   "execution_count": null,
   "metadata": {},
   "outputs": [],
   "source": []
  }
 ],
 "metadata": {
  "kernelspec": {
   "display_name": "Python 3",
   "language": "python",
   "name": "python3"
  },
  "language_info": {
   "codemirror_mode": {
    "name": "ipython",
    "version": 3
   },
   "file_extension": ".py",
   "mimetype": "text/x-python",
   "name": "python",
   "nbconvert_exporter": "python",
   "pygments_lexer": "ipython3",
   "version": "3.7.1"
  }
 },
 "nbformat": 4,
 "nbformat_minor": 2
}
