{
 "cells": [
  {
   "cell_type": "code",
   "execution_count": 2,
   "metadata": {},
   "outputs": [],
   "source": [
    "import os\n",
    "import warnings\n",
    "warnings.filterwarnings('ignore')\n",
    "\n",
    "from pyspark import SparkContext\n",
    "import pyspark.sql.functions as F\n",
    "from pyspark.sql.session import SparkSession\n",
    "\n",
    "import numpy as np\n",
    "import matplotlib.pyplot as plt\n",
    "%matplotlib inline"
   ]
  },
  {
   "cell_type": "code",
   "execution_count": 3,
   "metadata": {},
   "outputs": [
    {
     "data": {
      "text/plain": [
       "DataFrame[uid: string, event: string, song_id: string, date: string]"
      ]
     },
     "execution_count": 3,
     "metadata": {},
     "output_type": "execute_result"
    }
   ],
   "source": [
    "sc = SparkContext('local')\n",
    "spark = SparkSession(sc)\n",
    "\n",
    "df = spark.read.csv('/Users/fanyang/Documents/musicbox/data/event1_downsample.csv', header=True).cache()\n",
    "df"
   ]
  },
  {
   "cell_type": "code",
   "execution_count": 4,
   "metadata": {},
   "outputs": [
    {
     "data": {
      "text/plain": [
       "DataFrame[uid: string, event: string, song_id: string, date: date]"
      ]
     },
     "execution_count": 4,
     "metadata": {},
     "output_type": "execute_result"
    }
   ],
   "source": [
    "# convert 'date' from string type into date type\n",
    "df = df.withColumn('date', F.col('date').cast('date'))\n",
    "df"
   ]
  },
  {
   "cell_type": "code",
   "execution_count": 5,
   "metadata": {},
   "outputs": [
    {
     "data": {
      "text/plain": [
       "59436"
      ]
     },
     "execution_count": 5,
     "metadata": {},
     "output_type": "execute_result"
    }
   ],
   "source": [
    "# count distinct 'uid'\n",
    "df.select('uid').distinct().count()"
   ]
  },
  {
   "cell_type": "code",
   "execution_count": 6,
   "metadata": {},
   "outputs": [
    {
     "data": {
      "text/plain": [
       "464805"
      ]
     },
     "execution_count": 6,
     "metadata": {},
     "output_type": "execute_result"
    }
   ],
   "source": [
    "# count distinct 'song_id'\n",
    "df.select('song_id').distinct().count()"
   ]
  },
  {
   "cell_type": "code",
   "execution_count": 7,
   "metadata": {},
   "outputs": [
    {
     "name": "stdout",
     "output_type": "stream",
     "text": [
      "+-----+--------+\n",
      "|event|   count|\n",
      "+-----+--------+\n",
      "|    D|  635296|\n",
      "|    S|  765613|\n",
      "|    P|10816337|\n",
      "+-----+--------+\n",
      "\n"
     ]
    }
   ],
   "source": [
    "df.groupBy('event').count().show()"
   ]
  },
  {
   "cell_type": "code",
   "execution_count": 8,
   "metadata": {},
   "outputs": [
    {
     "data": {
      "text/html": [
       "<div>\n",
       "<style scoped>\n",
       "    .dataframe tbody tr th:only-of-type {\n",
       "        vertical-align: middle;\n",
       "    }\n",
       "\n",
       "    .dataframe tbody tr th {\n",
       "        vertical-align: top;\n",
       "    }\n",
       "\n",
       "    .dataframe thead th {\n",
       "        text-align: right;\n",
       "    }\n",
       "</style>\n",
       "<table border=\"1\" class=\"dataframe\">\n",
       "  <thead>\n",
       "    <tr style=\"text-align: right;\">\n",
       "      <th></th>\n",
       "      <th>count</th>\n",
       "    </tr>\n",
       "    <tr>\n",
       "      <th>date</th>\n",
       "      <th></th>\n",
       "    </tr>\n",
       "  </thead>\n",
       "  <tbody>\n",
       "    <tr>\n",
       "      <th>2017-03-30</th>\n",
       "      <td>701756</td>\n",
       "    </tr>\n",
       "    <tr>\n",
       "      <th>2017-03-31</th>\n",
       "      <td>715495</td>\n",
       "    </tr>\n",
       "    <tr>\n",
       "      <th>2017-04-01</th>\n",
       "      <td>549525</td>\n",
       "    </tr>\n",
       "  </tbody>\n",
       "</table>\n",
       "</div>"
      ],
      "text/plain": [
       "             count\n",
       "date              \n",
       "2017-03-30  701756\n",
       "2017-03-31  715495\n",
       "2017-04-01  549525"
      ]
     },
     "execution_count": 8,
     "metadata": {},
     "output_type": "execute_result"
    }
   ],
   "source": [
    "date_count = df.groupBy('date').count().toPandas()\n",
    "date_count = date_count.sort_values(by='date')\n",
    "date_count.set_index('date', inplace=True)\n",
    "date_count.head(3)"
   ]
  },
  {
   "cell_type": "code",
   "execution_count": 9,
   "metadata": {},
   "outputs": [
    {
     "data": {
      "text/plain": [
       "Text(0.5, 0, 'Date')"
      ]
     },
     "execution_count": 9,
     "metadata": {},
     "output_type": "execute_result"
    },
    {
     "data": {
      "image/png": "[encoded data removed]",
      "text/plain": [
       "<Figure size 576x288 with 1 Axes>"
      ]
     },
     "metadata": {},
     "output_type": "display_data"
    }
   ],
   "source": [
    "import matplotlib.dates as mdates\n",
    "plt.style.use('ggplot')\n",
    "\n",
    "fig, ax = plt.subplots(figsize=(8,4))\n",
    "ax.bar(date_count.index, date_count['count'])\n",
    "#date_count.plot(kind='bar', ax=ax)\n",
    "\n",
    "#set ticks every week\n",
    "ax.xaxis.set_major_locator(mdates.WeekdayLocator())\n",
    "#set major ticks format\n",
    "ax.xaxis.set_major_formatter(mdates.DateFormatter('%b %d'))\n",
    "\n",
    "ax.set_title('user activity (Play/Search/Download) dynamic')\n",
    "ax.set_ylabel('Count')\n",
    "ax.set_xlabel('Date')"
   ]
  },
  {
   "cell_type": "markdown",
   "metadata": {},
   "source": [
    "### 1. label definition: churn is 1, and active is 0"
   ]
  },
  {
   "cell_type": "code",
   "execution_count": 10,
   "metadata": {},
   "outputs": [
    {
     "name": "stdout",
     "output_type": "stream",
     "text": [
      "label window: 2017-04-29 ~ 2017-05-12 days: 14\n",
      "feature window: 2017-03-30 ~ 2017-04-28 days: 30\n"
     ]
    }
   ],
   "source": [
    "import datetime\n",
    "from dateutil import parser\n",
    "\n",
    "label_window_size = 14\n",
    "label_window_end_date = parser.parse('2017-05-12').date()\n",
    "label_window_start_date = label_window_end_date - datetime.timedelta(label_window_size - 1)\n",
    "print('label window:', label_window_start_date, '~', label_window_end_date, 'days:', label_window_size)\n",
    "\n",
    "feature_window_size = 30\n",
    "feature_window_end_date = label_window_start_date - datetime.timedelta(1)\n",
    "feature_window_start_date = feature_window_end_date - datetime.timedelta(feature_window_size - 1)\n",
    "print('feature window:', feature_window_start_date, '~', feature_window_end_date, 'days:', feature_window_size)\n"
   ]
  },
  {
   "cell_type": "markdown",
   "metadata": {},
   "source": [
    "##### select all 'uid' from feature window"
   ]
  },
  {
   "cell_type": "code",
   "execution_count": 11,
   "metadata": {},
   "outputs": [],
   "source": [
    "df_model_uid = df.filter((F.col('date')>=feature_window_start_date) & (F.col('date')<=feature_window_end_date))\\\n",
    ".select('uid').distinct()"
   ]
  },
  {
   "cell_type": "code",
   "execution_count": 12,
   "metadata": {},
   "outputs": [
    {
     "data": {
      "text/plain": [
       "58116"
      ]
     },
     "execution_count": 12,
     "metadata": {},
     "output_type": "execute_result"
    }
   ],
   "source": [
    "df_model_uid.select('uid').distinct().count()"
   ]
  },
  {
   "cell_type": "markdown",
   "metadata": {},
   "source": [
    "#### select all uid from label window\n",
    "##### churn is labeled as 1, otherwise active uid is labeled as 0"
   ]
  },
  {
   "cell_type": "code",
   "execution_count": 13,
   "metadata": {},
   "outputs": [],
   "source": [
    "df_active_uid_in_label_window = df.filter((F.col('date')>=label_window_start_date) & (F.col('date')<=label_window_end_date))\\\n",
    ".select('uid').distinct().withColumn('Ischurn', F.lit(0))"
   ]
  },
  {
   "cell_type": "code",
   "execution_count": 14,
   "metadata": {},
   "outputs": [
    {
     "data": {
      "text/plain": [
       "23224"
      ]
     },
     "execution_count": 14,
     "metadata": {},
     "output_type": "execute_result"
    }
   ],
   "source": [
    "df_active_uid_in_label_window.select('uid').distinct().count()"
   ]
  },
  {
   "cell_type": "code",
   "execution_count": 15,
   "metadata": {},
   "outputs": [],
   "source": [
    "df_label = df_model_uid.join(df_active_uid_in_label_window, on=['uid'], how='left')\n",
    "df_label = df_label.fillna(1)"
   ]
  },
  {
   "cell_type": "code",
   "execution_count": 16,
   "metadata": {},
   "outputs": [
    {
     "name": "stdout",
     "output_type": "stream",
     "text": [
      "+-------+-----+\n",
      "|Ischurn|count|\n",
      "+-------+-----+\n",
      "|      1|36212|\n",
      "|      0|21904|\n",
      "+-------+-----+\n",
      "\n"
     ]
    }
   ],
   "source": [
    "df_label.groupBy('Ischurn').count().show()"
   ]
  },
  {
   "cell_type": "code",
   "execution_count": 17,
   "metadata": {},
   "outputs": [
    {
     "data": {
      "text/html": [
       "<div>\n",
       "<style scoped>\n",
       "    .dataframe tbody tr th:only-of-type {\n",
       "        vertical-align: middle;\n",
       "    }\n",
       "\n",
       "    .dataframe tbody tr th {\n",
       "        vertical-align: top;\n",
       "    }\n",
       "\n",
       "    .dataframe thead th {\n",
       "        text-align: right;\n",
       "    }\n",
       "</style>\n",
       "<table border=\"1\" class=\"dataframe\">\n",
       "  <thead>\n",
       "    <tr style=\"text-align: right;\">\n",
       "      <th></th>\n",
       "      <th>uid</th>\n",
       "      <th>Ischurn</th>\n",
       "    </tr>\n",
       "  </thead>\n",
       "  <tbody>\n",
       "    <tr>\n",
       "      <th>0</th>\n",
       "      <td>126941437</td>\n",
       "      <td>0</td>\n",
       "    </tr>\n",
       "    <tr>\n",
       "      <th>1</th>\n",
       "      <td>132952490</td>\n",
       "      <td>0</td>\n",
       "    </tr>\n",
       "    <tr>\n",
       "      <th>2</th>\n",
       "      <td>151294213</td>\n",
       "      <td>1</td>\n",
       "    </tr>\n",
       "    <tr>\n",
       "      <th>3</th>\n",
       "      <td>163538558</td>\n",
       "      <td>0</td>\n",
       "    </tr>\n",
       "    <tr>\n",
       "      <th>4</th>\n",
       "      <td>167328646</td>\n",
       "      <td>1</td>\n",
       "    </tr>\n",
       "  </tbody>\n",
       "</table>\n",
       "</div>"
      ],
      "text/plain": [
       "         uid  Ischurn\n",
       "0  126941437        0\n",
       "1  132952490        0\n",
       "2  151294213        1\n",
       "3  163538558        0\n",
       "4  167328646        1"
      ]
     },
     "execution_count": 17,
     "metadata": {},
     "output_type": "execute_result"
    }
   ],
   "source": [
    "import pandas as pd\n",
    "pd.DataFrame(df_label.take(5), columns=df_label.columns)"
   ]
  },
  {
   "cell_type": "markdown",
   "metadata": {},
   "source": [
    "### 2. generate frequency features (total number of activity in different date frames)"
   ]
  },
  {
   "cell_type": "code",
   "execution_count": 18,
   "metadata": {},
   "outputs": [],
   "source": [
    "def activity_frequency(data, event, time_window_list, snapshot_date):\n",
    "    df_feature = data\\\n",
    "    .filter(F.col('event') == event) \\\n",
    "    .groupBy('uid') \\\n",
    "    .agg(*[F.sum(F.when((F.col('date')>=snapshot_date-datetime.timedelta(time_window-1)) &\n",
    "                (F.col('date')<=snapshot_date), 1).otherwise(0)) \\\n",
    "           .alias('freq_' + event +'_last_'+str(time_window)) \\\n",
    "          for time_window in time_window_list])\n",
    "    return df_feature"
   ]
  },
  {
   "cell_type": "code",
   "execution_count": 19,
   "metadata": {},
   "outputs": [],
   "source": [
    "df_feature_window = df.filter((F.col('date')>=feature_window_start_date) & (F.col('date')<=feature_window_end_date))"
   ]
  },
  {
   "cell_type": "code",
   "execution_count": 20,
   "metadata": {},
   "outputs": [
    {
     "name": "stdout",
     "output_type": "stream",
     "text": [
      "+---------+-------------+-------------+-------------+--------------+--------------+--------------+\n",
      "|      uid|freq_P_last_1|freq_P_last_3|freq_P_last_7|freq_P_last_14|freq_P_last_21|freq_P_last_30|\n",
      "+---------+-------------+-------------+-------------+--------------+--------------+--------------+\n",
      "|168551336|            0|            0|            0|             0|             0|            27|\n",
      "|168555996|            0|            0|            0|             0|             0|            19|\n",
      "|168580671|           24|          100|          129|           280|           625|          1563|\n",
      "|168532334|            0|            0|            0|             0|             0|            53|\n",
      "|168613800|            0|            0|            0|            26|            26|            71|\n",
      "+---------+-------------+-------------+-------------+--------------+--------------+--------------+\n",
      "only showing top 5 rows\n",
      "\n"
     ]
    }
   ],
   "source": [
    "event = 'P'\n",
    "time_window_list = [1,3,7,14,21,30]\n",
    "snapshot_date = feature_window_end_date\n",
    "df_play_feature = activity_frequency(df_feature_window, event, time_window_list, snapshot_date)\n",
    "df_play_feature.show(5)"
   ]
  },
  {
   "cell_type": "code",
   "execution_count": 21,
   "metadata": {},
   "outputs": [
    {
     "data": {
      "text/plain": [
       "['uid',\n",
       " 'freq_P_last_1',\n",
       " 'freq_P_last_3',\n",
       " 'freq_P_last_7',\n",
       " 'freq_P_last_14',\n",
       " 'freq_P_last_21',\n",
       " 'freq_P_last_30']"
      ]
     },
     "execution_count": 21,
     "metadata": {},
     "output_type": "execute_result"
    }
   ],
   "source": [
    "df_play_feature.columns"
   ]
  },
  {
   "cell_type": "code",
   "execution_count": 22,
   "metadata": {},
   "outputs": [],
   "source": [
    "df_play_feature1 = df_play_feature.toPandas()\n",
    "play_features = [\n",
    " 'freq_P_last_1',\n",
    " 'freq_P_last_3',\n",
    " 'freq_P_last_7',\n",
    " 'freq_P_last_14',\n",
    " 'freq_P_last_21',\n",
    " 'freq_P_last_30']"
   ]
  },
  {
   "cell_type": "code",
   "execution_count": 23,
   "metadata": {},
   "outputs": [
    {
     "data": {
      "text/plain": [
       "Text(0, 0.5, 'counts')"
      ]
     },
     "execution_count": 23,
     "metadata": {},
     "output_type": "execute_result"
    },
    {
     "data": {
      "image/png": "[encoded data removed]",
      "text/plain": [
       "<Figure size 1584x432 with 6 Axes>"
      ]
     },
     "metadata": {},
     "output_type": "display_data"
    }
   ],
   "source": [
    "f, axs = plt.subplots(1,6, sharey=True, sharex = True, figsize = (22,6))\n",
    "f.suptitle('frequency of playrecord', fontsize=20)\n",
    "\n",
    "for features in play_features:\n",
    "    i = play_features.index(features)\n",
    "    df_play_feature1[features].hist(ax = axs[i], bins = 25, color='red')\n",
    "    axs[i].set_title(features)\n",
    "    axs[i].set_xlabel('frequency', fontsize=18)\n",
    "axs[0].set_ylabel('counts', fontsize=18)"
   ]
  },
  {
   "cell_type": "code",
   "execution_count": 24,
   "metadata": {},
   "outputs": [
    {
     "name": "stdout",
     "output_type": "stream",
     "text": [
      "+---------+-------------+-------------+-------------+--------------+--------------+--------------+\n",
      "|      uid|freq_S_last_1|freq_S_last_3|freq_S_last_7|freq_S_last_14|freq_S_last_21|freq_S_last_30|\n",
      "+---------+-------------+-------------+-------------+--------------+--------------+--------------+\n",
      "|168023090|            0|            0|            0|             1|             1|             3|\n",
      "|167650198|            0|            0|            0|             2|             5|            17|\n",
      "|167894185|            0|            0|            4|             4|             4|             5|\n",
      "|167573813|            0|            0|            7|             7|             8|            13|\n",
      "|167927934|           12|           12|           12|           213|           413|           757|\n",
      "+---------+-------------+-------------+-------------+--------------+--------------+--------------+\n",
      "only showing top 5 rows\n",
      "\n"
     ]
    }
   ],
   "source": [
    "event = 'S'\n",
    "time_window_list = [1,3,7,14,21,30]\n",
    "snapshot_date = feature_window_end_date\n",
    "df_search_feature = activity_frequency(df_feature_window, event, time_window_list, snapshot_date)\n",
    "df_search_feature.show(5)"
   ]
  },
  {
   "cell_type": "code",
   "execution_count": 25,
   "metadata": {},
   "outputs": [
    {
     "data": {
      "text/plain": [
       "['uid',\n",
       " 'freq_S_last_1',\n",
       " 'freq_S_last_3',\n",
       " 'freq_S_last_7',\n",
       " 'freq_S_last_14',\n",
       " 'freq_S_last_21',\n",
       " 'freq_S_last_30']"
      ]
     },
     "execution_count": 25,
     "metadata": {},
     "output_type": "execute_result"
    }
   ],
   "source": [
    "df_search_feature.columns"
   ]
  },
  {
   "cell_type": "code",
   "execution_count": 26,
   "metadata": {},
   "outputs": [],
   "source": [
    "search_features = [\n",
    " 'freq_S_last_1',\n",
    " 'freq_S_last_3',\n",
    " 'freq_S_last_7',\n",
    " 'freq_S_last_14',\n",
    " 'freq_S_last_21',\n",
    " 'freq_S_last_30']"
   ]
  },
  {
   "cell_type": "code",
   "execution_count": 27,
   "metadata": {},
   "outputs": [],
   "source": [
    "df_search_feature1 = df_search_feature.toPandas()"
   ]
  },
  {
   "cell_type": "code",
   "execution_count": 28,
   "metadata": {},
   "outputs": [
    {
     "data": {
      "text/plain": [
       "Text(0, 0.5, 'counts')"
      ]
     },
     "execution_count": 28,
     "metadata": {},
     "output_type": "execute_result"
    },
    {
     "data": {
      "image/png": "[encoded data removed]",
      "text/plain": [
       "<Figure size 1584x432 with 6 Axes>"
      ]
     },
     "metadata": {},
     "output_type": "display_data"
    }
   ],
   "source": [
    "f, axs = plt.subplots(1,6, sharey=True, sharex = True, figsize = (22,6))\n",
    "f.suptitle('frequency of search record', fontsize=20)\n",
    "\n",
    "for features in search_features:\n",
    "    i = search_features.index(features)\n",
    "    df_search_feature1[features].hist(ax = axs[i], bins = 25, color='blue')\n",
    "    axs[i].set_title(features)\n",
    "    axs[i].set_xlabel('frequency', fontsize=18)\n",
    "axs[0].set_ylabel('counts', fontsize=18)"
   ]
  },
  {
   "cell_type": "code",
   "execution_count": null,
   "metadata": {},
   "outputs": [],
   "source": []
  },
  {
   "cell_type": "code",
   "execution_count": 36,
   "metadata": {},
   "outputs": [
    {
     "name": "stdout",
     "output_type": "stream",
     "text": [
      "+---------+-------------+-------------+-------------+--------------+--------------+--------------+\n",
      "|      uid|freq_D_last_1|freq_D_last_3|freq_D_last_7|freq_D_last_14|freq_D_last_21|freq_D_last_30|\n",
      "+---------+-------------+-------------+-------------+--------------+--------------+--------------+\n",
      "|167759265|            0|            0|            0|             0|             1|             3|\n",
      "|167927934|            1|            1|            1|            28|            77|           104|\n",
      "|167769028|            0|            0|            0|             1|             1|             7|\n",
      "|167926623|            0|            0|            0|             0|             0|             5|\n",
      "|167941163|            0|            0|            0|             4|             4|             6|\n",
      "+---------+-------------+-------------+-------------+--------------+--------------+--------------+\n",
      "only showing top 5 rows\n",
      "\n"
     ]
    }
   ],
   "source": [
    "event = 'D'\n",
    "time_window_list = [1,3,7,14,21,30]\n",
    "snapshot_date = feature_window_end_date\n",
    "df_download_feature = activity_frequency(df_feature_window, event, time_window_list, snapshot_date)\n",
    "df_download_feature.show(5)"
   ]
  },
  {
   "cell_type": "code",
   "execution_count": 37,
   "metadata": {},
   "outputs": [
    {
     "data": {
      "text/plain": [
       "['uid',\n",
       " 'freq_D_last_1',\n",
       " 'freq_D_last_3',\n",
       " 'freq_D_last_7',\n",
       " 'freq_D_last_14',\n",
       " 'freq_D_last_21',\n",
       " 'freq_D_last_30']"
      ]
     },
     "execution_count": 37,
     "metadata": {},
     "output_type": "execute_result"
    }
   ],
   "source": [
    "df_download_feature.columns"
   ]
  },
  {
   "cell_type": "code",
   "execution_count": 38,
   "metadata": {},
   "outputs": [],
   "source": [
    "download_features = [\n",
    " 'freq_D_last_1',\n",
    " 'freq_D_last_3',\n",
    " 'freq_D_last_7',\n",
    " 'freq_D_last_14',\n",
    " 'freq_D_last_21',\n",
    " 'freq_D_last_30']"
   ]
  },
  {
   "cell_type": "code",
   "execution_count": 39,
   "metadata": {},
   "outputs": [],
   "source": [
    "df_download_feature1 = df_download_feature.toPandas()"
   ]
  },
  {
   "cell_type": "code",
   "execution_count": 40,
   "metadata": {},
   "outputs": [
    {
     "data": {
      "text/plain": [
       "Text(0, 0.5, 'counts')"
      ]
     },
     "execution_count": 40,
     "metadata": {},
     "output_type": "execute_result"
    },
    {
     "data": {
      "image/png": "[encoded data removed]",
      "text/plain": [
       "<Figure size 1584x432 with 6 Axes>"
      ]
     },
     "metadata": {},
     "output_type": "display_data"
    }
   ],
   "source": [
    "f, axs = plt.subplots(1,6, sharey=True, sharex = True, figsize = (22,6))\n",
    "f.suptitle('frequency of download record', fontsize=20)\n",
    "\n",
    "for features in download_features:\n",
    "    i = download_features.index(features)\n",
    "    df_download_feature1[features].hist(ax = axs[i], bins = 25, color='purple')\n",
    "    axs[i].set_title(features)\n",
    "    axs[i].set_xlabel('frequency', fontsize=18)\n",
    "axs[0].set_ylabel('counts', fontsize=18)"
   ]
  },
  {
   "cell_type": "code",
   "execution_count": 41,
   "metadata": {},
   "outputs": [],
   "source": [
    "event_list = ['P', 'D', 'S']\n",
    "time_window_list = [1,3,7,14,21,30]\n",
    "df_freq_feature_list = []\n",
    "for event in event_list:\n",
    "    df_freq_feature_list.append(activity_frequency(df_feature_window, event, time_window_list, snapshot_date))"
   ]
  },
  {
   "cell_type": "code",
   "execution_count": 42,
   "metadata": {},
   "outputs": [
    {
     "data": {
      "text/plain": [
       "[DataFrame[uid: string, freq_P_last_1: bigint, freq_P_last_3: bigint, freq_P_last_7: bigint, freq_P_last_14: bigint, freq_P_last_21: bigint, freq_P_last_30: bigint],\n",
       " DataFrame[uid: string, freq_D_last_1: bigint, freq_D_last_3: bigint, freq_D_last_7: bigint, freq_D_last_14: bigint, freq_D_last_21: bigint, freq_D_last_30: bigint],\n",
       " DataFrame[uid: string, freq_S_last_1: bigint, freq_S_last_3: bigint, freq_S_last_7: bigint, freq_S_last_14: bigint, freq_S_last_21: bigint, freq_S_last_30: bigint]]"
      ]
     },
     "execution_count": 42,
     "metadata": {},
     "output_type": "execute_result"
    }
   ],
   "source": [
    "df_freq_feature_list"
   ]
  },
  {
   "cell_type": "code",
   "execution_count": null,
   "metadata": {},
   "outputs": [],
   "source": []
  },
  {
   "cell_type": "markdown",
   "metadata": {},
   "source": [
    "### 3.generate recency features (days since last activity)"
   ]
  },
  {
   "cell_type": "code",
   "execution_count": 43,
   "metadata": {},
   "outputs": [],
   "source": [
    "def activity_recency(df, event, snapshot_date):\n",
    "    df_feature = df\\\n",
    "    .filter(F.col('event')==event)\\\n",
    "    .groupBy('uid')\\\n",
    "    .agg(F.datediff(F.lit(snapshot_date), F.max(F.col('date'))).alias('recn_'+ event))\n",
    "    return df_feature"
   ]
  },
  {
   "cell_type": "code",
   "execution_count": 44,
   "metadata": {},
   "outputs": [
    {
     "name": "stdout",
     "output_type": "stream",
     "text": [
      "+---------+------+\n",
      "|      uid|recn_P|\n",
      "+---------+------+\n",
      "|168551336|    24|\n",
      "|168555996|    28|\n",
      "|168580671|     0|\n",
      "|168532334|    26|\n",
      "|168613800|     8|\n",
      "+---------+------+\n",
      "only showing top 5 rows\n",
      "\n"
     ]
    }
   ],
   "source": [
    "event = 'P'\n",
    "snapshot_date = feature_window_end_date\n",
    "df_feature = activity_recency(df_feature_window,event,snapshot_date)\n",
    "df_feature.show(5)"
   ]
  },
  {
   "cell_type": "code",
   "execution_count": 69,
   "metadata": {},
   "outputs": [
    {
     "data": {
      "text/plain": [
       "Text(0, 0.5, 'count')"
      ]
     },
     "execution_count": 69,
     "metadata": {},
     "output_type": "execute_result"
    },
    {
     "data": {
      "image/png": "[encoded data removed]",
      "text/plain": [
       "<Figure size 432x288 with 1 Axes>"
      ]
     },
     "metadata": {},
     "output_type": "display_data"
    }
   ],
   "source": [
    "df_feature.toPandas().plot(kind='hist')\n",
    "plt.xlabel('recency (day)')\n",
    "plt.ylabel('count')"
   ]
  },
  {
   "cell_type": "code",
   "execution_count": 70,
   "metadata": {},
   "outputs": [
    {
     "data": {
      "text/plain": [
       "Text(0, 0.5, 'count')"
      ]
     },
     "execution_count": 70,
     "metadata": {},
     "output_type": "execute_result"
    },
    {
     "data": {
      "image/png": "[encoded data removed]",
      "text/plain": [
       "<Figure size 432x288 with 1 Axes>"
      ]
     },
     "metadata": {},
     "output_type": "display_data"
    }
   ],
   "source": [
    "event = 'D'\n",
    "snapshot_date = feature_window_end_date\n",
    "df_feature = activity_recency(df_feature_window,event,snapshot_date)\n",
    "df_feature.toPandas().plot(kind='hist')\n",
    "plt.xlabel('recency (day)')\n",
    "plt.ylabel('count')"
   ]
  },
  {
   "cell_type": "code",
   "execution_count": 72,
   "metadata": {},
   "outputs": [
    {
     "data": {
      "text/plain": [
       "Text(0, 0.5, 'count')"
      ]
     },
     "execution_count": 72,
     "metadata": {},
     "output_type": "execute_result"
    },
    {
     "data": {
      "image/png": "[encoded data removed]",
      "text/plain": [
       "<Figure size 432x288 with 1 Axes>"
      ]
     },
     "metadata": {},
     "output_type": "display_data"
    }
   ],
   "source": [
    "event = 'S'\n",
    "snapshot_date = feature_window_end_date\n",
    "df_feature = activity_recency(df_feature_window,event,snapshot_date)\n",
    "df_feature.toPandas().plot(kind='hist')\n",
    "plt.xlabel('recency (day)')\n",
    "plt.ylabel('count')"
   ]
  },
  {
   "cell_type": "code",
   "execution_count": 73,
   "metadata": {},
   "outputs": [],
   "source": [
    "event_list = ['P', 'D', 'S']\n",
    "snapshot_date = feature_window_end_date\n",
    "df_recn_feature_list = []\n",
    "for event in event_list:\n",
    "    df_recn_feature_list.append(activity_recency(df_feature_window, event, snapshot_date))"
   ]
  },
  {
   "cell_type": "code",
   "execution_count": 74,
   "metadata": {},
   "outputs": [
    {
     "data": {
      "text/plain": [
       "[DataFrame[uid: string, recn_P: int],\n",
       " DataFrame[uid: string, recn_D: int],\n",
       " DataFrame[uid: string, recn_S: int]]"
      ]
     },
     "execution_count": 74,
     "metadata": {},
     "output_type": "execute_result"
    }
   ],
   "source": [
    "df_recn_feature_list"
   ]
  },
  {
   "cell_type": "code",
   "execution_count": null,
   "metadata": {},
   "outputs": [],
   "source": []
  },
  {
   "cell_type": "markdown",
   "metadata": {},
   "source": [
    "### 4. generate additon features based play log (total_play length,  play_percentage on each song, device)"
   ]
  },
  {
   "cell_type": "code",
   "execution_count": 75,
   "metadata": {},
   "outputs": [],
   "source": [
    "df_play = spark.read.csv('/Users/fanyang/Documents/musicbox/data/play_downsample.csv', header=True).cache()"
   ]
  },
  {
   "cell_type": "code",
   "execution_count": 76,
   "metadata": {},
   "outputs": [
    {
     "data": {
      "text/html": [
       "<div>\n",
       "<style scoped>\n",
       "    .dataframe tbody tr th:only-of-type {\n",
       "        vertical-align: middle;\n",
       "    }\n",
       "\n",
       "    .dataframe tbody tr th {\n",
       "        vertical-align: top;\n",
       "    }\n",
       "\n",
       "    .dataframe thead th {\n",
       "        text-align: right;\n",
       "    }\n",
       "</style>\n",
       "<table border=\"1\" class=\"dataframe\">\n",
       "  <thead>\n",
       "    <tr style=\"text-align: right;\">\n",
       "      <th></th>\n",
       "      <th>uid</th>\n",
       "      <th>device</th>\n",
       "      <th>song_id</th>\n",
       "      <th>song_type</th>\n",
       "      <th>song_name</th>\n",
       "      <th>singer</th>\n",
       "      <th>play_time</th>\n",
       "      <th>song_length</th>\n",
       "      <th>paid_flag</th>\n",
       "      <th>date</th>\n",
       "    </tr>\n",
       "  </thead>\n",
       "  <tbody>\n",
       "    <tr>\n",
       "      <th>0</th>\n",
       "      <td>168551247</td>\n",
       "      <td>ar</td>\n",
       "      <td>11881432</td>\n",
       "      <td>0</td>\n",
       "      <td>ä¸æ¢¦æµ®ç</td>\n",
       "      <td>é¢æ·¡å¦å¦</td>\n",
       "      <td>78</td>\n",
       "      <td>149</td>\n",
       "      <td>0</td>\n",
       "      <td>2017-03-30</td>\n",
       "    </tr>\n",
       "    <tr>\n",
       "      <th>1</th>\n",
       "      <td>168551248</td>\n",
       "      <td>ip</td>\n",
       "      <td>21393368</td>\n",
       "      <td>0</td>\n",
       "      <td>éçï¼Introï¼</td>\n",
       "      <td>å¹¼ç¨å­ææ</td>\n",
       "      <td>87</td>\n",
       "      <td>87</td>\n",
       "      <td>0</td>\n",
       "      <td>2017-03-30</td>\n",
       "    </tr>\n",
       "    <tr>\n",
       "      <th>2</th>\n",
       "      <td>168550496</td>\n",
       "      <td>ar</td>\n",
       "      <td>12495422</td>\n",
       "      <td>0</td>\n",
       "      <td>æ¶å¥½ï¼ä½ ä»¬è¦çé«ä¸­æ°å­¦è¯¾</td>\n",
       "      <td>3Då¥å¦å¬è§é¦</td>\n",
       "      <td>369</td>\n",
       "      <td>2747</td>\n",
       "      <td>0</td>\n",
       "      <td>2017-03-30</td>\n",
       "    </tr>\n",
       "    <tr>\n",
       "      <th>3</th>\n",
       "      <td>168551179</td>\n",
       "      <td>ar</td>\n",
       "      <td>23485496</td>\n",
       "      <td>0</td>\n",
       "      <td>éå¡æ¶ä»£-(çµå½±ãéå¡ä»»å¡ãçå°¾æ²)</td>\n",
       "      <td>åå¾åæ</td>\n",
       "      <td>26</td>\n",
       "      <td>212</td>\n",
       "      <td>0</td>\n",
       "      <td>2017-03-30</td>\n",
       "    </tr>\n",
       "    <tr>\n",
       "      <th>4</th>\n",
       "      <td>168548493</td>\n",
       "      <td>ip</td>\n",
       "      <td>6661513</td>\n",
       "      <td>0</td>\n",
       "      <td>å¹²ç©å¥³</td>\n",
       "      <td>å§è</td>\n",
       "      <td>63</td>\n",
       "      <td>243</td>\n",
       "      <td>0</td>\n",
       "      <td>2017-03-30</td>\n",
       "    </tr>\n",
       "  </tbody>\n",
       "</table>\n",
       "</div>"
      ],
      "text/plain": [
       "         uid device   song_id song_type  \\\n",
       "0  168551247     ar  11881432         0   \n",
       "1  168551248     ip  21393368         0   \n",
       "2  168550496     ar  12495422         0   \n",
       "3  168551179     ar  23485496         0   \n",
       "4  168548493     ip   6661513         0   \n",
       "\n",
       "                                          song_name             singer  \\\n",
       "0                                      ä¸æ¢¦æµ®ç       é¢æ·¡å¦å¦   \n",
       "1                                 éçï¼Introï¼    å¹¼ç¨å­ææ   \n",
       "2              æ¶å¥½ï¼ä½ ä»¬è¦çé«ä¸­æ°å­¦è¯¾  3Då¥å¦å¬è§é¦   \n",
       "3  éå¡æ¶ä»£-(çµå½±ãéå¡ä»»å¡ãçå°¾æ²)       åå¾åæ   \n",
       "4                                         å¹²ç©å¥³             å§è   \n",
       "\n",
       "  play_time song_length paid_flag        date  \n",
       "0        78         149         0  2017-03-30  \n",
       "1        87          87         0  2017-03-30  \n",
       "2       369        2747         0  2017-03-30  \n",
       "3        26         212         0  2017-03-30  \n",
       "4        63         243         0  2017-03-30  "
      ]
     },
     "execution_count": 76,
     "metadata": {},
     "output_type": "execute_result"
    }
   ],
   "source": [
    "pd.DataFrame(df_play.take(5), columns=df_play.columns)"
   ]
  },
  {
   "cell_type": "code",
   "execution_count": 77,
   "metadata": {},
   "outputs": [
    {
     "data": {
      "text/plain": [
       "59433"
      ]
     },
     "execution_count": 77,
     "metadata": {},
     "output_type": "execute_result"
    }
   ],
   "source": [
    "df_play.select('uid').distinct().count()"
   ]
  },
  {
   "cell_type": "code",
   "execution_count": 78,
   "metadata": {},
   "outputs": [],
   "source": [
    "# df_play_select_1: select 'uid' that had activity during dates of feature window\n",
    "\n",
    "df_play_select_1 = df_play.filter((F.col('date')>=feature_window_start_date) & (F.col('date')<=feature_window_end_date))"
   ]
  },
  {
   "cell_type": "code",
   "execution_count": 79,
   "metadata": {},
   "outputs": [
    {
     "data": {
      "text/plain": [
       "57954"
      ]
     },
     "execution_count": 79,
     "metadata": {},
     "output_type": "execute_result"
    }
   ],
   "source": [
    "df_play_select_1.select('uid').distinct().count()"
   ]
  },
  {
   "cell_type": "code",
   "execution_count": 80,
   "metadata": {},
   "outputs": [
    {
     "name": "stdout",
     "output_type": "stream",
     "text": [
      "+-------+------------------+------------------+---------+\n",
      "|summary|         play_time|       song_length|paid_flag|\n",
      "+-------+------------------+------------------+---------+\n",
      "|  count|           8237117|           8239170|  8241922|\n",
      "|   mean|2605.2293294878123|246.72994247903623|      0.0|\n",
      "| stddev| 1068882.011072512|371.94926053769467|      0.0|\n",
      "|    min|      -0.009905762|                -1|        0|\n",
      "|    max|               nan|               999|        0|\n",
      "+-------+------------------+------------------+---------+\n",
      "\n"
     ]
    }
   ],
   "source": [
    "df_play_select_1['play_time', 'song_length', 'paid_flag'].describe().show()"
   ]
  },
  {
   "cell_type": "code",
   "execution_count": 81,
   "metadata": {},
   "outputs": [],
   "source": [
    "# df_play_select_2 : select 'uid' that had 'play_time' >0 and 'song_length'> 0\n",
    "\n",
    "df_play_select_2=df_play_select_1.filter((F.col('play_time')>=0) & (F.col('song_length')>0))"
   ]
  },
  {
   "cell_type": "code",
   "execution_count": 82,
   "metadata": {},
   "outputs": [
    {
     "data": {
      "text/plain": [
       "55984"
      ]
     },
     "execution_count": 82,
     "metadata": {},
     "output_type": "execute_result"
    }
   ],
   "source": [
    "df_play_select_2.select('uid').distinct().count()"
   ]
  },
  {
   "cell_type": "code",
   "execution_count": 83,
   "metadata": {},
   "outputs": [],
   "source": [
    "# df_play_select3 : select 'uid' that 'play_time' <= 'song_length'\n",
    "\n",
    "df_play_select_3 = df_play_select_2.filter(F.col('play_time') <= F.col('song_length'))"
   ]
  },
  {
   "cell_type": "code",
   "execution_count": 84,
   "metadata": {},
   "outputs": [
    {
     "data": {
      "text/plain": [
       "55175"
      ]
     },
     "execution_count": 84,
     "metadata": {},
     "output_type": "execute_result"
    }
   ],
   "source": [
    "df_play_select_3.select('uid').distinct().count()"
   ]
  },
  {
   "cell_type": "code",
   "execution_count": 85,
   "metadata": {},
   "outputs": [],
   "source": [
    "df_play_select_3.createOrReplaceTempView('table1')"
   ]
  },
  {
   "cell_type": "code",
   "execution_count": 86,
   "metadata": {},
   "outputs": [],
   "source": [
    "df_play_select_3 = spark.sql(\"SELECT uid, SUM(play_time) AS total_play, SUM(song_length) AS total_song_length \\\n",
    "              FROM table1 \\\n",
    "              GROUP BY uid\")"
   ]
  },
  {
   "cell_type": "code",
   "execution_count": 87,
   "metadata": {},
   "outputs": [
    {
     "name": "stdout",
     "output_type": "stream",
     "text": [
      "+-------+-----------------+-----------------+\n",
      "|summary|       total_play|total_song_length|\n",
      "+-------+-----------------+-----------------+\n",
      "|  count|            55175|            55175|\n",
      "|   mean|99543.21029408059|29986.49162806222|\n",
      "| stddev|1807686.082253844|72415.36005171141|\n",
      "|    min|              0.0|              2.0|\n",
      "|    max|     2.59826157E8|        3075217.0|\n",
      "+-------+-----------------+-----------------+\n",
      "\n"
     ]
    }
   ],
   "source": [
    "df_play_select_3['total_play', 'total_song_length'].describe().show()"
   ]
  },
  {
   "cell_type": "code",
   "execution_count": 88,
   "metadata": {},
   "outputs": [
    {
     "name": "stdout",
     "output_type": "stream",
     "text": [
      "0.98 quantile of total play time is: [259393.0]\n",
      "0.99 quantile of total play time is: [975716.0]\n"
     ]
    }
   ],
   "source": [
    "# approxQuantile(col, probabilities, relativeError)¶\n",
    "# relativeError – The relative target precision to achieve (>= 0). If set to zero, the exact quantiles are computed, which could be very expensive. Note that values greater than 1 are accepted but give the same result as 1.\n",
    "\n",
    "\n",
    "# count_ceiling = uid_count.approxQuantile('count', [0.98],0)\n",
    "# print('98 percentile of user play time is {:0}'.format(count_ceiling[0]))\n",
    "\n",
    "top_98_quantile_play = df_play_select_3.approxQuantile('total_play', [0.98],0)\n",
    "top_99_quantile_play = df_play_select_3.approxQuantile('total_play', [0.99],0)\n",
    "\n",
    "print('0.98 quantile of total play time is:', top_98_quantile_play)\n",
    "print('0.99 quantile of total play time is:', top_99_quantile_play)"
   ]
  },
  {
   "cell_type": "code",
   "execution_count": 89,
   "metadata": {},
   "outputs": [
    {
     "name": "stdout",
     "output_type": "stream",
     "text": [
      "0.98 quantile suggest user play music for  2.4  hours per day\n",
      "0.99 quantile suggest user play music for  9.0  hours per day\n"
     ]
    }
   ],
   "source": [
    "# we know the feature window is 30 days\n",
    "# IF we consider unit of play time second\n",
    "\n",
    "print('0.98 quantile suggest user play music for ', \"%.1f\"%( top_98_quantile_play[0]/(60*60*30)), ' hours per day' )\n",
    "print('0.99 quantile suggest user play music for ', \"%.1f\"%(top_99_quantile_play[0]/(60*60*30)), ' hours per day' )"
   ]
  },
  {
   "cell_type": "markdown",
   "metadata": {},
   "source": [
    "##### It is possible that uid spent 9 hours on musicbox player.\n",
    "##### I will remove 'uid' that spend more than 9 hours per day, KEEP 0.99 quantile"
   ]
  },
  {
   "cell_type": "code",
   "execution_count": 90,
   "metadata": {},
   "outputs": [
    {
     "name": "stdout",
     "output_type": "stream",
     "text": [
      "0.98 quantile of total play time is: [238829.0]\n",
      "0.99 quantile of total play time is: [332760.0]\n"
     ]
    }
   ],
   "source": [
    "top_98_quantile_song = df_play_select_3.approxQuantile('total_song_length', [0.98],0)\n",
    "top_99_quantile_song = df_play_select_3.approxQuantile('total_song_length', [0.99],0)\n",
    "\n",
    "print('0.98 quantile of total play time is:', top_98_quantile_song)\n",
    "print('0.99 quantile of total play time is:', top_99_quantile_song)"
   ]
  },
  {
   "cell_type": "code",
   "execution_count": 91,
   "metadata": {},
   "outputs": [
    {
     "name": "stdout",
     "output_type": "stream",
     "text": [
      "0.98 quantile suggest total length of all music for the uid is:  2.2 hours per day\n",
      "0.99 quantile suggest total length of all music for the uid is:  3.1 hours per day\n"
     ]
    }
   ],
   "source": [
    "print('0.98 quantile suggest total length of all music for the uid is: ', \n",
    "      \"%0.1f\"%(top_98_quantile_song[0]/(60*60*30)), 'hours per day')\n",
    "print('0.99 quantile suggest total length of all music for the uid is: ', \n",
    "      \"%0.1f\"%(top_99_quantile_song[0]/(60*60*30)), 'hours per day')"
   ]
  },
  {
   "cell_type": "markdown",
   "metadata": {},
   "source": [
    "###### I think 0.98 and 0.99 quantile of total_song_length look nomral. No need remove"
   ]
  },
  {
   "cell_type": "markdown",
   "metadata": {},
   "source": [
    "#### The quantile means some users play too much a day, should be removed"
   ]
  },
  {
   "cell_type": "code",
   "execution_count": 92,
   "metadata": {},
   "outputs": [],
   "source": [
    "# df_play_select_4: select 'uid' that total_play length < 0.99 quantile\n",
    "\n",
    "df_play_select_4 = df_play_select_3.filter(F.col('total_play') <= top_99_quantile_play[0])"
   ]
  },
  {
   "cell_type": "code",
   "execution_count": 93,
   "metadata": {},
   "outputs": [
    {
     "data": {
      "text/plain": [
       "54624"
      ]
     },
     "execution_count": 93,
     "metadata": {},
     "output_type": "execute_result"
    }
   ],
   "source": [
    "df_play_select_4.select('uid').distinct().count()"
   ]
  },
  {
   "cell_type": "code",
   "execution_count": 94,
   "metadata": {},
   "outputs": [],
   "source": [
    "# count NA before we go further\n",
    "\n",
    "df_play_select_4a = df_play_select_4.toPandas().isna().sum()"
   ]
  },
  {
   "cell_type": "code",
   "execution_count": 95,
   "metadata": {},
   "outputs": [
    {
     "name": "stdout",
     "output_type": "stream",
     "text": [
      "summuary of NA number:\n",
      " uid                  0\n",
      "total_play           0\n",
      "total_song_length    0\n",
      "dtype: int64\n"
     ]
    }
   ],
   "source": [
    "print('summuary of NA number:\\n', df_play_select_4a)"
   ]
  },
  {
   "cell_type": "code",
   "execution_count": 96,
   "metadata": {},
   "outputs": [],
   "source": [
    "# generate one new column show percentage of play a song on average \n",
    "# new_df = old_df.withColumn('col_n', old_df.col_1 - old_df.col_2)\n",
    "\n",
    "df_play_select_4 = df_play_select_4.withColumn('play_percentage', df_play_select_4.total_play/df_play_select_4.total_song_length)"
   ]
  },
  {
   "cell_type": "code",
   "execution_count": 97,
   "metadata": {},
   "outputs": [
    {
     "name": "stdout",
     "output_type": "stream",
     "text": [
      "+-------+--------------------+------------------+------------------+------------------+\n",
      "|summary|                 uid|        total_play| total_song_length|   play_percentage|\n",
      "+-------+--------------------+------------------+------------------+------------------+\n",
      "|  count|               54624|             54624|             54624|             54624|\n",
      "|   mean|1.6737449265916082E8|20991.262155387678|30041.829664219626| 3.359217196436256|\n",
      "| stddev|1.0730956346794482E7|57048.310788572075| 71043.28357420773|46.008747649519165|\n",
      "|    min|           100071797|               0.0|               2.0|               0.0|\n",
      "|    max|            99581051|          975716.0|         2734161.0| 999.8111888111888|\n",
      "+-------+--------------------+------------------+------------------+------------------+\n",
      "\n"
     ]
    }
   ],
   "source": [
    "df_play_select_4.describe().show()"
   ]
  },
  {
   "cell_type": "code",
   "execution_count": 98,
   "metadata": {},
   "outputs": [],
   "source": [
    "df_play_select_4 = df_play_select_4.select('uid', 'total_play', 'play_percentage')"
   ]
  },
  {
   "cell_type": "code",
   "execution_count": 99,
   "metadata": {},
   "outputs": [
    {
     "name": "stdout",
     "output_type": "stream",
     "text": [
      "+------+-----+\n",
      "|device|count|\n",
      "+------+-----+\n",
      "|    mc|    2|\n",
      "|    ar|50626|\n",
      "|    ip| 7342|\n",
      "+------+-----+\n",
      "\n"
     ]
    }
   ],
   "source": [
    "# df_play_select_5: select 'uid' and their 'device' DURING datas of feature window\n",
    "df_play_device = df_play_select_1.select('uid', 'device').distinct()\n",
    "df_play_device.groupBy('device').count().show()"
   ]
  },
  {
   "cell_type": "code",
   "execution_count": 100,
   "metadata": {},
   "outputs": [
    {
     "name": "stdout",
     "output_type": "stream",
     "text": [
      "+------+-----+\n",
      "|device|count|\n",
      "+------+-----+\n",
      "|     1|50626|\n",
      "|     0| 7344|\n",
      "+------+-----+\n",
      "\n"
     ]
    }
   ],
   "source": [
    "# combine 'mac' and 'ip' together\n",
    "\n",
    "df_play_device = df_play_device.withColumn('device', F.when(df_play_device['device'] == 'mc', 0).when(df_play_device['device']=='ip',0).otherwise(1))\n",
    "df_play_device.groupBy('device').count().show()"
   ]
  },
  {
   "cell_type": "markdown",
   "metadata": {},
   "source": [
    "### 5. Combine label and features into one dataframe\n",
    "##### df_label: 'uid' with churn lable\n",
    "##### df_freq_feature_list:  uid' with frequency features ----> list\n",
    "##### df_recn_feature_list: 'uid' with recency feature ---> list\n",
    "##### df_play_select_4: 'uid' with ('total_play', 'play_percentage') ----> 'uid' had reasonable play record, and function as benchmark\n",
    "##### df_play_device: 'uid' with device feature\n"
   ]
  },
  {
   "cell_type": "code",
   "execution_count": 101,
   "metadata": {},
   "outputs": [],
   "source": [
    "# define function for join\n",
    "\n",
    "def join_data(df_orig, df_feature_list):\n",
    "    for df_feature in df_feature_list:\n",
    "        df_orig = df_orig.join(df_feature, on = 'uid', how='left')\n",
    "    return df_orig"
   ]
  },
  {
   "cell_type": "code",
   "execution_count": 102,
   "metadata": {},
   "outputs": [],
   "source": [
    "df_model_1 = join_data(df_play_select_4, df_freq_feature_list)"
   ]
  },
  {
   "cell_type": "code",
   "execution_count": 103,
   "metadata": {},
   "outputs": [],
   "source": [
    "df_model_2 = join_data(df_model_1, df_recn_feature_list)"
   ]
  },
  {
   "cell_type": "code",
   "execution_count": 104,
   "metadata": {},
   "outputs": [],
   "source": [
    "df_model_3 = join_data(df_model_2, [df_label])"
   ]
  },
  {
   "cell_type": "code",
   "execution_count": 105,
   "metadata": {},
   "outputs": [],
   "source": [
    "df_model_4 = join_data(df_model_3, [df_play_device])"
   ]
  },
  {
   "cell_type": "code",
   "execution_count": 106,
   "metadata": {},
   "outputs": [],
   "source": [
    "df_model_4.fillna(0).toPandas().to_csv('/Users/fanyang/Documents/musicbox/data/churn_model_0116.csv')"
   ]
  },
  {
   "cell_type": "code",
   "execution_count": null,
   "metadata": {},
   "outputs": [],
   "source": []
  }
 ],
 "metadata": {
  "kernelspec": {
   "display_name": "Python 3",
   "language": "python",
   "name": "python3"
  },
  "language_info": {
   "codemirror_mode": {
    "name": "ipython",
    "version": 3
   },
   "file_extension": ".py",
   "mimetype": "text/x-python",
   "name": "python",
   "nbconvert_exporter": "python",
   "pygments_lexer": "ipython3",
   "version": "3.7.1"
  }
 },
 "nbformat": 4,
 "nbformat_minor": 2
}
