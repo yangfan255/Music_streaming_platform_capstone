{
 "cells": [
  {
   "cell_type": "code",
   "execution_count": 1,
   "metadata": {},
   "outputs": [
    {
     "name": "stdout",
     "output_type": "stream",
     "text": [
      "Welcome to\n",
      "      ____              __\n",
      "     / __/__  ___ _____/ /__\n",
      "    _\\ \\/ _ \\/ _ `/ __/  '_/\n",
      "   /__ / .__/\\_,_/_/ /_/\\_\\   version 2.4.0\n",
      "      /_/\n",
      "\n",
      "Using Python version 3.6.8 (default, Dec 29 2018 19:04:46)\n",
      "SparkSession available as 'spark'.\n"
     ]
    }
   ],
   "source": [
    "import os\n",
    "exec(open(os.path.join(os.environ[\"SPARK_HOME\"], \"python/pyspark/shell.py\")).read())"
   ]
  },
  {
   "cell_type": "code",
   "execution_count": 1,
   "metadata": {},
   "outputs": [],
   "source": [
    "import os\n",
    "import warnings\n",
    "warnings.filterwarnings('ignore')\n",
    "import pandas as pd\n",
    "\n",
    "import pyspark.sql.functions as F\n",
    "from pyspark.ml import Pipeline\n",
    "from pyspark.ml.feature import Bucketizer, MinMaxScaler, VectorAssembler\n",
    "from pyspark.sql.types import DoubleType\n",
    "from pyspark.ml.evaluation import RegressionEvaluator\n",
    "from pyspark.ml.recommendation import ALS"
   ]
  },
  {
   "cell_type": "code",
   "execution_count": 2,
   "metadata": {},
   "outputs": [],
   "source": [
    "# this file contains 'uid', 'song_id' and freqency features for implicity rating\n",
    "\n",
    "df = spark.read.csv(\"/Users/fanyang/Documents/musicbox/data/recommender_model01_0116.csv\",\n",
    "                   header=True, inferSchema=True).cache()"
   ]
  },
  {
   "cell_type": "code",
   "execution_count": 3,
   "metadata": {},
   "outputs": [
    {
     "data": {
      "text/html": [
       "<div>\n",
       "<style scoped>\n",
       "    .dataframe tbody tr th:only-of-type {\n",
       "        vertical-align: middle;\n",
       "    }\n",
       "\n",
       "    .dataframe tbody tr th {\n",
       "        vertical-align: top;\n",
       "    }\n",
       "\n",
       "    .dataframe thead th {\n",
       "        text-align: right;\n",
       "    }\n",
       "</style>\n",
       "<table border=\"1\" class=\"dataframe\">\n",
       "  <thead>\n",
       "    <tr style=\"text-align: right;\">\n",
       "      <th></th>\n",
       "      <th>_c0</th>\n",
       "      <th>uid</th>\n",
       "      <th>song_id</th>\n",
       "      <th>comp_play_last_7</th>\n",
       "      <th>comp_play_last_14</th>\n",
       "      <th>comp_play_last_21</th>\n",
       "      <th>comp_play_last_30</th>\n",
       "      <th>comp_play_last_44</th>\n",
       "      <th>freq_P_last_7</th>\n",
       "      <th>freq_P_last_14</th>\n",
       "      <th>freq_P_last_21</th>\n",
       "      <th>freq_P_last_30</th>\n",
       "      <th>freq_P_last_44</th>\n",
       "      <th>freq_D_last_7</th>\n",
       "      <th>freq_D_last_14</th>\n",
       "      <th>freq_D_last_21</th>\n",
       "      <th>freq_D_last_30</th>\n",
       "      <th>freq_D_last_44</th>\n",
       "    </tr>\n",
       "  </thead>\n",
       "  <tbody>\n",
       "    <tr>\n",
       "      <th>0</th>\n",
       "      <td>0</td>\n",
       "      <td>103103073</td>\n",
       "      <td>572912</td>\n",
       "      <td>0</td>\n",
       "      <td>0</td>\n",
       "      <td>0</td>\n",
       "      <td>0</td>\n",
       "      <td>0</td>\n",
       "      <td>0</td>\n",
       "      <td>0</td>\n",
       "      <td>0</td>\n",
       "      <td>0</td>\n",
       "      <td>1</td>\n",
       "      <td>0</td>\n",
       "      <td>0</td>\n",
       "      <td>0</td>\n",
       "      <td>0</td>\n",
       "      <td>0</td>\n",
       "    </tr>\n",
       "    <tr>\n",
       "      <th>1</th>\n",
       "      <td>1</td>\n",
       "      <td>104737814</td>\n",
       "      <td>0</td>\n",
       "      <td>0</td>\n",
       "      <td>0</td>\n",
       "      <td>0</td>\n",
       "      <td>0</td>\n",
       "      <td>0</td>\n",
       "      <td>0</td>\n",
       "      <td>0</td>\n",
       "      <td>0</td>\n",
       "      <td>0</td>\n",
       "      <td>127</td>\n",
       "      <td>0</td>\n",
       "      <td>0</td>\n",
       "      <td>0</td>\n",
       "      <td>0</td>\n",
       "      <td>0</td>\n",
       "    </tr>\n",
       "    <tr>\n",
       "      <th>2</th>\n",
       "      <td>2</td>\n",
       "      <td>10919480</td>\n",
       "      <td>277650</td>\n",
       "      <td>2</td>\n",
       "      <td>2</td>\n",
       "      <td>2</td>\n",
       "      <td>2</td>\n",
       "      <td>3</td>\n",
       "      <td>2</td>\n",
       "      <td>2</td>\n",
       "      <td>2</td>\n",
       "      <td>2</td>\n",
       "      <td>3</td>\n",
       "      <td>0</td>\n",
       "      <td>0</td>\n",
       "      <td>0</td>\n",
       "      <td>0</td>\n",
       "      <td>1</td>\n",
       "    </tr>\n",
       "    <tr>\n",
       "      <th>3</th>\n",
       "      <td>3</td>\n",
       "      <td>10919480</td>\n",
       "      <td>389413</td>\n",
       "      <td>0</td>\n",
       "      <td>0</td>\n",
       "      <td>0</td>\n",
       "      <td>1</td>\n",
       "      <td>1</td>\n",
       "      <td>0</td>\n",
       "      <td>0</td>\n",
       "      <td>0</td>\n",
       "      <td>1</td>\n",
       "      <td>1</td>\n",
       "      <td>0</td>\n",
       "      <td>0</td>\n",
       "      <td>0</td>\n",
       "      <td>0</td>\n",
       "      <td>0</td>\n",
       "    </tr>\n",
       "    <tr>\n",
       "      <th>4</th>\n",
       "      <td>4</td>\n",
       "      <td>10919480</td>\n",
       "      <td>461313</td>\n",
       "      <td>1</td>\n",
       "      <td>2</td>\n",
       "      <td>2</td>\n",
       "      <td>2</td>\n",
       "      <td>2</td>\n",
       "      <td>1</td>\n",
       "      <td>2</td>\n",
       "      <td>2</td>\n",
       "      <td>3</td>\n",
       "      <td>6</td>\n",
       "      <td>0</td>\n",
       "      <td>0</td>\n",
       "      <td>0</td>\n",
       "      <td>0</td>\n",
       "      <td>1</td>\n",
       "    </tr>\n",
       "  </tbody>\n",
       "</table>\n",
       "</div>"
      ],
      "text/plain": [
       "   _c0        uid song_id  comp_play_last_7  comp_play_last_14  \\\n",
       "0    0  103103073  572912                 0                  0   \n",
       "1    1  104737814       0                 0                  0   \n",
       "2    2   10919480  277650                 2                  2   \n",
       "3    3   10919480  389413                 0                  0   \n",
       "4    4   10919480  461313                 1                  2   \n",
       "\n",
       "   comp_play_last_21  comp_play_last_30  comp_play_last_44  freq_P_last_7  \\\n",
       "0                  0                  0                  0              0   \n",
       "1                  0                  0                  0              0   \n",
       "2                  2                  2                  3              2   \n",
       "3                  0                  1                  1              0   \n",
       "4                  2                  2                  2              1   \n",
       "\n",
       "   freq_P_last_14  freq_P_last_21  freq_P_last_30  freq_P_last_44  \\\n",
       "0               0               0               0               1   \n",
       "1               0               0               0             127   \n",
       "2               2               2               2               3   \n",
       "3               0               0               1               1   \n",
       "4               2               2               3               6   \n",
       "\n",
       "   freq_D_last_7  freq_D_last_14  freq_D_last_21  freq_D_last_30  \\\n",
       "0              0               0               0               0   \n",
       "1              0               0               0               0   \n",
       "2              0               0               0               0   \n",
       "3              0               0               0               0   \n",
       "4              0               0               0               0   \n",
       "\n",
       "   freq_D_last_44  \n",
       "0               0  \n",
       "1               0  \n",
       "2               1  \n",
       "3               0  \n",
       "4               1  "
      ]
     },
     "execution_count": 3,
     "metadata": {},
     "output_type": "execute_result"
    }
   ],
   "source": [
    "pd.DataFrame(df.take(5), columns=df.columns)"
   ]
  },
  {
   "cell_type": "markdown",
   "metadata": {},
   "source": [
    "### 1. data cleaning"
   ]
  },
  {
   "cell_type": "code",
   "execution_count": 4,
   "metadata": {},
   "outputs": [],
   "source": [
    "df = df.drop('_c0')\n",
    "df = df[df.song_id != 0]"
   ]
  },
  {
   "cell_type": "code",
   "execution_count": null,
   "metadata": {},
   "outputs": [],
   "source": [
    "#df.columns()"
   ]
  },
  {
   "cell_type": "code",
   "execution_count": 5,
   "metadata": {},
   "outputs": [
    {
     "name": "stdout",
     "output_type": "stream",
     "text": [
      "Original size of dataframe is: \n",
      "1992574 17\n"
     ]
    }
   ],
   "source": [
    "print(\"Original size of dataframe is: \")\n",
    "print(df.count(), len(df.columns))"
   ]
  },
  {
   "cell_type": "code",
   "execution_count": 6,
   "metadata": {},
   "outputs": [
    {
     "name": "stdout",
     "output_type": "stream",
     "text": [
      "After selecting active users, the size of dataframe is: \n",
      "1897205 18\n"
     ]
    }
   ],
   "source": [
    "# select 'uid' that have activities > 10\n",
    "\n",
    "df_user_select = df.groupBy('uid').count().where(F.col('count')>10)\n",
    "df = df_user_select.join(df, on=['uid'], how='left')\n",
    "print(\"After selecting active users, the size of dataframe is: \")\n",
    "print(df.count(), len(df.columns))"
   ]
  },
  {
   "cell_type": "code",
   "execution_count": 7,
   "metadata": {},
   "outputs": [
    {
     "name": "stdout",
     "output_type": "stream",
     "text": [
      "the number of distinct 'uid' is 30274\n",
      "the number of distinct 'song_id' is 303507\n"
     ]
    }
   ],
   "source": [
    "print(\"the number of distinct 'uid' is\", (df.select('uid').distinct().count()))\n",
    "print(\"the number of distinct 'song_id' is\", (df.select('song_id').distinct().count()))"
   ]
  },
  {
   "cell_type": "code",
   "execution_count": 8,
   "metadata": {},
   "outputs": [],
   "source": [
    "# method 1: select features from longest time frame 44 days for implicit rating\n",
    "# remove rows \n",
    "df_feature_select = df.select('uid', 'song_id','comp_play_last_44', 'freq_P_last_44', 'freq_D_last_44') \\\n",
    ".where(((F.col('comp_play_last_44')!=0)|(F.col('freq_P_last_44')!=0)) & (F.col('freq_D_last_44')!=0))"
   ]
  },
  {
   "cell_type": "code",
   "execution_count": 9,
   "metadata": {},
   "outputs": [
    {
     "data": {
      "text/plain": [
       "278483"
      ]
     },
     "execution_count": 9,
     "metadata": {},
     "output_type": "execute_result"
    }
   ],
   "source": [
    "df_feature_select.count()"
   ]
  },
  {
   "cell_type": "code",
   "execution_count": null,
   "metadata": {},
   "outputs": [],
   "source": [
    "#df_reco = df.select('uid', 'song_id', 'freq_P_last_44', 'freq_D_last_44', 'comp_play_last_44') \\\n",
    "#            .where((F.col('freq_D_last_44')!=0) & ((F.col('freq_P_last_44')!=0)|(F.col('comp_play_last_44')!=0)))"
   ]
  },
  {
   "cell_type": "code",
   "execution_count": 10,
   "metadata": {},
   "outputs": [
    {
     "name": "stdout",
     "output_type": "stream",
     "text": [
      "+---+-------+-----------------+--------------+--------------+\n",
      "|uid|song_id|comp_play_last_44|freq_P_last_44|freq_D_last_44|\n",
      "+---+-------+-----------------+--------------+--------------+\n",
      "|  0|      0|                0|             0|             0|\n",
      "+---+-------+-----------------+--------------+--------------+\n",
      "\n"
     ]
    }
   ],
   "source": [
    "# check NULL before transformation\n",
    "#df_play_select_2.select(*[F.sum(F.col(c).isNull().cast('int'))\\\n",
    "#                          .alias(c) for c in df_play_select_2.columns]).show()\n",
    "\n",
    "df_feature_select.select(*[F.sum(F.col(c).isNull().cast('int')) \\\n",
    "                           .alias(c) for c in df_feature_select.columns]).show()\n"
   ]
  },
  {
   "cell_type": "markdown",
   "metadata": {},
   "source": [
    "### 2. feature transformation to construct implicit rating"
   ]
  },
  {
   "cell_type": "code",
   "execution_count": 11,
   "metadata": {},
   "outputs": [],
   "source": [
    "df_feature_transform = df_feature_select.withColumn('comp_play_last_44_transf', F.log10(F.col('comp_play_last_44')+1)) \\\n",
    "                        .withColumn('freq_P_last_44_transf', F.log10(F.col('freq_P_last_44')+1)) \\\n",
    "                        .withColumn('freq_D_last_44_transf', F.log10(F.col('freq_D_last_44')+1)) \\\n",
    "                        .withColumn('rating', 0.33*F.col('comp_play_last_44_transf')+0.33*F.col('freq_P_last_44_transf')\\\n",
    "                            +0.33*F.col('freq_D_last_44_transf')) \n"
   ]
  },
  {
   "cell_type": "code",
   "execution_count": 12,
   "metadata": {},
   "outputs": [
    {
     "data": {
      "text/plain": [
       "['uid',\n",
       " 'song_id',\n",
       " 'comp_play_last_44',\n",
       " 'freq_P_last_44',\n",
       " 'freq_D_last_44',\n",
       " 'comp_play_last_44_transf',\n",
       " 'freq_P_last_44_transf',\n",
       " 'freq_D_last_44_transf',\n",
       " 'rating']"
      ]
     },
     "execution_count": 12,
     "metadata": {},
     "output_type": "execute_result"
    }
   ],
   "source": [
    "df_feature_transform.columns"
   ]
  },
  {
   "cell_type": "code",
   "execution_count": 13,
   "metadata": {},
   "outputs": [],
   "source": [
    "assembler = VectorAssembler(inputCols=['rating'], outputCol='rating_assembled')\n",
    "scaler = MinMaxScaler(inputCol='rating_assembled', outputCol='rating_scaled')\n",
    "pp = Pipeline(stages=[assembler, scaler])\n",
    "pp_model = pp.fit(df_feature_transform)\n",
    "df_reco= pp_model.transform(df_feature_transform)\n"
   ]
  },
  {
   "cell_type": "code",
   "execution_count": 14,
   "metadata": {},
   "outputs": [
    {
     "data": {
      "text/plain": [
       "DataFrame[uid: int, song_id: decimal(20,0), comp_play_last_44: int, freq_P_last_44: int, freq_D_last_44: int, comp_play_last_44_transf: double, freq_P_last_44_transf: double, freq_D_last_44_transf: double, rating: double, rating_assembled: vector, rating_scaled: vector]"
      ]
     },
     "execution_count": 14,
     "metadata": {},
     "output_type": "execute_result"
    }
   ],
   "source": [
    "df_reco"
   ]
  },
  {
   "cell_type": "code",
   "execution_count": 15,
   "metadata": {},
   "outputs": [],
   "source": [
    "Vec2num_udf = F.udf(lambda x: float(x[0]), DoubleType())\n",
    "df_reco = df_reco.withColumn('rating_scaled_num', Vec2num_udf('rating_scaled'))"
   ]
  },
  {
   "cell_type": "code",
   "execution_count": 17,
   "metadata": {},
   "outputs": [
    {
     "data": {
      "text/plain": [
       "DataFrame[uid: int, song_id: decimal(20,0), comp_play_last_44: int, freq_P_last_44: int, freq_D_last_44: int, comp_play_last_44_transf: double, freq_P_last_44_transf: double, freq_D_last_44_transf: double, rating: double, rating_assembled: vector, rating_scaled: vector, rating_scaled_num: double]"
      ]
     },
     "execution_count": 17,
     "metadata": {},
     "output_type": "execute_result"
    }
   ],
   "source": [
    "df_reco"
   ]
  },
  {
   "cell_type": "code",
   "execution_count": 18,
   "metadata": {},
   "outputs": [],
   "source": [
    "splits = [.0, 1/30, 1/15, 5/15, 7/15, 1]\n",
    "bucketizer = Bucketizer(splits=splits, inputCol='rating_scaled_num', outputCol='rating_final')\n",
    "df_reco= bucketizer.transform(df_reco)\n",
    "df_reco = df_reco.withColumn('rating_final', F.col('rating_final')+1)"
   ]
  },
  {
   "cell_type": "code",
   "execution_count": 19,
   "metadata": {},
   "outputs": [
    {
     "data": {
      "text/plain": [
       "DataFrame[uid: int, song_id: decimal(20,0), comp_play_last_44: int, freq_P_last_44: int, freq_D_last_44: int, comp_play_last_44_transf: double, freq_P_last_44_transf: double, freq_D_last_44_transf: double, rating: double, rating_assembled: vector, rating_scaled: vector, rating_scaled_num: double, rating_final: double]"
      ]
     },
     "execution_count": 19,
     "metadata": {},
     "output_type": "execute_result"
    }
   ],
   "source": [
    "df_reco"
   ]
  },
  {
   "cell_type": "code",
   "execution_count": 20,
   "metadata": {},
   "outputs": [],
   "source": [
    "df_reco.toPandas().to_csv('/Users/fanyang/Documents/musicbox/data/rating_0120.csv',index=False)"
   ]
  },
  {
   "cell_type": "code",
   "execution_count": 21,
   "metadata": {},
   "outputs": [],
   "source": [
    "df_reco_spark = df_reco.select('uid', 'song_id', 'rating_scaled_num', 'rating_final')\n"
   ]
  },
  {
   "cell_type": "code",
   "execution_count": 22,
   "metadata": {},
   "outputs": [
    {
     "data": {
      "text/plain": [
       "DataFrame[uid: int, song_id: decimal(20,0), rating_scaled_num: double, rating_final: double]"
      ]
     },
     "execution_count": 22,
     "metadata": {},
     "output_type": "execute_result"
    }
   ],
   "source": [
    "df_reco_spark"
   ]
  },
  {
   "cell_type": "code",
   "execution_count": 23,
   "metadata": {},
   "outputs": [
    {
     "name": "stdout",
     "output_type": "stream",
     "text": [
      "root\n",
      " |-- uid: integer (nullable = true)\n",
      " |-- song_id: decimal(20,0) (nullable = true)\n",
      " |-- rating_scaled_num: double (nullable = true)\n",
      " |-- rating_final: double (nullable = true)\n",
      "\n"
     ]
    }
   ],
   "source": [
    "df_reco_spark.printSchema()"
   ]
  },
  {
   "cell_type": "code",
   "execution_count": 24,
   "metadata": {},
   "outputs": [
    {
     "name": "stdout",
     "output_type": "stream",
     "text": [
      "+------------+------+\n",
      "|rating_final| count|\n",
      "+------------+------+\n",
      "|         1.0| 34872|\n",
      "|         4.0| 22451|\n",
      "|         3.0|176574|\n",
      "|         2.0| 39329|\n",
      "|         5.0|  5257|\n",
      "+------------+------+\n",
      "\n"
     ]
    }
   ],
   "source": [
    "df_reco_spark.groupBy('rating_final').count().show()"
   ]
  },
  {
   "cell_type": "code",
   "execution_count": 25,
   "metadata": {},
   "outputs": [],
   "source": [
    "split_seed = 301\n",
    "train, test = df_reco_spark.randomSplit(weights=[.7,.3],seed=split_seed)"
   ]
  },
  {
   "cell_type": "markdown",
   "metadata": {},
   "source": [
    "### 3. recommend model1: non-implicit method"
   ]
  },
  {
   "cell_type": "code",
   "execution_count": 26,
   "metadata": {},
   "outputs": [],
   "source": [
    "als_1 = ALS(maxIter=10, regParam=0.2, userCol=\"uid\", itemCol=\"song_id\", ratingCol=\"rating_final\",\n",
    "          coldStartStrategy=\"drop\")\n",
    "model_1 = als_1.fit(train)"
   ]
  },
  {
   "cell_type": "code",
   "execution_count": 28,
   "metadata": {},
   "outputs": [
    {
     "name": "stdout",
     "output_type": "stream",
     "text": [
      "Root-mean-square error = 0.8928251915212452\n"
     ]
    }
   ],
   "source": [
    "# Evaluate the model by computing the RMSE on the test data\n",
    "predictions_1 = model_1.transform(test)\n",
    "evaluator_1 = RegressionEvaluator(metricName=\"rmse\", labelCol=\"rating_final\",\n",
    "                                predictionCol=\"prediction\")\n",
    "rmse_1 = evaluator_1.evaluate(predictions_1)\n",
    "print(\"Root-mean-square error = \" + str(rmse_1))"
   ]
  },
  {
   "cell_type": "code",
   "execution_count": 29,
   "metadata": {},
   "outputs": [],
   "source": [
    "# Generate top 10 movie recommendations for each user\n",
    "userRecs = model_1.recommendForAllUsers(10)\n",
    "# Generate top 10 user recommendations for each movie\n",
    "movieRecs = model_1.recommendForAllItems(10)"
   ]
  },
  {
   "cell_type": "code",
   "execution_count": 30,
   "metadata": {},
   "outputs": [
    {
     "data": {
      "text/html": [
       "<div>\n",
       "<style scoped>\n",
       "    .dataframe tbody tr th:only-of-type {\n",
       "        vertical-align: middle;\n",
       "    }\n",
       "\n",
       "    .dataframe tbody tr th {\n",
       "        vertical-align: top;\n",
       "    }\n",
       "\n",
       "    .dataframe thead th {\n",
       "        text-align: right;\n",
       "    }\n",
       "</style>\n",
       "<table border=\"1\" class=\"dataframe\">\n",
       "  <thead>\n",
       "    <tr style=\"text-align: right;\">\n",
       "      <th></th>\n",
       "      <th>uid</th>\n",
       "      <th>recommendations</th>\n",
       "    </tr>\n",
       "  </thead>\n",
       "  <tbody>\n",
       "    <tr>\n",
       "      <th>0</th>\n",
       "      <td>167674030</td>\n",
       "      <td>[(508488, 4.8512444496154785), (14375725, 4.65...</td>\n",
       "    </tr>\n",
       "    <tr>\n",
       "      <th>1</th>\n",
       "      <td>167979490</td>\n",
       "      <td>[(6945228, 2.3284921646118164), (4546777, 2.06...</td>\n",
       "    </tr>\n",
       "    <tr>\n",
       "      <th>2</th>\n",
       "      <td>168040590</td>\n",
       "      <td>[(6945228, 3.45124888420105), (508488, 3.28019...</td>\n",
       "    </tr>\n",
       "    <tr>\n",
       "      <th>3</th>\n",
       "      <td>168736710</td>\n",
       "      <td>[(6945228, 4.409367084503174), (508488, 4.3784...</td>\n",
       "    </tr>\n",
       "    <tr>\n",
       "      <th>4</th>\n",
       "      <td>168914470</td>\n",
       "      <td>[(6945228, 4.446792125701904), (89971, 4.17810...</td>\n",
       "    </tr>\n",
       "    <tr>\n",
       "      <th>5</th>\n",
       "      <td>169006110</td>\n",
       "      <td>[(14375725, 4.618165493011475), (6945228, 4.60...</td>\n",
       "    </tr>\n",
       "    <tr>\n",
       "      <th>6</th>\n",
       "      <td>168045751</td>\n",
       "      <td>[(23492088, 3.730064630508423), (4661109, 3.68...</td>\n",
       "    </tr>\n",
       "    <tr>\n",
       "      <th>7</th>\n",
       "      <td>168294401</td>\n",
       "      <td>[(23657920, 3.7841367721557617), (6945228, 3.7...</td>\n",
       "    </tr>\n",
       "    <tr>\n",
       "      <th>8</th>\n",
       "      <td>168603631</td>\n",
       "      <td>[(6945228, 2.90990948677063), (7044821, 2.8002...</td>\n",
       "    </tr>\n",
       "    <tr>\n",
       "      <th>9</th>\n",
       "      <td>168870111</td>\n",
       "      <td>[(508488, 3.3889827728271484), (6945228, 3.302...</td>\n",
       "    </tr>\n",
       "  </tbody>\n",
       "</table>\n",
       "</div>"
      ],
      "text/plain": [
       "         uid                                    recommendations\n",
       "0  167674030  [(508488, 4.8512444496154785), (14375725, 4.65...\n",
       "1  167979490  [(6945228, 2.3284921646118164), (4546777, 2.06...\n",
       "2  168040590  [(6945228, 3.45124888420105), (508488, 3.28019...\n",
       "3  168736710  [(6945228, 4.409367084503174), (508488, 4.3784...\n",
       "4  168914470  [(6945228, 4.446792125701904), (89971, 4.17810...\n",
       "5  169006110  [(14375725, 4.618165493011475), (6945228, 4.60...\n",
       "6  168045751  [(23492088, 3.730064630508423), (4661109, 3.68...\n",
       "7  168294401  [(23657920, 3.7841367721557617), (6945228, 3.7...\n",
       "8  168603631  [(6945228, 2.90990948677063), (7044821, 2.8002...\n",
       "9  168870111  [(508488, 3.3889827728271484), (6945228, 3.302..."
      ]
     },
     "execution_count": 30,
     "metadata": {},
     "output_type": "execute_result"
    }
   ],
   "source": [
    "pd.DataFrame(userRecs.take(10), columns=['uid', 'recommendations'])"
   ]
  },
  {
   "cell_type": "code",
   "execution_count": 31,
   "metadata": {},
   "outputs": [
    {
     "name": "stdout",
     "output_type": "stream",
     "text": [
      "+---------+--------------------+\n",
      "|      uid|     recommendations|\n",
      "+---------+--------------------+\n",
      "|167674030|[[508488, 4.85124...|\n",
      "|167979490|[[6945228, 2.3284...|\n",
      "|168040590|[[6945228, 3.4512...|\n",
      "|168736710|[[6945228, 4.4093...|\n",
      "|168914470|[[6945228, 4.4467...|\n",
      "|169006110|[[14375725, 4.618...|\n",
      "|168045751|[[23492088, 3.730...|\n",
      "|168294401|[[23657920, 3.784...|\n",
      "|168603631|[[6945228, 2.9099...|\n",
      "|168870111|[[508488, 3.38898...|\n",
      "|168930551|[[6945228, 4.9578...|\n",
      "|169018731|[[6945228, 1.8339...|\n",
      "|167670762|[[6945228, 3.0333...|\n",
      "|167735352|[[6945228, 8.3415...|\n",
      "|167760432|[[6945228, 4.6451...|\n",
      "|168236162|[[6945228, 4.8850...|\n",
      "|168366812|[[7148282, 5.3620...|\n",
      "|168838372|[[508488, 4.42948...|\n",
      "|168854802|[[6945228, 4.9964...|\n",
      "|167894223|[[15195497, 3.702...|\n",
      "+---------+--------------------+\n",
      "only showing top 20 rows\n",
      "\n"
     ]
    }
   ],
   "source": [
    "userRecs.show()"
   ]
  },
  {
   "cell_type": "code",
   "execution_count": 32,
   "metadata": {},
   "outputs": [
    {
     "data": {
      "text/html": [
       "<div>\n",
       "<style scoped>\n",
       "    .dataframe tbody tr th:only-of-type {\n",
       "        vertical-align: middle;\n",
       "    }\n",
       "\n",
       "    .dataframe tbody tr th {\n",
       "        vertical-align: top;\n",
       "    }\n",
       "\n",
       "    .dataframe thead th {\n",
       "        text-align: right;\n",
       "    }\n",
       "</style>\n",
       "<table border=\"1\" class=\"dataframe\">\n",
       "  <thead>\n",
       "    <tr style=\"text-align: right;\">\n",
       "      <th></th>\n",
       "      <th>song_id</th>\n",
       "      <th>recommendations</th>\n",
       "    </tr>\n",
       "  </thead>\n",
       "  <tbody>\n",
       "    <tr>\n",
       "      <th>0</th>\n",
       "      <td>69042</td>\n",
       "      <td>[(168215501, 3.0692005157470703), (168586329, ...</td>\n",
       "    </tr>\n",
       "    <tr>\n",
       "      <th>1</th>\n",
       "      <td>94695</td>\n",
       "      <td>[(168404412, 1.5893669128417969), (167582094, ...</td>\n",
       "    </tr>\n",
       "    <tr>\n",
       "      <th>2</th>\n",
       "      <td>101775</td>\n",
       "      <td>[(167639478, 3.7814977169036865), (167582094, ...</td>\n",
       "    </tr>\n",
       "    <tr>\n",
       "      <th>3</th>\n",
       "      <td>104656</td>\n",
       "      <td>[(168134566, 3.793409824371338), (168894504, 3...</td>\n",
       "    </tr>\n",
       "    <tr>\n",
       "      <th>4</th>\n",
       "      <td>107032</td>\n",
       "      <td>[(168842861, 3.8268675804138184), (168754482, ...</td>\n",
       "    </tr>\n",
       "    <tr>\n",
       "      <th>5</th>\n",
       "      <td>108221</td>\n",
       "      <td>[(168842861, 1.4583182334899902), (167735352, ...</td>\n",
       "    </tr>\n",
       "    <tr>\n",
       "      <th>6</th>\n",
       "      <td>109172</td>\n",
       "      <td>[(168635054, 4.09170389175415), (168508071, 4....</td>\n",
       "    </tr>\n",
       "    <tr>\n",
       "      <th>7</th>\n",
       "      <td>118989</td>\n",
       "      <td>[(168586329, 4.126330852508545), (168215501, 4...</td>\n",
       "    </tr>\n",
       "    <tr>\n",
       "      <th>8</th>\n",
       "      <td>121749</td>\n",
       "      <td>[(168215501, 4.756392478942871), (168182801, 4...</td>\n",
       "    </tr>\n",
       "    <tr>\n",
       "      <th>9</th>\n",
       "      <td>124743</td>\n",
       "      <td>[(168445833, 4.167388916015625), (168757503, 4...</td>\n",
       "    </tr>\n",
       "  </tbody>\n",
       "</table>\n",
       "</div>"
      ],
      "text/plain": [
       "   song_id                                    recommendations\n",
       "0    69042  [(168215501, 3.0692005157470703), (168586329, ...\n",
       "1    94695  [(168404412, 1.5893669128417969), (167582094, ...\n",
       "2   101775  [(167639478, 3.7814977169036865), (167582094, ...\n",
       "3   104656  [(168134566, 3.793409824371338), (168894504, 3...\n",
       "4   107032  [(168842861, 3.8268675804138184), (168754482, ...\n",
       "5   108221  [(168842861, 1.4583182334899902), (167735352, ...\n",
       "6   109172  [(168635054, 4.09170389175415), (168508071, 4....\n",
       "7   118989  [(168586329, 4.126330852508545), (168215501, 4...\n",
       "8   121749  [(168215501, 4.756392478942871), (168182801, 4...\n",
       "9   124743  [(168445833, 4.167388916015625), (168757503, 4..."
      ]
     },
     "execution_count": 32,
     "metadata": {},
     "output_type": "execute_result"
    }
   ],
   "source": [
    "pd.DataFrame(movieRecs.take(10), columns=['song_id', 'recommendations'])"
   ]
  },
  {
   "cell_type": "code",
   "execution_count": 33,
   "metadata": {},
   "outputs": [
    {
     "name": "stdout",
     "output_type": "stream",
     "text": [
      "+-------+--------------------+\n",
      "|song_id|     recommendations|\n",
      "+-------+--------------------+\n",
      "|  69042|[[168215501, 3.06...|\n",
      "|  94695|[[168404412, 1.58...|\n",
      "| 101775|[[167639478, 3.78...|\n",
      "| 104656|[[168134566, 3.79...|\n",
      "| 107032|[[168842861, 3.82...|\n",
      "| 108221|[[168842861, 1.45...|\n",
      "| 109172|[[168635054, 4.09...|\n",
      "| 118989|[[168586329, 4.12...|\n",
      "| 121749|[[168215501, 4.75...|\n",
      "| 124743|[[168445833, 4.16...|\n",
      "| 125502|[[168202866, 2.99...|\n",
      "| 133948|[[168445833, 4.63...|\n",
      "| 135976|[[168445833, 4.38...|\n",
      "| 144907|[[168138422, 3.05...|\n",
      "| 156365|[[168586329, 5.48...|\n",
      "| 158257|[[168034451, 3.76...|\n",
      "| 197258|[[168260599, 4.41...|\n",
      "| 200878|[[168445833, 4.81...|\n",
      "| 202641|[[168445833, 3.10...|\n",
      "| 204529|[[168700215, 3.19...|\n",
      "+-------+--------------------+\n",
      "only showing top 20 rows\n",
      "\n"
     ]
    }
   ],
   "source": [
    "movieRecs.show()"
   ]
  },
  {
   "cell_type": "code",
   "execution_count": 34,
   "metadata": {},
   "outputs": [
    {
     "name": "stdout",
     "output_type": "stream",
     "text": [
      "+--------+-------------------------------------------------------------------------------------------------------------------------------------------------------------------------------------------------------------------------+\n",
      "|uid     |recommendations                                                                                                                                                                                                          |\n",
      "+--------+-------------------------------------------------------------------------------------------------------------------------------------------------------------------------------------------------------------------------+\n",
      "|10919480|[[6945228, 4.8684473], [6897211, 4.355576], [7044821, 4.3359804], [1006365, 4.332773], [5655571, 4.332773], [21767145, 4.3055477], [4546777, 4.278472], [508488, 4.2591677], [4780222, 4.2423553], [14375725, 4.2402225]]|\n",
      "+--------+-------------------------------------------------------------------------------------------------------------------------------------------------------------------------------------------------------------------------+\n",
      "\n"
     ]
    }
   ],
   "source": [
    "# make recommendation for a particular user\n",
    "userRecs.where(F.col('uid')==10919480).show(truncate=False)"
   ]
  },
  {
   "cell_type": "code",
   "execution_count": 35,
   "metadata": {},
   "outputs": [],
   "source": [
    "# Generate top 10 movie recommendations for a specified set of users\n",
    "users = df_reco_spark.select(als_1.getUserCol()).distinct().limit(3)\n",
    "userSubsetRecs = model_1.recommendForUserSubset(users, 10)\n",
    "# Generate top 10 user recommendations for a specified set of movies\n",
    "movies = df_reco_spark.select(als_1.getItemCol()).distinct().limit(3)\n",
    "movieSubSetRecs = model_1.recommendForItemSubset(movies, 10)"
   ]
  },
  {
   "cell_type": "code",
   "execution_count": 36,
   "metadata": {},
   "outputs": [
    {
     "data": {
      "text/html": [
       "<div>\n",
       "<style scoped>\n",
       "    .dataframe tbody tr th:only-of-type {\n",
       "        vertical-align: middle;\n",
       "    }\n",
       "\n",
       "    .dataframe tbody tr th {\n",
       "        vertical-align: top;\n",
       "    }\n",
       "\n",
       "    .dataframe thead th {\n",
       "        text-align: right;\n",
       "    }\n",
       "</style>\n",
       "<table border=\"1\" class=\"dataframe\">\n",
       "  <thead>\n",
       "    <tr style=\"text-align: right;\">\n",
       "      <th></th>\n",
       "      <th>uid</th>\n",
       "      <th>recommendations</th>\n",
       "    </tr>\n",
       "  </thead>\n",
       "  <tbody>\n",
       "    <tr>\n",
       "      <th>0</th>\n",
       "      <td>167582087</td>\n",
       "      <td>[(4148762, 3.68467378616333), (6644254, 3.6464...</td>\n",
       "    </tr>\n",
       "    <tr>\n",
       "      <th>1</th>\n",
       "      <td>167649848</td>\n",
       "      <td>[(6521928, 3.772763729095459), (14400895, 3.10...</td>\n",
       "    </tr>\n",
       "  </tbody>\n",
       "</table>\n",
       "</div>"
      ],
      "text/plain": [
       "         uid                                   recommendations \n",
       "0  167582087  [(4148762, 3.68467378616333), (6644254, 3.6464...\n",
       "1  167649848  [(6521928, 3.772763729095459), (14400895, 3.10..."
      ]
     },
     "execution_count": 36,
     "metadata": {},
     "output_type": "execute_result"
    }
   ],
   "source": [
    "pd.DataFrame(userSubsetRecs.take(100), columns=['uid', 'recommendations '])"
   ]
  },
  {
   "cell_type": "code",
   "execution_count": 37,
   "metadata": {},
   "outputs": [
    {
     "name": "stdout",
     "output_type": "stream",
     "text": [
      "+--------+--------------------+\n",
      "| song_id|     recommendations|\n",
      "+--------+--------------------+\n",
      "|22847594|[[168445833, 4.75...|\n",
      "| 8357238|[[167955372, 4.64...|\n",
      "+--------+--------------------+\n",
      "\n"
     ]
    }
   ],
   "source": [
    "movieSubSetRecs.show()"
   ]
  },
  {
   "cell_type": "code",
   "execution_count": 38,
   "metadata": {},
   "outputs": [
    {
     "name": "stdout",
     "output_type": "stream",
     "text": [
      "+--------+--------------------------------------------------------------------------------------------------------------------------------------------------------------------------------------------------------------------------------------------+\n",
      "|song_id |recommendations                                                                                                                                                                                                                             |\n",
      "+--------+--------------------------------------------------------------------------------------------------------------------------------------------------------------------------------------------------------------------------------------------+\n",
      "|22847594|[[168445833, 4.7534766], [168251083, 4.620491], [167735352, 4.534008], [168700215, 4.533351], [167955372, 4.5329924], [168444828, 4.531059], [168260599, 4.526379], [168877046, 4.5218973], [168635054, 4.521038], [169023131, 4.5112896]]  |\n",
      "|8357238 |[[167955372, 4.6424108], [168251083, 4.638886], [168147899, 4.6107554], [168635054, 4.6092324], [168946988, 4.5846944], [167672378, 4.570887], [168586329, 4.5653176], [169023131, 4.556967], [168444828, 4.5460877], [168445833, 4.543457]]|\n",
      "+--------+--------------------------------------------------------------------------------------------------------------------------------------------------------------------------------------------------------------------------------------------+\n",
      "\n"
     ]
    }
   ],
   "source": [
    "movieSubSetRecs.show(truncate=False)"
   ]
  },
  {
   "cell_type": "markdown",
   "metadata": {},
   "source": [
    "### 4. recommend model2: implicit method"
   ]
  },
  {
   "cell_type": "code",
   "execution_count": 27,
   "metadata": {},
   "outputs": [
    {
     "name": "stdout",
     "output_type": "stream",
     "text": [
      "Root-mean-square error = 2.828045627477652\n"
     ]
    }
   ],
   "source": [
    "# based on below data, it suggest implicitPrefs=True increase RMSE\n",
    "\n",
    "\n",
    "#als = ALS(maxIter=5, regParam=0.01, implicitPrefs=True,\n",
    "#          userCol=\"userId\", itemCol=\"movieId\", ratingCol=\"rating\")\n",
    "\n",
    "als_3 = ALS(maxIter=10, regParam=0.2, implicitPrefs=True, userCol=\"uid\", itemCol=\"song_id\", ratingCol=\"rating_final\",\n",
    "          coldStartStrategy=\"drop\")\n",
    "\n",
    "model_3 = als_3.fit(train)\n",
    "\n",
    "predictions_3 = model_3.transform(test)\n",
    "evaluator_3 = RegressionEvaluator(metricName=\"rmse\", labelCol=\"rating_final\",\n",
    "                                predictionCol=\"prediction\")\n",
    "rmse_3 = evaluator_3.evaluate(predictions_3)\n",
    "print(\"Root-mean-square error = \" + str(rmse_3))\n"
   ]
  },
  {
   "cell_type": "markdown",
   "metadata": {},
   "source": [
    "#### When implicitPrefs=True, RMSE increased a lot when it compares to model1. \n",
    "#### It suggests that RMSE is not appropriat for implicit rating evaluation"
   ]
  },
  {
   "cell_type": "code",
   "execution_count": null,
   "metadata": {},
   "outputs": [],
   "source": []
  }
 ],
 "metadata": {
  "kernelspec": {
   "display_name": "Python 3",
   "language": "python",
   "name": "python3"
  },
  "language_info": {
   "codemirror_mode": {
    "name": "ipython",
    "version": 3
   },
   "file_extension": ".py",
   "mimetype": "text/x-python",
   "name": "python",
   "nbconvert_exporter": "python",
   "pygments_lexer": "ipython3",
   "version": "3.6.8"
  }
 },
 "nbformat": 4,
 "nbformat_minor": 2
}
