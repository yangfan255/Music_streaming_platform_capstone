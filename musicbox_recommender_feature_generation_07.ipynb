{
 "cells": [
  {
   "cell_type": "code",
   "execution_count": 1,
   "metadata": {},
   "outputs": [],
   "source": [
    "import os\n",
    "import warnings\n",
    "warnings.filterwarnings('ignore')\n",
    "\n",
    "from pyspark import SparkContext\n",
    "import pyspark.sql.functions as F\n",
    "from pyspark.sql.session import SparkSession\n",
    "\n",
    "import numpy as np\n",
    "import pandas as pd\n",
    "import matplotlib.pyplot as plt\n",
    "%matplotlib inline"
   ]
  },
  {
   "cell_type": "code",
   "execution_count": 2,
   "metadata": {},
   "outputs": [
    {
     "data": {
      "text/plain": [
       "DataFrame[uid: string, event: string, song_id: string, date: string]"
      ]
     },
     "execution_count": 2,
     "metadata": {},
     "output_type": "execute_result"
    }
   ],
   "source": [
    "sc = SparkContext('local')\n",
    "spark = SparkSession(sc)\n",
    "\n",
    "df = spark.read.csv('/Users/fanyang/Documents/musicbox/data/event1_downsample.csv', header=True).cache()\n",
    "df"
   ]
  },
  {
   "cell_type": "code",
   "execution_count": 3,
   "metadata": {},
   "outputs": [
    {
     "data": {
      "text/plain": [
       "DataFrame[uid: string, event: string, song_id: string, date: date]"
      ]
     },
     "execution_count": 3,
     "metadata": {},
     "output_type": "execute_result"
    }
   ],
   "source": [
    "df = df.withColumn('date', F.col('date').cast('date'))\n",
    "df"
   ]
  },
  {
   "cell_type": "code",
   "execution_count": 4,
   "metadata": {},
   "outputs": [
    {
     "data": {
      "text/plain": [
       "59436"
      ]
     },
     "execution_count": 4,
     "metadata": {},
     "output_type": "execute_result"
    }
   ],
   "source": [
    "# count distinct 'uid'\n",
    "df.select('uid').distinct().count()"
   ]
  },
  {
   "cell_type": "code",
   "execution_count": 5,
   "metadata": {},
   "outputs": [
    {
     "data": {
      "text/plain": [
       "464805"
      ]
     },
     "execution_count": 5,
     "metadata": {},
     "output_type": "execute_result"
    }
   ],
   "source": [
    "# count distinct 'song_id'\n",
    "df.select('song_id').distinct().count()"
   ]
  },
  {
   "cell_type": "code",
   "execution_count": 6,
   "metadata": {},
   "outputs": [
    {
     "name": "stdout",
     "output_type": "stream",
     "text": [
      "+-----+--------+\n",
      "|event|   count|\n",
      "+-----+--------+\n",
      "|    D|  635296|\n",
      "|    S|  765613|\n",
      "|    P|10816337|\n",
      "+-----+--------+\n",
      "\n"
     ]
    }
   ],
   "source": [
    "df.groupBy('event').count().show()"
   ]
  },
  {
   "cell_type": "code",
   "execution_count": 7,
   "metadata": {},
   "outputs": [
    {
     "data": {
      "text/plain": [
       "3381777"
      ]
     },
     "execution_count": 7,
     "metadata": {},
     "output_type": "execute_result"
    }
   ],
   "source": [
    "df.select('uid', 'song_id').distinct().count()"
   ]
  },
  {
   "cell_type": "markdown",
   "metadata": {},
   "source": [
    "### 1. generate frequency features based on play and download activities"
   ]
  },
  {
   "cell_type": "code",
   "execution_count": 8,
   "metadata": {},
   "outputs": [
    {
     "name": "stdout",
     "output_type": "stream",
     "text": [
      "+----------+----------+\n",
      "|start_date|  end_date|\n",
      "+----------+----------+\n",
      "|2017-03-30|2017-05-12|\n",
      "+----------+----------+\n",
      "\n"
     ]
    }
   ],
   "source": [
    "df.select(F.min(F.col('date')).alias('start_date'),\n",
    "         F.max(F.col('date')).alias('end_date')).show()"
   ]
  },
  {
   "cell_type": "code",
   "execution_count": 9,
   "metadata": {},
   "outputs": [
    {
     "name": "stdout",
     "output_type": "stream",
     "text": [
      "recommendation time window days: 44 that includes:  2017-03-30 ~~ 2017-05-12\n"
     ]
    }
   ],
   "source": [
    "import datetime\n",
    "from dateutil import parser\n",
    "\n",
    "recommend_time_window = 44\n",
    "recommend_time_endtime = parser.parse('2017-05-12').date()\n",
    "recommend_time_starttime = recommend_time_endtime - datetime.timedelta(recommend_time_window - 1)\n",
    "print('recommendation time window days:', recommend_time_window,\n",
    "     'that includes: ', recommend_time_starttime, '~~', recommend_time_endtime)"
   ]
  },
  {
   "cell_type": "code",
   "execution_count": 10,
   "metadata": {},
   "outputs": [],
   "source": [
    "def activity_frequency(df, event, time_window_list, snapshot_date):\n",
    "    df_feature = df \\\n",
    "    .filter(F.col('event') == event) \\\n",
    "    .groupBy('uid', 'song_id') \\\n",
    "    .agg(*[F.sum(F.when((F.col('date')>=snapshot_date-datetime.timedelta(time_window-1)) &\n",
    "                (F.col('date')<=snapshot_date), 1).otherwise(0)) \\\n",
    "           .alias('freq_' + event +'_last_'+str(time_window)) \\\n",
    "          for time_window in time_window_list])\n",
    "    return df_feature"
   ]
  },
  {
   "cell_type": "code",
   "execution_count": 11,
   "metadata": {},
   "outputs": [],
   "source": [
    "# ignore search activity\n",
    "# use the whole time frame date\n",
    "\n",
    "event_list = ['P', 'D']\n",
    "time_window_list = [7,14,21,30,44]\n",
    "snapshot_date = recommend_time_endtime\n",
    "freq_feature_list = []\n",
    "\n",
    "for event in event_list:\n",
    "    freq_feature_list.append(activity_frequency(df, event, time_window_list, snapshot_date))"
   ]
  },
  {
   "cell_type": "code",
   "execution_count": 12,
   "metadata": {},
   "outputs": [
    {
     "data": {
      "text/plain": [
       "[DataFrame[uid: string, song_id: string, freq_P_last_7: bigint, freq_P_last_14: bigint, freq_P_last_21: bigint, freq_P_last_30: bigint, freq_P_last_44: bigint],\n",
       " DataFrame[uid: string, song_id: string, freq_D_last_7: bigint, freq_D_last_14: bigint, freq_D_last_21: bigint, freq_D_last_30: bigint, freq_D_last_44: bigint]]"
      ]
     },
     "execution_count": 12,
     "metadata": {},
     "output_type": "execute_result"
    }
   ],
   "source": [
    "freq_feature_list"
   ]
  },
  {
   "cell_type": "code",
   "execution_count": 13,
   "metadata": {},
   "outputs": [],
   "source": [
    "#(freq_feature_list[0]).show(5)"
   ]
  },
  {
   "cell_type": "code",
   "execution_count": 14,
   "metadata": {},
   "outputs": [
    {
     "data": {
      "text/html": [
       "<div>\n",
       "<style scoped>\n",
       "    .dataframe tbody tr th:only-of-type {\n",
       "        vertical-align: middle;\n",
       "    }\n",
       "\n",
       "    .dataframe tbody tr th {\n",
       "        vertical-align: top;\n",
       "    }\n",
       "\n",
       "    .dataframe thead th {\n",
       "        text-align: right;\n",
       "    }\n",
       "</style>\n",
       "<table border=\"1\" class=\"dataframe\">\n",
       "  <thead>\n",
       "    <tr style=\"text-align: right;\">\n",
       "      <th></th>\n",
       "      <th>uid</th>\n",
       "      <th>song_id</th>\n",
       "      <th>freq_P_last_7</th>\n",
       "      <th>freq_P_last_14</th>\n",
       "      <th>freq_P_last_21</th>\n",
       "      <th>freq_P_last_30</th>\n",
       "      <th>freq_P_last_44</th>\n",
       "    </tr>\n",
       "  </thead>\n",
       "  <tbody>\n",
       "    <tr>\n",
       "      <th>0</th>\n",
       "      <td>168548493</td>\n",
       "      <td>1013317</td>\n",
       "      <td>0</td>\n",
       "      <td>0</td>\n",
       "      <td>0</td>\n",
       "      <td>0</td>\n",
       "      <td>1</td>\n",
       "    </tr>\n",
       "    <tr>\n",
       "      <th>1</th>\n",
       "      <td>168551450</td>\n",
       "      <td>3199100</td>\n",
       "      <td>0</td>\n",
       "      <td>0</td>\n",
       "      <td>0</td>\n",
       "      <td>0</td>\n",
       "      <td>1</td>\n",
       "    </tr>\n",
       "    <tr>\n",
       "      <th>2</th>\n",
       "      <td>168546317</td>\n",
       "      <td>7171098</td>\n",
       "      <td>0</td>\n",
       "      <td>0</td>\n",
       "      <td>0</td>\n",
       "      <td>0</td>\n",
       "      <td>1</td>\n",
       "    </tr>\n",
       "    <tr>\n",
       "      <th>3</th>\n",
       "      <td>168546877</td>\n",
       "      <td>77805</td>\n",
       "      <td>0</td>\n",
       "      <td>0</td>\n",
       "      <td>0</td>\n",
       "      <td>0</td>\n",
       "      <td>2</td>\n",
       "    </tr>\n",
       "    <tr>\n",
       "      <th>4</th>\n",
       "      <td>168552813</td>\n",
       "      <td>1148517</td>\n",
       "      <td>0</td>\n",
       "      <td>0</td>\n",
       "      <td>0</td>\n",
       "      <td>0</td>\n",
       "      <td>1</td>\n",
       "    </tr>\n",
       "  </tbody>\n",
       "</table>\n",
       "</div>"
      ],
      "text/plain": [
       "         uid  song_id  freq_P_last_7  freq_P_last_14  freq_P_last_21  \\\n",
       "0  168548493  1013317              0               0               0   \n",
       "1  168551450  3199100              0               0               0   \n",
       "2  168546317  7171098              0               0               0   \n",
       "3  168546877    77805              0               0               0   \n",
       "4  168552813  1148517              0               0               0   \n",
       "\n",
       "   freq_P_last_30  freq_P_last_44  \n",
       "0               0               1  \n",
       "1               0               1  \n",
       "2               0               1  \n",
       "3               0               2  \n",
       "4               0               1  "
      ]
     },
     "execution_count": 14,
     "metadata": {},
     "output_type": "execute_result"
    }
   ],
   "source": [
    "pd.DataFrame((freq_feature_list[0]).take(5), columns=(freq_feature_list[0]).columns)"
   ]
  },
  {
   "cell_type": "markdown",
   "metadata": {},
   "source": [
    "### 2. generate frequency feature based on play time"
   ]
  },
  {
   "cell_type": "code",
   "execution_count": 15,
   "metadata": {},
   "outputs": [],
   "source": [
    "df_play = spark.read.csv('/Users/fanyang/Documents/musicbox/data/play_downsample.csv', header=True).cache()"
   ]
  },
  {
   "cell_type": "code",
   "execution_count": 16,
   "metadata": {},
   "outputs": [
    {
     "data": {
      "text/html": [
       "<div>\n",
       "<style scoped>\n",
       "    .dataframe tbody tr th:only-of-type {\n",
       "        vertical-align: middle;\n",
       "    }\n",
       "\n",
       "    .dataframe tbody tr th {\n",
       "        vertical-align: top;\n",
       "    }\n",
       "\n",
       "    .dataframe thead th {\n",
       "        text-align: right;\n",
       "    }\n",
       "</style>\n",
       "<table border=\"1\" class=\"dataframe\">\n",
       "  <thead>\n",
       "    <tr style=\"text-align: right;\">\n",
       "      <th></th>\n",
       "      <th>uid</th>\n",
       "      <th>device</th>\n",
       "      <th>song_id</th>\n",
       "      <th>song_type</th>\n",
       "      <th>song_name</th>\n",
       "      <th>singer</th>\n",
       "      <th>play_time</th>\n",
       "      <th>song_length</th>\n",
       "      <th>paid_flag</th>\n",
       "      <th>date</th>\n",
       "    </tr>\n",
       "  </thead>\n",
       "  <tbody>\n",
       "    <tr>\n",
       "      <th>0</th>\n",
       "      <td>168551247</td>\n",
       "      <td>ar</td>\n",
       "      <td>11881432</td>\n",
       "      <td>0</td>\n",
       "      <td>ä¸æ¢¦æµ®ç</td>\n",
       "      <td>é¢æ·¡å¦å¦</td>\n",
       "      <td>78</td>\n",
       "      <td>149</td>\n",
       "      <td>0</td>\n",
       "      <td>2017-03-30</td>\n",
       "    </tr>\n",
       "    <tr>\n",
       "      <th>1</th>\n",
       "      <td>168551248</td>\n",
       "      <td>ip</td>\n",
       "      <td>21393368</td>\n",
       "      <td>0</td>\n",
       "      <td>éçï¼Introï¼</td>\n",
       "      <td>å¹¼ç¨å­ææ</td>\n",
       "      <td>87</td>\n",
       "      <td>87</td>\n",
       "      <td>0</td>\n",
       "      <td>2017-03-30</td>\n",
       "    </tr>\n",
       "    <tr>\n",
       "      <th>2</th>\n",
       "      <td>168550496</td>\n",
       "      <td>ar</td>\n",
       "      <td>12495422</td>\n",
       "      <td>0</td>\n",
       "      <td>æ¶å¥½ï¼ä½ ä»¬è¦çé«ä¸­æ°å­¦è¯¾</td>\n",
       "      <td>3Då¥å¦å¬è§é¦</td>\n",
       "      <td>369</td>\n",
       "      <td>2747</td>\n",
       "      <td>0</td>\n",
       "      <td>2017-03-30</td>\n",
       "    </tr>\n",
       "    <tr>\n",
       "      <th>3</th>\n",
       "      <td>168551179</td>\n",
       "      <td>ar</td>\n",
       "      <td>23485496</td>\n",
       "      <td>0</td>\n",
       "      <td>éå¡æ¶ä»£-(çµå½±ãéå¡ä»»å¡ãçå°¾æ²)</td>\n",
       "      <td>åå¾åæ</td>\n",
       "      <td>26</td>\n",
       "      <td>212</td>\n",
       "      <td>0</td>\n",
       "      <td>2017-03-30</td>\n",
       "    </tr>\n",
       "    <tr>\n",
       "      <th>4</th>\n",
       "      <td>168548493</td>\n",
       "      <td>ip</td>\n",
       "      <td>6661513</td>\n",
       "      <td>0</td>\n",
       "      <td>å¹²ç©å¥³</td>\n",
       "      <td>å§è</td>\n",
       "      <td>63</td>\n",
       "      <td>243</td>\n",
       "      <td>0</td>\n",
       "      <td>2017-03-30</td>\n",
       "    </tr>\n",
       "  </tbody>\n",
       "</table>\n",
       "</div>"
      ],
      "text/plain": [
       "         uid device   song_id song_type  \\\n",
       "0  168551247     ar  11881432         0   \n",
       "1  168551248     ip  21393368         0   \n",
       "2  168550496     ar  12495422         0   \n",
       "3  168551179     ar  23485496         0   \n",
       "4  168548493     ip   6661513         0   \n",
       "\n",
       "                                          song_name             singer  \\\n",
       "0                                      ä¸æ¢¦æµ®ç       é¢æ·¡å¦å¦   \n",
       "1                                 éçï¼Introï¼    å¹¼ç¨å­ææ   \n",
       "2              æ¶å¥½ï¼ä½ ä»¬è¦çé«ä¸­æ°å­¦è¯¾  3Då¥å¦å¬è§é¦   \n",
       "3  éå¡æ¶ä»£-(çµå½±ãéå¡ä»»å¡ãçå°¾æ²)       åå¾åæ   \n",
       "4                                         å¹²ç©å¥³             å§è   \n",
       "\n",
       "  play_time song_length paid_flag        date  \n",
       "0        78         149         0  2017-03-30  \n",
       "1        87          87         0  2017-03-30  \n",
       "2       369        2747         0  2017-03-30  \n",
       "3        26         212         0  2017-03-30  \n",
       "4        63         243         0  2017-03-30  "
      ]
     },
     "execution_count": 16,
     "metadata": {},
     "output_type": "execute_result"
    }
   ],
   "source": [
    "pd.DataFrame(df_play.take(5), columns=df_play.columns)\n"
   ]
  },
  {
   "cell_type": "code",
   "execution_count": 17,
   "metadata": {},
   "outputs": [
    {
     "data": {
      "text/plain": [
       "3123260"
      ]
     },
     "execution_count": 17,
     "metadata": {},
     "output_type": "execute_result"
    }
   ],
   "source": [
    "df_play.select('uid', 'song_id').distinct().count()"
   ]
  },
  {
   "cell_type": "code",
   "execution_count": 18,
   "metadata": {},
   "outputs": [],
   "source": [
    "# df_play_select_1 : select 'uid' that had 'play_time' >0 and 'song_length'> 0\n",
    "\n",
    "df_play_select_1 = df_play.filter((F.col('play_time')>0) & (F.col('song_length')>0))"
   ]
  },
  {
   "cell_type": "code",
   "execution_count": 19,
   "metadata": {},
   "outputs": [],
   "source": [
    "# df_play_select2 : select 'uid' that 'play_time' <= 'song_length'\n",
    "\n",
    "df_play_select_2 = df_play_select_1.filter(F.col('play_time') <= F.col('song_length'))"
   ]
  },
  {
   "cell_type": "code",
   "execution_count": 20,
   "metadata": {},
   "outputs": [
    {
     "data": {
      "text/plain": [
       "2005120"
      ]
     },
     "execution_count": 20,
     "metadata": {},
     "output_type": "execute_result"
    }
   ],
   "source": [
    "df_play_select_2.select('uid', 'song_id').distinct().count()"
   ]
  },
  {
   "cell_type": "code",
   "execution_count": 21,
   "metadata": {},
   "outputs": [
    {
     "name": "stdout",
     "output_type": "stream",
     "text": [
      "+-------+--------------------+--------------------+-----------------+-----------------+\n",
      "|summary|                 uid|             song_id|        play_time|      song_length|\n",
      "+-------+--------------------+--------------------+-----------------+-----------------+\n",
      "|  count|             6683042|             6682142|          6683042|          6683042|\n",
      "|   mean|1.6633839314438933E8|2.631828185012353...|943.3419000537052|262.7244700649295|\n",
      "| stddev|1.5245499658298234E7|5.549839946838064E16|112455.4967262961|285.3364407901398|\n",
      "|    min|           100071797|                  -1|                1|                1|\n",
      "|    max|            99581051|             9999854|              999|              999|\n",
      "+-------+--------------------+--------------------+-----------------+-----------------+\n",
      "\n"
     ]
    }
   ],
   "source": [
    "df_play_select_2['uid', 'song_id', 'play_time', 'song_length'].describe().show()"
   ]
  },
  {
   "cell_type": "code",
   "execution_count": 22,
   "metadata": {},
   "outputs": [
    {
     "name": "stdout",
     "output_type": "stream",
     "text": [
      "+---+------+-------+---------+---------+------+---------+-----------+---------+----+\n",
      "|uid|device|song_id|song_type|song_name|singer|play_time|song_length|paid_flag|date|\n",
      "+---+------+-------+---------+---------+------+---------+-----------+---------+----+\n",
      "|  0|     0|    900|     6850|       19|  2145|        0|          0|        0|   0|\n",
      "+---+------+-------+---------+---------+------+---------+-----------+---------+----+\n",
      "\n"
     ]
    }
   ],
   "source": [
    "# count NA in each feature\n",
    "df_play_select_2.select(*[F.sum(F.col(c).isNull().cast('int')).alias(c) for c in df_play_select_2.columns]).show()\n"
   ]
  },
  {
   "cell_type": "code",
   "execution_count": 23,
   "metadata": {},
   "outputs": [],
   "source": [
    "# a song that has been played over 90% of song_length is considered to be a complete song \n",
    "\n",
    "def complete_play_freq(df, time_window_list, snapshot_date):\n",
    "    df_feature = df \\\n",
    "        .groupBy('uid', 'song_id') \\\n",
    "        .agg(*[F.sum(F.when((F.col('date')>=snapshot_date-datetime.timedelta(time_window-1)) \\\n",
    "                            & (F.col('date')<=snapshot_date) \\\n",
    "                            & (F.col('play_time')/F.col('song_length')>=0.9),1).otherwise(0))\\\n",
    "               .alias('comp_play_last_'+str(time_window)) \\\n",
    "                for time_window in time_window_list])\n",
    "    return df_feature"
   ]
  },
  {
   "cell_type": "code",
   "execution_count": null,
   "metadata": {},
   "outputs": [],
   "source": []
  },
  {
   "cell_type": "code",
   "execution_count": 24,
   "metadata": {},
   "outputs": [
    {
     "data": {
      "text/plain": [
       "DataFrame[uid: string, song_id: string, comp_play_last_7: bigint, comp_play_last_14: bigint, comp_play_last_21: bigint, comp_play_last_30: bigint, comp_play_last_44: bigint]"
      ]
     },
     "execution_count": 24,
     "metadata": {},
     "output_type": "execute_result"
    }
   ],
   "source": [
    "time_window_list = [7,14,21,30,44]\n",
    "snapshot_date = recommend_time_endtime\n",
    "cmp_play_freq_list = complete_play_freq(df_play_select_2, time_window_list, snapshot_date)\n",
    "\n",
    "cmp_play_freq_list "
   ]
  },
  {
   "cell_type": "code",
   "execution_count": 25,
   "metadata": {},
   "outputs": [
    {
     "data": {
      "text/html": [
       "<div>\n",
       "<style scoped>\n",
       "    .dataframe tbody tr th:only-of-type {\n",
       "        vertical-align: middle;\n",
       "    }\n",
       "\n",
       "    .dataframe tbody tr th {\n",
       "        vertical-align: top;\n",
       "    }\n",
       "\n",
       "    .dataframe thead th {\n",
       "        text-align: right;\n",
       "    }\n",
       "</style>\n",
       "<table border=\"1\" class=\"dataframe\">\n",
       "  <thead>\n",
       "    <tr style=\"text-align: right;\">\n",
       "      <th></th>\n",
       "      <th>uid</th>\n",
       "      <th>song_id</th>\n",
       "      <th>comp_play_last_7</th>\n",
       "      <th>comp_play_last_14</th>\n",
       "      <th>comp_play_last_21</th>\n",
       "      <th>comp_play_last_30</th>\n",
       "      <th>comp_play_last_44</th>\n",
       "    </tr>\n",
       "  </thead>\n",
       "  <tbody>\n",
       "    <tr>\n",
       "      <th>0</th>\n",
       "      <td>168546317</td>\n",
       "      <td>7171098</td>\n",
       "      <td>0</td>\n",
       "      <td>0</td>\n",
       "      <td>0</td>\n",
       "      <td>0</td>\n",
       "      <td>0</td>\n",
       "    </tr>\n",
       "    <tr>\n",
       "      <th>1</th>\n",
       "      <td>168546877</td>\n",
       "      <td>77805</td>\n",
       "      <td>0</td>\n",
       "      <td>0</td>\n",
       "      <td>0</td>\n",
       "      <td>0</td>\n",
       "      <td>2</td>\n",
       "    </tr>\n",
       "    <tr>\n",
       "      <th>2</th>\n",
       "      <td>168552813</td>\n",
       "      <td>1148517</td>\n",
       "      <td>0</td>\n",
       "      <td>0</td>\n",
       "      <td>0</td>\n",
       "      <td>0</td>\n",
       "      <td>0</td>\n",
       "    </tr>\n",
       "    <tr>\n",
       "      <th>3</th>\n",
       "      <td>168553236</td>\n",
       "      <td>20674146</td>\n",
       "      <td>0</td>\n",
       "      <td>0</td>\n",
       "      <td>0</td>\n",
       "      <td>1</td>\n",
       "      <td>2</td>\n",
       "    </tr>\n",
       "    <tr>\n",
       "      <th>4</th>\n",
       "      <td>168553209</td>\n",
       "      <td>16540515</td>\n",
       "      <td>0</td>\n",
       "      <td>0</td>\n",
       "      <td>0</td>\n",
       "      <td>0</td>\n",
       "      <td>0</td>\n",
       "    </tr>\n",
       "  </tbody>\n",
       "</table>\n",
       "</div>"
      ],
      "text/plain": [
       "         uid   song_id  comp_play_last_7  comp_play_last_14  \\\n",
       "0  168546317   7171098                 0                  0   \n",
       "1  168546877     77805                 0                  0   \n",
       "2  168552813   1148517                 0                  0   \n",
       "3  168553236  20674146                 0                  0   \n",
       "4  168553209  16540515                 0                  0   \n",
       "\n",
       "   comp_play_last_21  comp_play_last_30  comp_play_last_44  \n",
       "0                  0                  0                  0  \n",
       "1                  0                  0                  2  \n",
       "2                  0                  0                  0  \n",
       "3                  0                  1                  2  \n",
       "4                  0                  0                  0  "
      ]
     },
     "execution_count": 25,
     "metadata": {},
     "output_type": "execute_result"
    }
   ],
   "source": [
    "pd.DataFrame(cmp_play_freq_list.take(5), columns=cmp_play_freq_list.columns)"
   ]
  },
  {
   "cell_type": "code",
   "execution_count": null,
   "metadata": {},
   "outputs": [],
   "source": []
  },
  {
   "cell_type": "markdown",
   "metadata": {},
   "source": [
    "### 3. combine all features into one dateframe\n",
    "##### freq_feature_list: 'uid' , 'song_id' with frequency of play/download  ----> list\n",
    "##### cmp_play_freq_list : 'uid', 'song_id' with frequency of completely played song ----> dataframe"
   ]
  },
  {
   "cell_type": "code",
   "execution_count": 26,
   "metadata": {},
   "outputs": [],
   "source": [
    "df_model1 = cmp_play_freq_list.join(freq_feature_list[0], on=['uid', 'song_id'], how='left')"
   ]
  },
  {
   "cell_type": "code",
   "execution_count": 27,
   "metadata": {},
   "outputs": [],
   "source": [
    "df_model2 = df_model1.join(freq_feature_list[1], on=['uid', 'song_id'], how='left')"
   ]
  },
  {
   "cell_type": "code",
   "execution_count": 28,
   "metadata": {},
   "outputs": [
    {
     "data": {
      "text/plain": [
       "['uid',\n",
       " 'song_id',\n",
       " 'comp_play_last_7',\n",
       " 'comp_play_last_14',\n",
       " 'comp_play_last_21',\n",
       " 'comp_play_last_30',\n",
       " 'comp_play_last_44',\n",
       " 'freq_P_last_7',\n",
       " 'freq_P_last_14',\n",
       " 'freq_P_last_21',\n",
       " 'freq_P_last_30',\n",
       " 'freq_P_last_44',\n",
       " 'freq_D_last_7',\n",
       " 'freq_D_last_14',\n",
       " 'freq_D_last_21',\n",
       " 'freq_D_last_30',\n",
       " 'freq_D_last_44']"
      ]
     },
     "execution_count": 28,
     "metadata": {},
     "output_type": "execute_result"
    }
   ],
   "source": [
    "df_model2.columns"
   ]
  },
  {
   "cell_type": "code",
   "execution_count": 29,
   "metadata": {},
   "outputs": [],
   "source": [
    "# 'recommender_model01_0116.csv' this model contain songs that played over 90% of song_length\n",
    "df_model2.fillna(0).toPandas().to_csv('/Users/fanyang/Documents/musicbox/data/recommender_model01_0116.csv')"
   ]
  },
  {
   "cell_type": "code",
   "execution_count": null,
   "metadata": {},
   "outputs": [],
   "source": []
  },
  {
   "cell_type": "code",
   "execution_count": null,
   "metadata": {},
   "outputs": [],
   "source": []
  },
  {
   "cell_type": "code",
   "execution_count": null,
   "metadata": {},
   "outputs": [],
   "source": []
  },
  {
   "cell_type": "markdown",
   "metadata": {},
   "source": [
    "### 4. generate features that contain songs has been play for half length"
   ]
  },
  {
   "cell_type": "code",
   "execution_count": null,
   "metadata": {},
   "outputs": [],
   "source": [
    "# a song that has been played over 50% of song_length is considered to be a complete song \n",
    "\n",
    "def half_play_freq(df, time_window_list, snapshot_date):\n",
    "    df_feature = df \\\n",
    "        .groupBy('uid', 'song_id') \\\n",
    "        .agg(*[F.sum(F.when((F.col('date')>=snapshot_date-datetime.timedelta(time_window-1)) \\\n",
    "                            & (F.col('date')<=snapshot_date) \\\n",
    "                            & (F.col('play_time')/F.col('song_length')>=0.5),1).otherwise(0))\\\n",
    "               .alias('half_play_last_'+str(time_window)) \\\n",
    "                for time_window in time_window_list])\n",
    "    return df_feature\n",
    "\n",
    "time_window_list = [7,14,21,30,44]\n",
    "snapshot_date = recommend_time_endtime\n",
    "half_play_freq_list = half_play_freq(df_play_select_2, time_window_list, snapshot_date)"
   ]
  },
  {
   "cell_type": "code",
   "execution_count": null,
   "metadata": {},
   "outputs": [],
   "source": [
    "df_model3 = half_play_freq_list.join(freq_feature_list[0], on=['uid', 'song_id'], how='left')"
   ]
  },
  {
   "cell_type": "code",
   "execution_count": null,
   "metadata": {},
   "outputs": [],
   "source": [
    "df_model4 = df_model3.join(freq_feature_list[1], on=['uid', 'song_id'], how='left')"
   ]
  },
  {
   "cell_type": "code",
   "execution_count": null,
   "metadata": {},
   "outputs": [],
   "source": [
    "df_model4.columns"
   ]
  },
  {
   "cell_type": "code",
   "execution_count": null,
   "metadata": {},
   "outputs": [],
   "source": [
    "# 'recommender_model_02h_0116.csv' this model contain songs that played over 50% of song_length\n",
    "df_model4.fillna(0).toPandas().to_csv('/Users/fanyang/Documents/musicbox/data/recommender_model_02h_0116.csv')"
   ]
  },
  {
   "cell_type": "code",
   "execution_count": null,
   "metadata": {},
   "outputs": [],
   "source": []
  },
  {
   "cell_type": "code",
   "execution_count": null,
   "metadata": {},
   "outputs": [],
   "source": []
  }
 ],
 "metadata": {
  "kernelspec": {
   "display_name": "Python 3",
   "language": "python",
   "name": "python3"
  },
  "language_info": {
   "codemirror_mode": {
    "name": "ipython",
    "version": 3
   },
   "file_extension": ".py",
   "mimetype": "text/x-python",
   "name": "python",
   "nbconvert_exporter": "python",
   "pygments_lexer": "ipython3",
   "version": "3.7.1"
  }
 },
 "nbformat": 4,
 "nbformat_minor": 2
}
